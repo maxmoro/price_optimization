{
 "cells": [
  {
   "cell_type": "markdown",
   "metadata": {},
   "source": [
    "# Init"
   ]
  },
  {
   "cell_type": "code",
   "execution_count": 2,
   "metadata": {},
   "outputs": [
    {
     "data": {
      "text/plain": [
       "'C:\\\\max\\\\Google Drive Max\\\\Max Shared\\\\Master Data Science\\\\2020-05 Capstone A\\\\msds_capstone\\\\data\\\\'"
      ]
     },
     "execution_count": 2,
     "metadata": {},
     "output_type": "execute_result"
    }
   ],
   "source": [
    "import pandas as pd\n",
    "import numpy as np\n",
    "import os\n",
    "import math\n",
    "import matplotlib.pyplot as plt\n",
    "import glob\n",
    "from scipy.spatial.distance import euclidean, pdist, squareform\n",
    "import sys\n",
    "sys.path.append(os.environ['CAPSTONE_PYTHON_SOURCE'])\n",
    "#setting path to the env variable\n",
    "folder = os.environ['CAPSTONE_DATA']\n",
    "folder"
   ]
  },
  {
   "cell_type": "code",
   "execution_count": 171,
   "metadata": {},
   "outputs": [
    {
     "name": "stdout",
     "output_type": "stream",
     "text": [
      "The autoreload extension is already loaded. To reload it, use:\n",
      "  %reload_ext autoreload\n"
     ]
    }
   ],
   "source": [
    "%load_ext autoreload\n",
    "%autoreload 2\n"
   ]
  },
  {
   "cell_type": "markdown",
   "metadata": {},
   "source": [
    "# Loading Dataset"
   ]
  },
  {
   "cell_type": "code",
   "execution_count": 1,
   "metadata": {},
   "outputs": [
    {
     "ename": "ModuleNotFoundError",
     "evalue": "No module named 'ETL'",
     "output_type": "error",
     "traceback": [
      "\u001b[1;31m---------------------------------------------------------------------------\u001b[0m",
      "\u001b[1;31mModuleNotFoundError\u001b[0m                       Traceback (most recent call last)",
      "\u001b[1;32m<ipython-input-1-c6986f0d4549>\u001b[0m in \u001b[0;36m<module>\u001b[1;34m\u001b[0m\n\u001b[1;32m----> 1\u001b[1;33m \u001b[1;32mfrom\u001b[0m \u001b[0mETL\u001b[0m\u001b[1;33m.\u001b[0m\u001b[0mETL\u001b[0m \u001b[1;32mimport\u001b[0m \u001b[0mloadDataset\u001b[0m\u001b[1;33m,\u001b[0m \u001b[0mgetTopProducts\u001b[0m\u001b[1;33m\u001b[0m\u001b[1;33m\u001b[0m\u001b[0m\n\u001b[0m\u001b[0;32m      2\u001b[0m \u001b[1;32mfrom\u001b[0m \u001b[0msimilarity\u001b[0m\u001b[1;33m.\u001b[0m\u001b[0msimilarity\u001b[0m \u001b[1;32mimport\u001b[0m \u001b[0mmergeTopSimilar\u001b[0m\u001b[1;33m,\u001b[0m \u001b[0mloadSimilarity\u001b[0m\u001b[1;33m\u001b[0m\u001b[1;33m\u001b[0m\u001b[0m\n\u001b[0;32m      3\u001b[0m \u001b[0mdataRaw\u001b[0m\u001b[1;33m=\u001b[0m \u001b[0mloadDataset\u001b[0m\u001b[1;33m(\u001b[0m\u001b[0mversion\u001b[0m\u001b[1;33m=\u001b[0m\u001b[1;36m3\u001b[0m\u001b[1;33m)\u001b[0m\u001b[1;33m\u001b[0m\u001b[1;33m\u001b[0m\u001b[0m\n\u001b[0;32m      4\u001b[0m \u001b[0mdfSimilarity\u001b[0m \u001b[1;33m=\u001b[0m \u001b[0mloadSimilarity\u001b[0m\u001b[1;33m(\u001b[0m\u001b[0mversion\u001b[0m\u001b[1;33m=\u001b[0m\u001b[1;36m3\u001b[0m\u001b[1;33m)\u001b[0m\u001b[1;33m\u001b[0m\u001b[1;33m\u001b[0m\u001b[0m\n\u001b[0;32m      5\u001b[0m \u001b[0mdfSimilarityAll\u001b[0m \u001b[1;33m=\u001b[0m \u001b[0mloadSimilarity\u001b[0m\u001b[1;33m(\u001b[0m\u001b[0mversion\u001b[0m\u001b[1;33m=\u001b[0m\u001b[1;36m3\u001b[0m\u001b[1;33m,\u001b[0m\u001b[0mallCustomers\u001b[0m\u001b[1;33m=\u001b[0m\u001b[1;32mTrue\u001b[0m\u001b[1;33m)\u001b[0m\u001b[1;33m\u001b[0m\u001b[1;33m\u001b[0m\u001b[0m\n",
      "\u001b[1;31mModuleNotFoundError\u001b[0m: No module named 'ETL'"
     ]
    }
   ],
   "source": [
    "from ETL.ETL import loadDataset, getTopProducts\n",
    "from similarity.similarity import mergeTopSimilar, loadSimilarity\n",
    "dataRaw= loadDataset(version=3)\n",
    "dfSimilarity = loadSimilarity(version=3)\n",
    "dfSimilarityAll = loadSimilarity(version=3,allCustomers=True)\n"
   ]
  },
  {
   "cell_type": "code",
   "execution_count": 53,
   "metadata": {},
   "outputs": [],
   "source": [
    "#Parameters\n",
    "ChainMaster = 'INDEPENDENTS'\n",
    "ProdCat='SUP PREM WHISKEY'\n",
    "#Customer = 'TWIN PEAKS LIQUOR'"
   ]
  },
  {
   "cell_type": "code",
   "execution_count": 54,
   "metadata": {},
   "outputs": [
    {
     "data": {
      "text/plain": [
       "['JACK DANIELS BLK WHSKY  1L',\n",
       " 'JACK DANIELS BLK WHSKY  750M',\n",
       " 'JACK DANIELS BLK WHSKY  1.75L',\n",
       " 'JACK DANIELS BLK WHSKY FLSK PET 375M',\n",
       " 'JACK DANIELS BLK WHSKY RD 375M']"
      ]
     },
     "execution_count": 54,
     "metadata": {},
     "output_type": "execute_result"
    }
   ],
   "source": [
    "\n",
    "prods = getTopProducts(dataRaw,ChainMaster=ChainMaster,ProdCat=ProdCat,topN=5)\n",
    "prods"
   ]
  },
  {
   "cell_type": "code",
   "execution_count": 56,
   "metadata": {},
   "outputs": [
    {
     "name": "stdout",
     "output_type": "stream",
     "text": [
      "['0', '1', '2', '3', 'Dollar Sales per 9L Case']\n",
      "{'0': 'JACK DANIELS BLK WHSKY  1.75L', '1': 'JACK DANIELS GRN  1L', '2': 'JACK DANIELS BLK WHSKY 3PK W/2L COKE 1.75L', '3': 'JACK DANIELS GRN  1.75L'}\n",
      "(84, 8)\n"
     ]
    },
    {
     "data": {
      "text/html": [
       "<div>\n",
       "<style scoped>\n",
       "    .dataframe tbody tr th:only-of-type {\n",
       "        vertical-align: middle;\n",
       "    }\n",
       "\n",
       "    .dataframe tbody tr th {\n",
       "        vertical-align: top;\n",
       "    }\n",
       "\n",
       "    .dataframe thead th {\n",
       "        text-align: right;\n",
       "    }\n",
       "</style>\n",
       "<table border=\"1\" class=\"dataframe\">\n",
       "  <thead>\n",
       "    <tr style=\"text-align: right;\">\n",
       "      <th></th>\n",
       "      <th>Month</th>\n",
       "      <th>Product</th>\n",
       "      <th>9L Cases</th>\n",
       "      <th>Dollar Sales per 9L Case</th>\n",
       "      <th>0</th>\n",
       "      <th>1</th>\n",
       "      <th>2</th>\n",
       "      <th>3</th>\n",
       "    </tr>\n",
       "  </thead>\n",
       "  <tbody>\n",
       "    <tr>\n",
       "      <th>0</th>\n",
       "      <td>2013-01-01</td>\n",
       "      <td>JACK DANIELS BLK WHSKY  1L</td>\n",
       "      <td>16.623</td>\n",
       "      <td>2410.397794</td>\n",
       "      <td>1445.683761</td>\n",
       "      <td>588.094899</td>\n",
       "      <td>0.000000</td>\n",
       "      <td>618.051282</td>\n",
       "    </tr>\n",
       "    <tr>\n",
       "      <th>1</th>\n",
       "      <td>2013-02-01</td>\n",
       "      <td>JACK DANIELS BLK WHSKY  1L</td>\n",
       "      <td>22.943</td>\n",
       "      <td>3284.940090</td>\n",
       "      <td>1617.427350</td>\n",
       "      <td>195.945946</td>\n",
       "      <td>0.000000</td>\n",
       "      <td>310.564103</td>\n",
       "    </tr>\n",
       "    <tr>\n",
       "      <th>2</th>\n",
       "      <td>2013-03-01</td>\n",
       "      <td>JACK DANIELS BLK WHSKY  1L</td>\n",
       "      <td>26.711</td>\n",
       "      <td>2847.336190</td>\n",
       "      <td>1623.051282</td>\n",
       "      <td>196.203008</td>\n",
       "      <td>183.568966</td>\n",
       "      <td>153.743590</td>\n",
       "    </tr>\n",
       "    <tr>\n",
       "      <th>3</th>\n",
       "      <td>2013-04-01</td>\n",
       "      <td>JACK DANIELS BLK WHSKY  1L</td>\n",
       "      <td>8.423</td>\n",
       "      <td>1753.375238</td>\n",
       "      <td>902.273504</td>\n",
       "      <td>195.945946</td>\n",
       "      <td>1442.689655</td>\n",
       "      <td>462.769231</td>\n",
       "    </tr>\n",
       "    <tr>\n",
       "      <th>4</th>\n",
       "      <td>2013-05-01</td>\n",
       "      <td>JACK DANIELS BLK WHSKY  1L</td>\n",
       "      <td>23.164</td>\n",
       "      <td>2847.198445</td>\n",
       "      <td>2171.096154</td>\n",
       "      <td>196.203008</td>\n",
       "      <td>0.000000</td>\n",
       "      <td>462.769231</td>\n",
       "    </tr>\n",
       "  </tbody>\n",
       "</table>\n",
       "</div>"
      ],
      "text/plain": [
       "       Month                     Product  9L Cases  Dollar Sales per 9L Case  \\\n",
       "0 2013-01-01  JACK DANIELS BLK WHSKY  1L    16.623               2410.397794   \n",
       "1 2013-02-01  JACK DANIELS BLK WHSKY  1L    22.943               3284.940090   \n",
       "2 2013-03-01  JACK DANIELS BLK WHSKY  1L    26.711               2847.336190   \n",
       "3 2013-04-01  JACK DANIELS BLK WHSKY  1L     8.423               1753.375238   \n",
       "4 2013-05-01  JACK DANIELS BLK WHSKY  1L    23.164               2847.198445   \n",
       "\n",
       "             0           1            2           3  \n",
       "0  1445.683761  588.094899     0.000000  618.051282  \n",
       "1  1617.427350  195.945946     0.000000  310.564103  \n",
       "2  1623.051282  196.203008   183.568966  153.743590  \n",
       "3   902.273504  195.945946  1442.689655  462.769231  \n",
       "4  2171.096154  196.203008     0.000000  462.769231  "
      ]
     },
     "execution_count": 56,
     "metadata": {},
     "output_type": "execute_result"
    }
   ],
   "source": [
    "\n",
    "prod = prods[0]\n",
    "colTime = 'Month'\n",
    "colPreds = ['9L Cases'] #Demand\n",
    "\n",
    "\n",
    "#add function to get the top products ##DONBE\n",
    "#create encoder/decoder for the product names ##DONE\n",
    "#add filter only for the category of product. DONE\n",
    "#add top nproduct based on avg revenue  per month for full dataset   calculate since the first month of product.. limit at least for 24 months DONE\n",
    "\n",
    "#REMOVE current product in the pivot\n",
    "(dataModel,colExog,colEnc,colDec) = mergeTopSimilar(dataRaw,dfSimilarity\n",
    "                                                    ,ChainMaster=ChainMaster\n",
    "                                                    ,Product=prod\n",
    "                                                    ,topn=5 \n",
    "                                                     ,selCols =  colPreds + colEndog,periodCol = colTime\n",
    "                                                    ,pivotCol='Dollar Sales per 9L Case' \n",
    "                                                    ,encodeCols=True)\n",
    "                                                                        \n",
    "colExog = colExog + ['Dollar Sales per 9L Case'] #Price\n",
    "print(colExog)\n",
    "print(colDec)\n",
    "print(dataModel.shape)\n",
    "dataModel.head(5)"
   ]
  },
  {
   "cell_type": "markdown",
   "metadata": {},
   "source": [
    "# Statsmodels\n"
   ]
  },
  {
   "cell_type": "code",
   "execution_count": 57,
   "metadata": {},
   "outputs": [],
   "source": [
    "import statsmodels.api as sm"
   ]
  },
  {
   "cell_type": "markdown",
   "metadata": {},
   "source": [
    "Set index to date"
   ]
  },
  {
   "cell_type": "code",
   "execution_count": 58,
   "metadata": {},
   "outputs": [
    {
     "data": {
      "text/plain": [
       "DatetimeIndex(['2013-01-01', '2013-02-01', '2013-03-01', '2013-04-01',\n",
       "               '2013-05-01', '2013-06-01', '2013-07-01', '2013-08-01',\n",
       "               '2013-09-01', '2013-10-01', '2013-11-01', '2013-12-01',\n",
       "               '2014-01-01', '2014-02-01', '2014-03-01', '2014-04-01',\n",
       "               '2014-05-01', '2014-06-01', '2014-07-01', '2014-08-01',\n",
       "               '2014-09-01', '2014-10-01', '2014-11-01', '2014-12-01',\n",
       "               '2015-01-01', '2015-02-01', '2015-03-01', '2015-04-01',\n",
       "               '2015-05-01', '2015-06-01', '2015-07-01', '2015-08-01',\n",
       "               '2015-09-01', '2015-10-01', '2015-11-01', '2015-12-01',\n",
       "               '2016-01-01', '2016-02-01', '2016-03-01', '2016-04-01',\n",
       "               '2016-05-01', '2016-06-01', '2016-07-01', '2016-08-01',\n",
       "               '2016-09-01', '2016-10-01', '2016-11-01', '2016-12-01',\n",
       "               '2017-01-01', '2017-02-01', '2017-03-01', '2017-04-01',\n",
       "               '2017-05-01', '2017-06-01', '2017-07-01', '2017-08-01',\n",
       "               '2017-09-01', '2017-10-01', '2017-11-01', '2017-12-01',\n",
       "               '2018-01-01', '2018-02-01', '2018-03-01', '2018-04-01',\n",
       "               '2018-05-01', '2018-06-01', '2018-07-01', '2018-08-01',\n",
       "               '2018-09-01', '2018-10-01', '2018-11-01', '2018-12-01',\n",
       "               '2019-01-01', '2019-02-01', '2019-03-01', '2019-04-01',\n",
       "               '2019-05-01', '2019-06-01', '2019-07-01', '2019-08-01',\n",
       "               '2019-09-01', '2019-10-01', '2019-11-01', '2019-12-01'],\n",
       "              dtype='datetime64[ns]', name='Month', freq='MS')"
      ]
     },
     "execution_count": 58,
     "metadata": {},
     "output_type": "execute_result"
    }
   ],
   "source": [
    "data=dataModel\n",
    "data.index = data[colTime]\n",
    "data=data.asfreq(freq=pd.offsets.MonthBegin())\n",
    "data.index\n"
   ]
  },
  {
   "cell_type": "markdown",
   "metadata": {},
   "source": [
    "## SARIMAX\n",
    "\n",
    "https://www.statsmodels.org/dev/examples/notebooks/generated/statespace_sarimax_stata.html#ARIMA-Example-4:-ARMAX-(Friedman)"
   ]
  },
  {
   "cell_type": "markdown",
   "metadata": {},
   "source": [
    "## Split Train Test"
   ]
  },
  {
   "cell_type": "code",
   "execution_count": 80,
   "metadata": {},
   "outputs": [],
   "source": [
    "dataTrain = data.iloc[:-3,]\n",
    "dataTest = data.iloc[-3:,]\n",
    "dataTrain.shape,dataTest.shape\n",
    "dataTrain.to_csv('../R_ARIMA/dataTrain.csv')"
   ]
  },
  {
   "cell_type": "markdown",
   "metadata": {},
   "source": [
    "### Model"
   ]
  },
  {
   "cell_type": "code",
   "execution_count": 94,
   "metadata": {},
   "outputs": [
    {
     "data": {
      "text/html": [
       "<div>\n",
       "<style scoped>\n",
       "    .dataframe tbody tr th:only-of-type {\n",
       "        vertical-align: middle;\n",
       "    }\n",
       "\n",
       "    .dataframe tbody tr th {\n",
       "        vertical-align: top;\n",
       "    }\n",
       "\n",
       "    .dataframe thead th {\n",
       "        text-align: right;\n",
       "    }\n",
       "</style>\n",
       "<table border=\"1\" class=\"dataframe\">\n",
       "  <thead>\n",
       "    <tr style=\"text-align: right;\">\n",
       "      <th></th>\n",
       "      <th>9L Cases</th>\n",
       "    </tr>\n",
       "    <tr>\n",
       "      <th>Month</th>\n",
       "      <th></th>\n",
       "    </tr>\n",
       "  </thead>\n",
       "  <tbody>\n",
       "    <tr>\n",
       "      <th>2013-01-01</th>\n",
       "      <td>16.623</td>\n",
       "    </tr>\n",
       "    <tr>\n",
       "      <th>2013-02-01</th>\n",
       "      <td>22.943</td>\n",
       "    </tr>\n",
       "    <tr>\n",
       "      <th>2013-03-01</th>\n",
       "      <td>26.711</td>\n",
       "    </tr>\n",
       "    <tr>\n",
       "      <th>2013-04-01</th>\n",
       "      <td>8.423</td>\n",
       "    </tr>\n",
       "    <tr>\n",
       "      <th>2013-05-01</th>\n",
       "      <td>23.164</td>\n",
       "    </tr>\n",
       "  </tbody>\n",
       "</table>\n",
       "</div>"
      ],
      "text/plain": [
       "            9L Cases\n",
       "Month               \n",
       "2013-01-01    16.623\n",
       "2013-02-01    22.943\n",
       "2013-03-01    26.711\n",
       "2013-04-01     8.423\n",
       "2013-05-01    23.164"
      ]
     },
     "metadata": {},
     "output_type": "display_data"
    },
    {
     "data": {
      "text/html": [
       "<div>\n",
       "<style scoped>\n",
       "    .dataframe tbody tr th:only-of-type {\n",
       "        vertical-align: middle;\n",
       "    }\n",
       "\n",
       "    .dataframe tbody tr th {\n",
       "        vertical-align: top;\n",
       "    }\n",
       "\n",
       "    .dataframe thead th {\n",
       "        text-align: right;\n",
       "    }\n",
       "</style>\n",
       "<table border=\"1\" class=\"dataframe\">\n",
       "  <thead>\n",
       "    <tr style=\"text-align: right;\">\n",
       "      <th></th>\n",
       "      <th>Dollar Sales per 9L Case</th>\n",
       "      <th>0</th>\n",
       "      <th>1</th>\n",
       "      <th>2</th>\n",
       "      <th>3</th>\n",
       "      <th>Dollar Sales per 9L Case</th>\n",
       "    </tr>\n",
       "    <tr>\n",
       "      <th>Month</th>\n",
       "      <th></th>\n",
       "      <th></th>\n",
       "      <th></th>\n",
       "      <th></th>\n",
       "      <th></th>\n",
       "      <th></th>\n",
       "    </tr>\n",
       "  </thead>\n",
       "  <tbody>\n",
       "    <tr>\n",
       "      <th>2013-01-01</th>\n",
       "      <td>2410.397794</td>\n",
       "      <td>1445.683761</td>\n",
       "      <td>588.094899</td>\n",
       "      <td>0.000000</td>\n",
       "      <td>618.051282</td>\n",
       "      <td>2410.397794</td>\n",
       "    </tr>\n",
       "    <tr>\n",
       "      <th>2013-02-01</th>\n",
       "      <td>3284.940090</td>\n",
       "      <td>1617.427350</td>\n",
       "      <td>195.945946</td>\n",
       "      <td>0.000000</td>\n",
       "      <td>310.564103</td>\n",
       "      <td>3284.940090</td>\n",
       "    </tr>\n",
       "    <tr>\n",
       "      <th>2013-03-01</th>\n",
       "      <td>2847.336190</td>\n",
       "      <td>1623.051282</td>\n",
       "      <td>196.203008</td>\n",
       "      <td>183.568966</td>\n",
       "      <td>153.743590</td>\n",
       "      <td>2847.336190</td>\n",
       "    </tr>\n",
       "    <tr>\n",
       "      <th>2013-04-01</th>\n",
       "      <td>1753.375238</td>\n",
       "      <td>902.273504</td>\n",
       "      <td>195.945946</td>\n",
       "      <td>1442.689655</td>\n",
       "      <td>462.769231</td>\n",
       "      <td>1753.375238</td>\n",
       "    </tr>\n",
       "    <tr>\n",
       "      <th>2013-05-01</th>\n",
       "      <td>2847.198445</td>\n",
       "      <td>2171.096154</td>\n",
       "      <td>196.203008</td>\n",
       "      <td>0.000000</td>\n",
       "      <td>462.769231</td>\n",
       "      <td>2847.198445</td>\n",
       "    </tr>\n",
       "  </tbody>\n",
       "</table>\n",
       "</div>"
      ],
      "text/plain": [
       "            Dollar Sales per 9L Case            0           1            2  \\\n",
       "Month                                                                        \n",
       "2013-01-01               2410.397794  1445.683761  588.094899     0.000000   \n",
       "2013-02-01               3284.940090  1617.427350  195.945946     0.000000   \n",
       "2013-03-01               2847.336190  1623.051282  196.203008   183.568966   \n",
       "2013-04-01               1753.375238   902.273504  195.945946  1442.689655   \n",
       "2013-05-01               2847.198445  2171.096154  196.203008     0.000000   \n",
       "\n",
       "                     3  Dollar Sales per 9L Case  \n",
       "Month                                             \n",
       "2013-01-01  618.051282               2410.397794  \n",
       "2013-02-01  310.564103               3284.940090  \n",
       "2013-03-01  153.743590               2847.336190  \n",
       "2013-04-01  462.769231               1753.375238  \n",
       "2013-05-01  462.769231               2847.198445  "
      ]
     },
     "metadata": {},
     "output_type": "display_data"
    }
   ],
   "source": [
    "#variables\n",
    "endogTrain = dataTrain[colPreds]\n",
    "exogTrain =dataTrain[colEndog + colExog ]\n",
    "display(endogTrain.head(5),exogTrain.head(5))"
   ]
  },
  {
   "cell_type": "code",
   "execution_count": 127,
   "metadata": {},
   "outputs": [
    {
     "data": {
      "image/png": "[encoded data removed]",
      "text/plain": [
       "<Figure size 864x576 with 1 Axes>"
      ]
     },
     "metadata": {
      "needs_background": "light"
     },
     "output_type": "display_data"
    },
    {
     "name": "stdout",
     "output_type": "stream",
     "text": [
      "Results of Dickey-Fuller Test:\n",
      "p-value = 0.1044. The series is likely non-stationary.\n",
      "Test Statistic                 -2.547032\n",
      "p-value                         0.104446\n",
      "#Lags Used                     15.000000\n",
      "Number of Observations Used    65.000000\n",
      "Critical Value (1%)            -3.535217\n",
      "Critical Value (5%)            -2.907154\n",
      "Critical Value (10%)           -2.591103\n",
      "dtype: float64\n"
     ]
    }
   ],
   "source": [
    "from statsmodels.tsa.stattools import adfuller\n",
    "def test_stationarity(timeseries, window = 12, cutoff = 0.01):\n",
    "\n",
    "    #Determing rolling statistics\n",
    "    rolmean = timeseries.rolling(window).mean()\n",
    "    rolstd = timeseries.rolling(window).std()\n",
    "\n",
    "    #Plot rolling statistics:\n",
    "    fig = plt.figure(figsize=(12, 8))\n",
    "    orig = plt.plot(timeseries, color='blue',label='Original')\n",
    "    mean = plt.plot(rolmean, color='red', label='Rolling Mean')\n",
    "    std = plt.plot(rolstd, color='black', label = 'Rolling Std')\n",
    "    plt.legend(loc='best')\n",
    "    plt.title('Rolling Mean & Standard Deviation')\n",
    "    plt.show()\n",
    "    \n",
    "    #Perform Dickey-Fuller test:\n",
    "    print('Results of Dickey-Fuller Test:')\n",
    "    dftest = adfuller(timeseries, autolag='AIC', maxlag = 20 )\n",
    "    dfoutput = pd.Series(dftest[0:4], index=['Test Statistic','p-value','#Lags Used','Number of Observations Used'])\n",
    "    for key,value in dftest[4].items():\n",
    "        dfoutput['Critical Value (%s)'%key] = value\n",
    "    pvalue = dftest[1]\n",
    "    if pvalue < cutoff:\n",
    "        print('p-value = %.4f. The series is likely stationary.' % pvalue)\n",
    "    else:\n",
    "        print('p-value = %.4f. The series is likely non-stationary.' % pvalue)\n",
    "    \n",
    "    print(dfoutput)\n",
    "    \n",
    "test_stationarity(dataTrain['9L Cases'])\n"
   ]
  },
  {
   "cell_type": "code",
   "execution_count": 133,
   "metadata": {},
   "outputs": [
    {
     "data": {
      "image/png": "[encoded data removed]",
      "text/plain": [
       "<Figure size 1080x288 with 2 Axes>"
      ]
     },
     "metadata": {
      "needs_background": "light"
     },
     "output_type": "display_data"
    }
   ],
   "source": [
    "# Graph data\n",
    "#https://www.kaggle.com/sumi25/understand-arima-and-tune-p-d-q\n",
    "fig, axes = plt.subplots(1, 2, figsize=(15,4))\n",
    "fig = sm.graphics.tsa.plot_acf(dataTrain.iloc[1:]['9L Cases'], lags=24, ax=axes[0])\n",
    "fig = sm.graphics.tsa.plot_pacf(dataTrain.iloc[1:]['9L Cases'], lags=24, ax=axes[1])\n",
    "\n"
   ]
  },
  {
   "cell_type": "code",
   "execution_count": 160,
   "metadata": {},
   "outputs": [
    {
     "name": "stdout",
     "output_type": "stream",
     "text": [
      "                                      SARIMAX Results                                      \n",
      "===========================================================================================\n",
      "Dep. Variable:                            9L Cases   No. Observations:                   81\n",
      "Model:             SARIMAX(1, 1, 1)x(0, 1, [], 12)   Log Likelihood                -213.243\n",
      "Date:                             Sat, 27 Jun 2020   AIC                            444.486\n",
      "Time:                                     21:02:37   BIC                            464.461\n",
      "Sample:                                 01-01-2013   HQIC                           452.401\n",
      "                                      - 09-01-2019                                         \n",
      "Covariance Type:                               opg                                         \n",
      "============================================================================================\n",
      "                               coef    std err          z      P>|z|      [0.025      0.975]\n",
      "--------------------------------------------------------------------------------------------\n",
      "Dollar Sales per 9L Case     0.0031      0.001      4.397      0.000       0.002       0.005\n",
      "0                            0.0009      0.001      0.621      0.535      -0.002       0.004\n",
      "1                           -0.0008      0.006     -0.128      0.898      -0.013       0.011\n",
      "2                            0.0002      0.001      0.219      0.827      -0.002       0.002\n",
      "3                            0.0015      0.006      0.274      0.784      -0.009       0.013\n",
      "Dollar Sales per 9L Case     0.0031      0.001      4.397      0.000       0.002       0.005\n",
      "ar.L1                       -0.3125      0.209     -1.496      0.135      -0.722       0.097\n",
      "ma.L1                       -0.7705      0.130     -5.946      0.000      -1.024      -0.517\n",
      "sigma2                      37.5226     10.113      3.710      0.000      17.701      57.344\n",
      "===================================================================================\n",
      "Ljung-Box (Q):                       50.96   Jarque-Bera (JB):                 2.36\n",
      "Prob(Q):                              0.11   Prob(JB):                         0.31\n",
      "Heteroskedasticity (H):               1.86   Skew:                             0.30\n",
      "Prob(H) (two-sided):                  0.14   Kurtosis:                         3.68\n",
      "===================================================================================\n",
      "\n",
      "Warnings:\n",
      "[1] Covariance matrix calculated using the outer product of gradients (complex-step).\n",
      "[2] Covariance matrix is singular or near-singular, with condition number 1.56e+20. Standard errors may be unstable.\n"
     ]
    }
   ],
   "source": [
    "# Fit the model\n",
    "mod = sm.tsa.statespace.SARIMAX(endogTrain, exogTrain, order=(1,1,1),seasonal_order=(0,1,0,12))\n",
    "res = mod.fit(disp=False)\n",
    "print(res.summary())"
   ]
  },
  {
   "cell_type": "markdown",
   "metadata": {},
   "source": [
    "### Prediction\n",
    "\n",
    "https://www.statsmodels.org/dev/examples/notebooks/generated/statespace_forecasting.html\n"
   ]
  },
  {
   "cell_type": "code",
   "execution_count": 161,
   "metadata": {},
   "outputs": [
    {
     "data": {
      "text/plain": [
       "Month\n",
       "2017-01-01    30.345998\n",
       "2017-02-01    24.474153\n",
       "2017-03-01    26.382977\n",
       "Freq: MS, dtype: float64"
      ]
     },
     "execution_count": 161,
     "metadata": {},
     "output_type": "execute_result"
    }
   ],
   "source": [
    "res.predict(dynamic=False,steps=1,start='2017-01-01')[0:3]"
   ]
  },
  {
   "cell_type": "code",
   "execution_count": 162,
   "metadata": {},
   "outputs": [
    {
     "data": {
      "text/html": [
       "<div>\n",
       "<style scoped>\n",
       "    .dataframe tbody tr th:only-of-type {\n",
       "        vertical-align: middle;\n",
       "    }\n",
       "\n",
       "    .dataframe tbody tr th {\n",
       "        vertical-align: top;\n",
       "    }\n",
       "\n",
       "    .dataframe thead th {\n",
       "        text-align: right;\n",
       "    }\n",
       "</style>\n",
       "<table border=\"1\" class=\"dataframe\">\n",
       "  <thead>\n",
       "    <tr style=\"text-align: right;\">\n",
       "      <th>9L Cases</th>\n",
       "      <th>mean</th>\n",
       "      <th>mean_se</th>\n",
       "      <th>mean_ci_lower</th>\n",
       "      <th>mean_ci_upper</th>\n",
       "    </tr>\n",
       "    <tr>\n",
       "      <th>Month</th>\n",
       "      <th></th>\n",
       "      <th></th>\n",
       "      <th></th>\n",
       "      <th></th>\n",
       "    </tr>\n",
       "  </thead>\n",
       "  <tbody>\n",
       "    <tr>\n",
       "      <th>2017-01-01</th>\n",
       "      <td>30.345998</td>\n",
       "      <td>6.125567</td>\n",
       "      <td>18.340108</td>\n",
       "      <td>42.351889</td>\n",
       "    </tr>\n",
       "    <tr>\n",
       "      <th>2017-02-01</th>\n",
       "      <td>23.896777</td>\n",
       "      <td>6.146614</td>\n",
       "      <td>11.849635</td>\n",
       "      <td>35.943919</td>\n",
       "    </tr>\n",
       "    <tr>\n",
       "      <th>2017-03-01</th>\n",
       "      <td>28.033454</td>\n",
       "      <td>6.342611</td>\n",
       "      <td>15.602165</td>\n",
       "      <td>40.464743</td>\n",
       "    </tr>\n",
       "  </tbody>\n",
       "</table>\n",
       "</div>"
      ],
      "text/plain": [
       "9L Cases         mean   mean_se  mean_ci_lower  mean_ci_upper\n",
       "Month                                                        \n",
       "2017-01-01  30.345998  6.125567      18.340108      42.351889\n",
       "2017-02-01  23.896777  6.146614      11.849635      35.943919\n",
       "2017-03-01  28.033454  6.342611      15.602165      40.464743"
      ]
     },
     "execution_count": 162,
     "metadata": {},
     "output_type": "execute_result"
    }
   ],
   "source": [
    "res.get_prediction(start='2017-01-01',dynamic=True, full_results=True).summary_frame()[0:3]"
   ]
  },
  {
   "cell_type": "markdown",
   "metadata": {},
   "source": [
    "### Prediction with Exogenous vars"
   ]
  },
  {
   "cell_type": "markdown",
   "metadata": {},
   "source": [
    "Creating future set of exog vars\n",
    "https://machinelearningmastery.com/time-series-forecasting-methods-in-python-cheat-sheet/"
   ]
  },
  {
   "cell_type": "code",
   "execution_count": 164,
   "metadata": {},
   "outputs": [
    {
     "data": {
      "text/html": [
       "<div>\n",
       "<style scoped>\n",
       "    .dataframe tbody tr th:only-of-type {\n",
       "        vertical-align: middle;\n",
       "    }\n",
       "\n",
       "    .dataframe tbody tr th {\n",
       "        vertical-align: top;\n",
       "    }\n",
       "\n",
       "    .dataframe thead th {\n",
       "        text-align: right;\n",
       "    }\n",
       "</style>\n",
       "<table border=\"1\" class=\"dataframe\">\n",
       "  <thead>\n",
       "    <tr style=\"text-align: right;\">\n",
       "      <th></th>\n",
       "      <th>Dollar Sales per 9L Case</th>\n",
       "      <th>0</th>\n",
       "      <th>1</th>\n",
       "      <th>2</th>\n",
       "      <th>3</th>\n",
       "      <th>Dollar Sales per 9L Case</th>\n",
       "    </tr>\n",
       "    <tr>\n",
       "      <th>Month</th>\n",
       "      <th></th>\n",
       "      <th></th>\n",
       "      <th></th>\n",
       "      <th></th>\n",
       "      <th></th>\n",
       "      <th></th>\n",
       "    </tr>\n",
       "  </thead>\n",
       "  <tbody>\n",
       "    <tr>\n",
       "      <th>2019-10-01</th>\n",
       "      <td>3823.40256</td>\n",
       "      <td>1626.433048</td>\n",
       "      <td>0.0</td>\n",
       "      <td>2018.803448</td>\n",
       "      <td>179.538462</td>\n",
       "      <td>3823.40256</td>\n",
       "    </tr>\n",
       "  </tbody>\n",
       "</table>\n",
       "</div>"
      ],
      "text/plain": [
       "            Dollar Sales per 9L Case            0    1            2  \\\n",
       "Month                                                                 \n",
       "2019-10-01                3823.40256  1626.433048  0.0  2018.803448   \n",
       "\n",
       "                     3  Dollar Sales per 9L Case  \n",
       "Month                                             \n",
       "2019-10-01  179.538462                3823.40256  "
      ]
     },
     "execution_count": 164,
     "metadata": {},
     "output_type": "execute_result"
    }
   ],
   "source": [
    "endogTest = dataTest[colPreds]\n",
    "exogTest =dataTest[colEndog + colExog ]\n",
    "endogTest.shape,exogTest.shape\n",
    "exogTest.head(1)"
   ]
  },
  {
   "cell_type": "markdown",
   "metadata": {},
   "source": [
    "Prediction"
   ]
  },
  {
   "cell_type": "code",
   "execution_count": 165,
   "metadata": {},
   "outputs": [
    {
     "name": "stdout",
     "output_type": "stream",
     "text": [
      "2019-10-01    32.477167\n",
      "2019-11-01    42.249294\n",
      "2019-12-01    55.762753\n",
      "Freq: MS, dtype: float64\n"
     ]
    },
    {
     "data": {
      "text/html": [
       "<div>\n",
       "<style scoped>\n",
       "    .dataframe tbody tr th:only-of-type {\n",
       "        vertical-align: middle;\n",
       "    }\n",
       "\n",
       "    .dataframe tbody tr th {\n",
       "        vertical-align: top;\n",
       "    }\n",
       "\n",
       "    .dataframe thead th {\n",
       "        text-align: right;\n",
       "    }\n",
       "</style>\n",
       "<table border=\"1\" class=\"dataframe\">\n",
       "  <thead>\n",
       "    <tr style=\"text-align: right;\">\n",
       "      <th></th>\n",
       "      <th>Month</th>\n",
       "      <th>Product</th>\n",
       "      <th>9L Cases</th>\n",
       "      <th>Dollar Sales per 9L Case</th>\n",
       "      <th>0</th>\n",
       "      <th>1</th>\n",
       "      <th>2</th>\n",
       "      <th>3</th>\n",
       "    </tr>\n",
       "    <tr>\n",
       "      <th>Month</th>\n",
       "      <th></th>\n",
       "      <th></th>\n",
       "      <th></th>\n",
       "      <th></th>\n",
       "      <th></th>\n",
       "      <th></th>\n",
       "      <th></th>\n",
       "      <th></th>\n",
       "    </tr>\n",
       "  </thead>\n",
       "  <tbody>\n",
       "    <tr>\n",
       "      <th>2019-10-01</th>\n",
       "      <td>2019-10-01</td>\n",
       "      <td>JACK DANIELS BLK WHSKY  1L</td>\n",
       "      <td>36.687</td>\n",
       "      <td>3823.402560</td>\n",
       "      <td>1626.433048</td>\n",
       "      <td>0.000000</td>\n",
       "      <td>2018.803448</td>\n",
       "      <td>179.538462</td>\n",
       "    </tr>\n",
       "    <tr>\n",
       "      <th>2019-11-01</th>\n",
       "      <td>2019-11-01</td>\n",
       "      <td>JACK DANIELS BLK WHSKY  1L</td>\n",
       "      <td>40.011</td>\n",
       "      <td>4302.033466</td>\n",
       "      <td>1768.153846</td>\n",
       "      <td>217.984962</td>\n",
       "      <td>0.000000</td>\n",
       "      <td>0.000000</td>\n",
       "    </tr>\n",
       "    <tr>\n",
       "      <th>2019-12-01</th>\n",
       "      <td>2019-12-01</td>\n",
       "      <td>JACK DANIELS BLK WHSKY  1L</td>\n",
       "      <td>44.112</td>\n",
       "      <td>4063.029034</td>\n",
       "      <td>3333.435897</td>\n",
       "      <td>0.000000</td>\n",
       "      <td>0.000000</td>\n",
       "      <td>168.256410</td>\n",
       "    </tr>\n",
       "  </tbody>\n",
       "</table>\n",
       "</div>"
      ],
      "text/plain": [
       "                Month                     Product  9L Cases  \\\n",
       "Month                                                         \n",
       "2019-10-01 2019-10-01  JACK DANIELS BLK WHSKY  1L    36.687   \n",
       "2019-11-01 2019-11-01  JACK DANIELS BLK WHSKY  1L    40.011   \n",
       "2019-12-01 2019-12-01  JACK DANIELS BLK WHSKY  1L    44.112   \n",
       "\n",
       "            Dollar Sales per 9L Case            0           1            2  \\\n",
       "Month                                                                        \n",
       "2019-10-01               3823.402560  1626.433048    0.000000  2018.803448   \n",
       "2019-11-01               4302.033466  1768.153846  217.984962     0.000000   \n",
       "2019-12-01               4063.029034  3333.435897    0.000000     0.000000   \n",
       "\n",
       "                     3  \n",
       "Month                   \n",
       "2019-10-01  179.538462  \n",
       "2019-11-01    0.000000  \n",
       "2019-12-01  168.256410  "
      ]
     },
     "execution_count": 165,
     "metadata": {},
     "output_type": "execute_result"
    }
   ],
   "source": [
    "#https://machinelearningmastery.com/time-series-forecasting-methods-in-python-cheat-sheet/\n",
    "#res.get_prediction(start='2017-05-01',dynamic=True, full_results=True,exog=dataPred).summary_frame()\n",
    "pred=res.predict(start = '2019-10-01',end='2019-12-01',exog=exogTest)\n",
    "print(pred)\n",
    "dataTest"
   ]
  },
  {
   "cell_type": "code",
   "execution_count": 167,
   "metadata": {},
   "outputs": [
    {
     "data": {
      "text/html": [
       "<div>\n",
       "<style scoped>\n",
       "    .dataframe tbody tr th:only-of-type {\n",
       "        vertical-align: middle;\n",
       "    }\n",
       "\n",
       "    .dataframe tbody tr th {\n",
       "        vertical-align: top;\n",
       "    }\n",
       "\n",
       "    .dataframe thead th {\n",
       "        text-align: right;\n",
       "    }\n",
       "</style>\n",
       "<table border=\"1\" class=\"dataframe\">\n",
       "  <thead>\n",
       "    <tr style=\"text-align: right;\">\n",
       "      <th>9L Cases</th>\n",
       "      <th>mean</th>\n",
       "      <th>mean_se</th>\n",
       "      <th>mean_ci_lower</th>\n",
       "      <th>mean_ci_upper</th>\n",
       "    </tr>\n",
       "  </thead>\n",
       "  <tbody>\n",
       "    <tr>\n",
       "      <th>2019-10-01</th>\n",
       "      <td>32.477167</td>\n",
       "      <td>6.125567</td>\n",
       "      <td>20.471277</td>\n",
       "      <td>44.483057</td>\n",
       "    </tr>\n",
       "    <tr>\n",
       "      <th>2019-11-01</th>\n",
       "      <td>42.249294</td>\n",
       "      <td>6.146614</td>\n",
       "      <td>30.202151</td>\n",
       "      <td>54.296436</td>\n",
       "    </tr>\n",
       "    <tr>\n",
       "      <th>2019-12-01</th>\n",
       "      <td>55.762753</td>\n",
       "      <td>6.342611</td>\n",
       "      <td>43.331464</td>\n",
       "      <td>68.194043</td>\n",
       "    </tr>\n",
       "  </tbody>\n",
       "</table>\n",
       "</div>"
      ],
      "text/plain": [
       "9L Cases         mean   mean_se  mean_ci_lower  mean_ci_upper\n",
       "2019-10-01  32.477167  6.125567      20.471277      44.483057\n",
       "2019-11-01  42.249294  6.146614      30.202151      54.296436\n",
       "2019-12-01  55.762753  6.342611      43.331464      68.194043"
      ]
     },
     "execution_count": 167,
     "metadata": {},
     "output_type": "execute_result"
    }
   ],
   "source": [
    "res.get_forecast(3,exog=exogTest).summary_frame()"
   ]
  },
  {
   "cell_type": "code",
   "execution_count": 168,
   "metadata": {},
   "outputs": [
    {
     "data": {
      "text/html": [
       "<div>\n",
       "<style scoped>\n",
       "    .dataframe tbody tr th:only-of-type {\n",
       "        vertical-align: middle;\n",
       "    }\n",
       "\n",
       "    .dataframe tbody tr th {\n",
       "        vertical-align: top;\n",
       "    }\n",
       "\n",
       "    .dataframe thead th {\n",
       "        text-align: right;\n",
       "    }\n",
       "</style>\n",
       "<table border=\"1\" class=\"dataframe\">\n",
       "  <thead>\n",
       "    <tr style=\"text-align: right;\">\n",
       "      <th>9L Cases</th>\n",
       "      <th>mean</th>\n",
       "      <th>mean_se</th>\n",
       "      <th>mean_ci_lower</th>\n",
       "      <th>mean_ci_upper</th>\n",
       "    </tr>\n",
       "  </thead>\n",
       "  <tbody>\n",
       "    <tr>\n",
       "      <th>2019-10-01</th>\n",
       "      <td>32.477167</td>\n",
       "      <td>6.125567</td>\n",
       "      <td>20.471277</td>\n",
       "      <td>44.483057</td>\n",
       "    </tr>\n",
       "    <tr>\n",
       "      <th>2019-11-01</th>\n",
       "      <td>42.249294</td>\n",
       "      <td>6.146614</td>\n",
       "      <td>30.202151</td>\n",
       "      <td>54.296436</td>\n",
       "    </tr>\n",
       "    <tr>\n",
       "      <th>2019-12-01</th>\n",
       "      <td>55.762753</td>\n",
       "      <td>6.342611</td>\n",
       "      <td>43.331464</td>\n",
       "      <td>68.194043</td>\n",
       "    </tr>\n",
       "  </tbody>\n",
       "</table>\n",
       "</div>"
      ],
      "text/plain": [
       "9L Cases         mean   mean_se  mean_ci_lower  mean_ci_upper\n",
       "2019-10-01  32.477167  6.125567      20.471277      44.483057\n",
       "2019-11-01  42.249294  6.146614      30.202151      54.296436\n",
       "2019-12-01  55.762753  6.342611      43.331464      68.194043"
      ]
     },
     "execution_count": 168,
     "metadata": {},
     "output_type": "execute_result"
    }
   ],
   "source": [
    "res.get_prediction(start = '2019-10-01',end='2019-12-01',exog=exogTest).summary_frame()"
   ]
  },
  {
   "cell_type": "code",
   "execution_count": 169,
   "metadata": {},
   "outputs": [
    {
     "data": {
      "text/plain": [
       "<matplotlib.axes._subplots.AxesSubplot at 0x1e6a18d8148>"
      ]
     },
     "execution_count": 169,
     "metadata": {},
     "output_type": "execute_result"
    },
    {
     "data": {
      "image/png": "[encoded data removed]",
      "text/plain": [
       "<Figure size 432x288 with 1 Axes>"
      ]
     },
     "metadata": {
      "needs_background": "light"
     },
     "output_type": "display_data"
    }
   ],
   "source": [
    "data['9L Cases'].plot()"
   ]
  },
  {
   "cell_type": "markdown",
   "metadata": {},
   "source": [
    "## VAR"
   ]
  },
  {
   "cell_type": "markdown",
   "metadata": {},
   "source": [
    "### Model"
   ]
  },
  {
   "cell_type": "code",
   "execution_count": 376,
   "metadata": {},
   "outputs": [
    {
     "data": {
      "text/html": [
       "<div>\n",
       "<style scoped>\n",
       "    .dataframe tbody tr th:only-of-type {\n",
       "        vertical-align: middle;\n",
       "    }\n",
       "\n",
       "    .dataframe tbody tr th {\n",
       "        vertical-align: top;\n",
       "    }\n",
       "\n",
       "    .dataframe thead th {\n",
       "        text-align: right;\n",
       "    }\n",
       "</style>\n",
       "<table border=\"1\" class=\"dataframe\">\n",
       "  <thead>\n",
       "    <tr style=\"text-align: right;\">\n",
       "      <th></th>\n",
       "      <th>9L Cases</th>\n",
       "      <th>Dollar Sales per 9L Case</th>\n",
       "    </tr>\n",
       "    <tr>\n",
       "      <th>Month</th>\n",
       "      <th></th>\n",
       "      <th></th>\n",
       "    </tr>\n",
       "  </thead>\n",
       "  <tbody>\n",
       "    <tr>\n",
       "      <th>2013-01-01</th>\n",
       "      <td>19.89</td>\n",
       "      <td>234.914530</td>\n",
       "    </tr>\n",
       "    <tr>\n",
       "      <th>2013-02-01</th>\n",
       "      <td>16.38</td>\n",
       "      <td>140.948718</td>\n",
       "    </tr>\n",
       "    <tr>\n",
       "      <th>2013-03-01</th>\n",
       "      <td>22.23</td>\n",
       "      <td>187.931624</td>\n",
       "    </tr>\n",
       "  </tbody>\n",
       "</table>\n",
       "</div>"
      ],
      "text/plain": [
       "            9L Cases  Dollar Sales per 9L Case\n",
       "Month                                         \n",
       "2013-01-01     19.89                234.914530\n",
       "2013-02-01     16.38                140.948718\n",
       "2013-03-01     22.23                187.931624"
      ]
     },
     "metadata": {},
     "output_type": "display_data"
    },
    {
     "data": {
      "text/html": [
       "<div>\n",
       "<style scoped>\n",
       "    .dataframe tbody tr th:only-of-type {\n",
       "        vertical-align: middle;\n",
       "    }\n",
       "\n",
       "    .dataframe tbody tr th {\n",
       "        vertical-align: top;\n",
       "    }\n",
       "\n",
       "    .dataframe thead th {\n",
       "        text-align: right;\n",
       "    }\n",
       "</style>\n",
       "<table border=\"1\" class=\"dataframe\">\n",
       "  <thead>\n",
       "    <tr style=\"text-align: right;\">\n",
       "      <th></th>\n",
       "      <th>TAAKA VODKA 80 PET 1.75L</th>\n",
       "      <th>TAAKA VODKA 80 BLUE PET 375M</th>\n",
       "      <th>TAAKA VODKA 80 BLUE PET 200M</th>\n",
       "      <th>TAAKA CAKE VODKA PET 1.75L</th>\n",
       "      <th>DOBRA VODKA PET 375M</th>\n",
       "    </tr>\n",
       "    <tr>\n",
       "      <th>Month</th>\n",
       "      <th></th>\n",
       "      <th></th>\n",
       "      <th></th>\n",
       "      <th></th>\n",
       "      <th></th>\n",
       "    </tr>\n",
       "  </thead>\n",
       "  <tbody>\n",
       "    <tr>\n",
       "      <th>2013-01-01</th>\n",
       "      <td>234.914530</td>\n",
       "      <td>0.00</td>\n",
       "      <td>0.0</td>\n",
       "      <td>0.0</td>\n",
       "      <td>196.578095</td>\n",
       "    </tr>\n",
       "    <tr>\n",
       "      <th>2013-02-01</th>\n",
       "      <td>140.948718</td>\n",
       "      <td>58.56</td>\n",
       "      <td>0.0</td>\n",
       "      <td>0.0</td>\n",
       "      <td>0.000000</td>\n",
       "    </tr>\n",
       "    <tr>\n",
       "      <th>2013-03-01</th>\n",
       "      <td>187.931624</td>\n",
       "      <td>0.00</td>\n",
       "      <td>0.0</td>\n",
       "      <td>0.0</td>\n",
       "      <td>65.670000</td>\n",
       "    </tr>\n",
       "  </tbody>\n",
       "</table>\n",
       "</div>"
      ],
      "text/plain": [
       "            TAAKA VODKA 80 PET 1.75L  TAAKA VODKA 80 BLUE PET 375M  \\\n",
       "Month                                                                \n",
       "2013-01-01                234.914530                          0.00   \n",
       "2013-02-01                140.948718                         58.56   \n",
       "2013-03-01                187.931624                          0.00   \n",
       "\n",
       "            TAAKA VODKA 80 BLUE PET 200M  TAAKA CAKE VODKA PET 1.75L  \\\n",
       "Month                                                                  \n",
       "2013-01-01                           0.0                         0.0   \n",
       "2013-02-01                           0.0                         0.0   \n",
       "2013-03-01                           0.0                         0.0   \n",
       "\n",
       "            DOBRA VODKA PET 375M  \n",
       "Month                             \n",
       "2013-01-01            196.578095  \n",
       "2013-02-01              0.000000  \n",
       "2013-03-01             65.670000  "
      ]
     },
     "metadata": {},
     "output_type": "display_data"
    }
   ],
   "source": [
    "#variables\n",
    "endog = data[colPreds + colEndog] #here we move the Endog with then col Prds.. this is different than SARIMAX\n",
    "exog =data[colExog ]\n",
    "#allVars = data[colPreds + colEndog +- colExog]\n",
    "display(endog.head(3))\n",
    "display(exog.head(3))\n",
    "#display(allVars.head(3))\n"
   ]
  },
  {
   "cell_type": "code",
   "execution_count": 377,
   "metadata": {},
   "outputs": [
    {
     "name": "stdout",
     "output_type": "stream",
     "text": [
      " VAR Order Selection (* highlights the minimums)  \n",
      "==================================================\n",
      "       AIC         BIC         FPE         HQIC   \n",
      "--------------------------------------------------\n",
      "0       -54.73      -54.35   1.698e-24      -54.58\n",
      "1       -53.66      -53.14   4.988e-24      -53.45\n",
      "2      -55.30*     -54.65*  9.693e-25*     -55.04*\n",
      "3       -54.18      -53.40   2.979e-24      -53.87\n",
      "4       -47.86      -46.95   1.660e-21      -47.50\n",
      "5       -49.29      -48.26   3.981e-22      -48.88\n",
      "6       -50.16      -48.99   1.688e-22      -49.70\n",
      "7       -51.90      -50.60   2.994e-23      -51.38\n",
      "8       -51.56      -50.13   4.253e-23      -50.99\n",
      "9       -52.37      -50.82   1.915e-23      -51.75\n",
      "10      -52.99      -51.30   1.052e-23      -52.32\n",
      "11      -52.37      -50.55   1.999e-23      -51.65\n",
      "12      -50.51      -48.57   1.313e-22      -49.74\n",
      "13      -47.98      -45.91   1.699e-21      -47.16\n",
      "14      -51.15      -48.95   7.375e-23      -50.28\n",
      "15      -50.19      -47.86   2.000e-22      -49.27\n",
      "--------------------------------------------------\n"
     ]
    }
   ],
   "source": [
    "# Fit the model\n",
    "# https://www.statsmodels.org/dev/generated/statsmodels.tsa.vector_ar.var_model.VAR.html#statsmodels.tsa.vector_ar.var_model.VAR\n",
    "# https://github.com/statsmodels/statsmodels/issues/6636\n",
    "import statsmodels.api as sm\n",
    "from statsmodels.tsa.api import VAR\n",
    "model = VAR( endog, exog)\n",
    "res=model.select_order(15) #select best AIC/BIC.. we can do a ggrid search here\n",
    "print(res.summary())"
   ]
  },
  {
   "cell_type": "code",
   "execution_count": 378,
   "metadata": {},
   "outputs": [
    {
     "data": {
      "text/plain": [
       "  Summary of Regression Results   \n",
       "==================================\n",
       "Model:                         VAR\n",
       "Method:                        OLS\n",
       "Date:           Sun, 21, Jun, 2020\n",
       "Time:                     10:05:53\n",
       "--------------------------------------------------------------------\n",
       "No. of Equations:         2.00000    BIC:                   -54.2820\n",
       "Nobs:                     82.0000    HQIC:                  -54.6333\n",
       "Log likelihood:           2036.92    FPE:                1.48513e-24\n",
       "AIC:                     -54.8690    Det(Omega_mle):     1.17982e-24\n",
       "--------------------------------------------------------------------\n",
       "Results for equation 9L Cases\n",
       "===============================================================================================\n",
       "                                  coefficient       std. error           t-stat            prob\n",
       "-----------------------------------------------------------------------------------------------\n",
       "const                               18.427147         5.418488            3.401           0.001\n",
       "TAAKA VODKA 80 PET 1.75L             0.047178         0.013247            3.561           0.000\n",
       "TAAKA VODKA 80 BLUE PET 375M        -0.003939         0.010712           -0.368           0.713\n",
       "TAAKA VODKA 80 BLUE PET 200M        -0.000607         0.019518           -0.031           0.975\n",
       "TAAKA CAKE VODKA PET 1.75L           0.312795         0.166321            1.881           0.060\n",
       "DOBRA VODKA PET 375M                -0.014824         0.029781           -0.498           0.619\n",
       "L1.9L Cases                         -0.151665         0.114009           -1.330           0.183\n",
       "L1.Dollar Sales per 9L Case          0.010287         0.013460            0.764           0.445\n",
       "L2.9L Cases                          0.161109         0.113223            1.423           0.155\n",
       "L2.Dollar Sales per 9L Case          0.003007         0.013987            0.215           0.830\n",
       "===============================================================================================\n",
       "\n",
       "Results for equation Dollar Sales per 9L Case\n",
       "====================================================================================================\n",
       "                                  coefficient       std. error                t-stat            prob\n",
       "----------------------------------------------------------------------------------------------------\n",
       "const                                0.000000         0.000000                 2.242           0.025\n",
       "TAAKA VODKA 80 PET 1.75L             1.000000         0.000000  3939847640048094.000           0.000\n",
       "TAAKA VODKA 80 BLUE PET 375M         0.000000         0.000000                 2.931           0.003\n",
       "TAAKA VODKA 80 BLUE PET 200M        -0.000000         0.000000                -0.521           0.602\n",
       "TAAKA CAKE VODKA PET 1.75L           0.000000         0.000000                 0.136           0.892\n",
       "DOBRA VODKA PET 375M                -0.000000         0.000000                -0.163           0.870\n",
       "L1.9L Cases                          0.000000         0.000000                 0.568           0.570\n",
       "L1.Dollar Sales per 9L Case         -0.000000         0.000000                -0.882           0.378\n",
       "L2.9L Cases                         -0.000000         0.000000                -0.797           0.425\n",
       "L2.Dollar Sales per 9L Case         -0.000000         0.000000                -2.000           0.046\n",
       "====================================================================================================\n",
       "\n",
       "Correlation matrix of residuals\n",
       "                            9L Cases  Dollar Sales per 9L Case\n",
       "9L Cases                    1.000000                 -0.008901\n",
       "Dollar Sales per 9L Case   -0.008901                  1.000000\n",
       "\n"
      ]
     },
     "execution_count": 378,
     "metadata": {},
     "output_type": "execute_result"
    }
   ],
   "source": [
    "fit= model.fit(maxlags=2)\n",
    "fit.summary()"
   ]
  },
  {
   "cell_type": "markdown",
   "metadata": {},
   "source": [
    "### Prediction"
   ]
  },
  {
   "cell_type": "code",
   "execution_count": 358,
   "metadata": {},
   "outputs": [
    {
     "data": {
      "text/html": [
       "<div>\n",
       "<style scoped>\n",
       "    .dataframe tbody tr th:only-of-type {\n",
       "        vertical-align: middle;\n",
       "    }\n",
       "\n",
       "    .dataframe tbody tr th {\n",
       "        vertical-align: top;\n",
       "    }\n",
       "\n",
       "    .dataframe thead th {\n",
       "        text-align: right;\n",
       "    }\n",
       "</style>\n",
       "<table border=\"1\" class=\"dataframe\">\n",
       "  <thead>\n",
       "    <tr style=\"text-align: right;\">\n",
       "      <th></th>\n",
       "      <th>9L Cases</th>\n",
       "      <th>Dollar Sales per 9L Case</th>\n",
       "    </tr>\n",
       "    <tr>\n",
       "      <th>Month</th>\n",
       "      <th></th>\n",
       "      <th></th>\n",
       "    </tr>\n",
       "  </thead>\n",
       "  <tbody>\n",
       "    <tr>\n",
       "      <th>2019-11-01</th>\n",
       "      <td>41.73</td>\n",
       "      <td>417.538462</td>\n",
       "    </tr>\n",
       "    <tr>\n",
       "      <th>2019-12-01</th>\n",
       "      <td>45.63</td>\n",
       "      <td>464.564103</td>\n",
       "    </tr>\n",
       "  </tbody>\n",
       "</table>\n",
       "</div>"
      ],
      "text/plain": [
       "            9L Cases  Dollar Sales per 9L Case\n",
       "Month                                         \n",
       "2019-11-01     41.73                417.538462\n",
       "2019-12-01     45.63                464.564103"
      ]
     },
     "metadata": {},
     "output_type": "display_data"
    },
    {
     "data": {
      "text/html": [
       "<div>\n",
       "<style scoped>\n",
       "    .dataframe tbody tr th:only-of-type {\n",
       "        vertical-align: middle;\n",
       "    }\n",
       "\n",
       "    .dataframe tbody tr th {\n",
       "        vertical-align: top;\n",
       "    }\n",
       "\n",
       "    .dataframe thead th {\n",
       "        text-align: right;\n",
       "    }\n",
       "</style>\n",
       "<table border=\"1\" class=\"dataframe\">\n",
       "  <thead>\n",
       "    <tr style=\"text-align: right;\">\n",
       "      <th></th>\n",
       "      <th>TAAKA VODKA 80 PET 1.75L</th>\n",
       "      <th>TAAKA VODKA 80 BLUE PET 375M</th>\n",
       "      <th>TAAKA VODKA 80 BLUE PET 200M</th>\n",
       "      <th>TAAKA CAKE VODKA PET 1.75L</th>\n",
       "      <th>DOBRA VODKA PET 375M</th>\n",
       "    </tr>\n",
       "    <tr>\n",
       "      <th>Month</th>\n",
       "      <th></th>\n",
       "      <th></th>\n",
       "      <th></th>\n",
       "      <th></th>\n",
       "      <th></th>\n",
       "    </tr>\n",
       "  </thead>\n",
       "  <tbody>\n",
       "    <tr>\n",
       "      <th>2020-01-01</th>\n",
       "      <td>464.564103</td>\n",
       "      <td>755.523189</td>\n",
       "      <td>188.411215</td>\n",
       "      <td>0.0</td>\n",
       "      <td>0.0</td>\n",
       "    </tr>\n",
       "    <tr>\n",
       "      <th>2020-02-01</th>\n",
       "      <td>470.305156</td>\n",
       "      <td>765.604177</td>\n",
       "      <td>190.395624</td>\n",
       "      <td>0.0</td>\n",
       "      <td>0.0</td>\n",
       "    </tr>\n",
       "    <tr>\n",
       "      <th>2020-03-01</th>\n",
       "      <td>476.117156</td>\n",
       "      <td>775.819676</td>\n",
       "      <td>192.400934</td>\n",
       "      <td>0.0</td>\n",
       "      <td>0.0</td>\n",
       "    </tr>\n",
       "    <tr>\n",
       "      <th>2020-04-01</th>\n",
       "      <td>482.000981</td>\n",
       "      <td>786.171481</td>\n",
       "      <td>194.427365</td>\n",
       "      <td>0.0</td>\n",
       "      <td>0.0</td>\n",
       "    </tr>\n",
       "    <tr>\n",
       "      <th>2020-05-01</th>\n",
       "      <td>487.957518</td>\n",
       "      <td>796.661411</td>\n",
       "      <td>196.475139</td>\n",
       "      <td>0.0</td>\n",
       "      <td>0.0</td>\n",
       "    </tr>\n",
       "  </tbody>\n",
       "</table>\n",
       "</div>"
      ],
      "text/plain": [
       "            TAAKA VODKA 80 PET 1.75L  TAAKA VODKA 80 BLUE PET 375M  \\\n",
       "Month                                                                \n",
       "2020-01-01                464.564103                    755.523189   \n",
       "2020-02-01                470.305156                    765.604177   \n",
       "2020-03-01                476.117156                    775.819676   \n",
       "2020-04-01                482.000981                    786.171481   \n",
       "2020-05-01                487.957518                    796.661411   \n",
       "\n",
       "            TAAKA VODKA 80 BLUE PET 200M  TAAKA CAKE VODKA PET 1.75L  \\\n",
       "Month                                                                  \n",
       "2020-01-01                    188.411215                         0.0   \n",
       "2020-02-01                    190.395624                         0.0   \n",
       "2020-03-01                    192.400934                         0.0   \n",
       "2020-04-01                    194.427365                         0.0   \n",
       "2020-05-01                    196.475139                         0.0   \n",
       "\n",
       "            DOBRA VODKA PET 375M  \n",
       "Month                             \n",
       "2020-01-01                   0.0  \n",
       "2020-02-01                   0.0  \n",
       "2020-03-01                   0.0  \n",
       "2020-04-01                   0.0  \n",
       "2020-05-01                   0.0  "
      ]
     },
     "metadata": {},
     "output_type": "display_data"
    }
   ],
   "source": [
    "\n",
    "forecastPeriods = 5\n",
    "dfPred= pd.DataFrame({'Month' : pd.date_range('2020-01-01',periods = forecastPeriods,freq='MS')})\n",
    "cols= colPreds + colExog + colEndog\n",
    "for i,c in enumerate(cols):\n",
    "    dfPred[c] = data[c][-1] \n",
    "    dfPred[c]  = dfPred[c] ** (1+dfPred.index/500)\n",
    "\n",
    "dfPred.set_index(colTime,inplace=True)\n",
    "dfPred=dfPred.asfreq(freq=pd.offsets.MonthBegin())\n",
    "\n",
    "dfPredEndog = dfPred[colEndog]\n",
    "dfPredExog = dfPred[colExog]\n",
    "\n",
    "lag_order = fit.k_ar\n",
    "dfPredEndog = endog[-lag_order:].append(dfPredEndog)\n",
    "dfPredEndog = endog[-lag_order:]\n",
    "dfPredExog = exog.append(dfPredExog)[-forecastPeriods:]\n",
    "\n",
    "display(dfPredEndog,dfPredExog)"
   ]
  },
  {
   "cell_type": "code",
   "execution_count": 379,
   "metadata": {},
   "outputs": [
    {
     "data": {
      "text/plain": [
       "array([[ 43.09146742, 464.56410256],\n",
       "       [ 44.47615655, 470.30515558],\n",
       "       [ 44.14897038, 476.11715615],\n",
       "       [ 44.7343172 , 482.00098105],\n",
       "       [ 44.90929094, 487.95751787]])"
      ]
     },
     "execution_count": 379,
     "metadata": {},
     "output_type": "execute_result"
    }
   ],
   "source": [
    "pred = fit.forecast(y=dfPredEndog.values,exog_future =dfPredExog.values, steps=forecastPeriods)\n",
    "pred"
   ]
  },
  {
   "cell_type": "code",
   "execution_count": null,
   "metadata": {},
   "outputs": [],
   "source": []
  },
  {
   "cell_type": "markdown",
   "metadata": {},
   "source": [
    "## VARMAX"
   ]
  },
  {
   "cell_type": "markdown",
   "metadata": {},
   "source": [
    "### Model"
   ]
  },
  {
   "cell_type": "code",
   "execution_count": 361,
   "metadata": {},
   "outputs": [
    {
     "data": {
      "text/html": [
       "<div>\n",
       "<style scoped>\n",
       "    .dataframe tbody tr th:only-of-type {\n",
       "        vertical-align: middle;\n",
       "    }\n",
       "\n",
       "    .dataframe tbody tr th {\n",
       "        vertical-align: top;\n",
       "    }\n",
       "\n",
       "    .dataframe thead th {\n",
       "        text-align: right;\n",
       "    }\n",
       "</style>\n",
       "<table border=\"1\" class=\"dataframe\">\n",
       "  <thead>\n",
       "    <tr style=\"text-align: right;\">\n",
       "      <th></th>\n",
       "      <th>9L Cases</th>\n",
       "    </tr>\n",
       "    <tr>\n",
       "      <th>Month</th>\n",
       "      <th></th>\n",
       "    </tr>\n",
       "  </thead>\n",
       "  <tbody>\n",
       "    <tr>\n",
       "      <th>2013-01-01</th>\n",
       "      <td>19.89</td>\n",
       "    </tr>\n",
       "    <tr>\n",
       "      <th>2013-02-01</th>\n",
       "      <td>16.38</td>\n",
       "    </tr>\n",
       "    <tr>\n",
       "      <th>2013-03-01</th>\n",
       "      <td>22.23</td>\n",
       "    </tr>\n",
       "  </tbody>\n",
       "</table>\n",
       "</div>"
      ],
      "text/plain": [
       "            9L Cases\n",
       "Month               \n",
       "2013-01-01     19.89\n",
       "2013-02-01     16.38\n",
       "2013-03-01     22.23"
      ]
     },
     "metadata": {},
     "output_type": "display_data"
    },
    {
     "data": {
      "text/html": [
       "<div>\n",
       "<style scoped>\n",
       "    .dataframe tbody tr th:only-of-type {\n",
       "        vertical-align: middle;\n",
       "    }\n",
       "\n",
       "    .dataframe tbody tr th {\n",
       "        vertical-align: top;\n",
       "    }\n",
       "\n",
       "    .dataframe thead th {\n",
       "        text-align: right;\n",
       "    }\n",
       "</style>\n",
       "<table border=\"1\" class=\"dataframe\">\n",
       "  <thead>\n",
       "    <tr style=\"text-align: right;\">\n",
       "      <th></th>\n",
       "      <th>TAAKA VODKA 80 PET 1.75L</th>\n",
       "      <th>TAAKA VODKA 80 BLUE PET 375M</th>\n",
       "      <th>TAAKA VODKA 80 BLUE PET 200M</th>\n",
       "      <th>TAAKA CAKE VODKA PET 1.75L</th>\n",
       "      <th>DOBRA VODKA PET 375M</th>\n",
       "      <th>Dollar Sales per 9L Case</th>\n",
       "    </tr>\n",
       "    <tr>\n",
       "      <th>Month</th>\n",
       "      <th></th>\n",
       "      <th></th>\n",
       "      <th></th>\n",
       "      <th></th>\n",
       "      <th></th>\n",
       "      <th></th>\n",
       "    </tr>\n",
       "  </thead>\n",
       "  <tbody>\n",
       "    <tr>\n",
       "      <th>2013-01-01</th>\n",
       "      <td>234.914530</td>\n",
       "      <td>0.00</td>\n",
       "      <td>0.0</td>\n",
       "      <td>0.0</td>\n",
       "      <td>196.578095</td>\n",
       "      <td>234.914530</td>\n",
       "    </tr>\n",
       "    <tr>\n",
       "      <th>2013-02-01</th>\n",
       "      <td>140.948718</td>\n",
       "      <td>58.56</td>\n",
       "      <td>0.0</td>\n",
       "      <td>0.0</td>\n",
       "      <td>0.000000</td>\n",
       "      <td>140.948718</td>\n",
       "    </tr>\n",
       "    <tr>\n",
       "      <th>2013-03-01</th>\n",
       "      <td>187.931624</td>\n",
       "      <td>0.00</td>\n",
       "      <td>0.0</td>\n",
       "      <td>0.0</td>\n",
       "      <td>65.670000</td>\n",
       "      <td>187.931624</td>\n",
       "    </tr>\n",
       "  </tbody>\n",
       "</table>\n",
       "</div>"
      ],
      "text/plain": [
       "            TAAKA VODKA 80 PET 1.75L  TAAKA VODKA 80 BLUE PET 375M  \\\n",
       "Month                                                                \n",
       "2013-01-01                234.914530                          0.00   \n",
       "2013-02-01                140.948718                         58.56   \n",
       "2013-03-01                187.931624                          0.00   \n",
       "\n",
       "            TAAKA VODKA 80 BLUE PET 200M  TAAKA CAKE VODKA PET 1.75L  \\\n",
       "Month                                                                  \n",
       "2013-01-01                           0.0                         0.0   \n",
       "2013-02-01                           0.0                         0.0   \n",
       "2013-03-01                           0.0                         0.0   \n",
       "\n",
       "            DOBRA VODKA PET 375M  Dollar Sales per 9L Case  \n",
       "Month                                                       \n",
       "2013-01-01            196.578095                234.914530  \n",
       "2013-02-01              0.000000                140.948718  \n",
       "2013-03-01             65.670000                187.931624  "
      ]
     },
     "metadata": {},
     "output_type": "display_data"
    },
    {
     "data": {
      "text/html": [
       "<div>\n",
       "<style scoped>\n",
       "    .dataframe tbody tr th:only-of-type {\n",
       "        vertical-align: middle;\n",
       "    }\n",
       "\n",
       "    .dataframe tbody tr th {\n",
       "        vertical-align: top;\n",
       "    }\n",
       "\n",
       "    .dataframe thead th {\n",
       "        text-align: right;\n",
       "    }\n",
       "</style>\n",
       "<table border=\"1\" class=\"dataframe\">\n",
       "  <thead>\n",
       "    <tr style=\"text-align: right;\">\n",
       "      <th></th>\n",
       "      <th>9L Cases</th>\n",
       "      <th>Dollar Sales per 9L Case</th>\n",
       "      <th>TAAKA VODKA 80 PET 1.75L</th>\n",
       "      <th>TAAKA VODKA 80 BLUE PET 375M</th>\n",
       "      <th>TAAKA VODKA 80 BLUE PET 200M</th>\n",
       "      <th>TAAKA CAKE VODKA PET 1.75L</th>\n",
       "      <th>DOBRA VODKA PET 375M</th>\n",
       "    </tr>\n",
       "    <tr>\n",
       "      <th>Month</th>\n",
       "      <th></th>\n",
       "      <th></th>\n",
       "      <th></th>\n",
       "      <th></th>\n",
       "      <th></th>\n",
       "      <th></th>\n",
       "      <th></th>\n",
       "    </tr>\n",
       "  </thead>\n",
       "  <tbody>\n",
       "    <tr>\n",
       "      <th>2013-01-01</th>\n",
       "      <td>19.89</td>\n",
       "      <td>234.914530</td>\n",
       "      <td>234.914530</td>\n",
       "      <td>0.00</td>\n",
       "      <td>0.0</td>\n",
       "      <td>0.0</td>\n",
       "      <td>196.578095</td>\n",
       "    </tr>\n",
       "    <tr>\n",
       "      <th>2013-02-01</th>\n",
       "      <td>16.38</td>\n",
       "      <td>140.948718</td>\n",
       "      <td>140.948718</td>\n",
       "      <td>58.56</td>\n",
       "      <td>0.0</td>\n",
       "      <td>0.0</td>\n",
       "      <td>0.000000</td>\n",
       "    </tr>\n",
       "    <tr>\n",
       "      <th>2013-03-01</th>\n",
       "      <td>22.23</td>\n",
       "      <td>187.931624</td>\n",
       "      <td>187.931624</td>\n",
       "      <td>0.00</td>\n",
       "      <td>0.0</td>\n",
       "      <td>0.0</td>\n",
       "      <td>65.670000</td>\n",
       "    </tr>\n",
       "  </tbody>\n",
       "</table>\n",
       "</div>"
      ],
      "text/plain": [
       "            9L Cases  Dollar Sales per 9L Case  TAAKA VODKA 80 PET 1.75L  \\\n",
       "Month                                                                      \n",
       "2013-01-01     19.89                234.914530                234.914530   \n",
       "2013-02-01     16.38                140.948718                140.948718   \n",
       "2013-03-01     22.23                187.931624                187.931624   \n",
       "\n",
       "            TAAKA VODKA 80 BLUE PET 375M  TAAKA VODKA 80 BLUE PET 200M  \\\n",
       "Month                                                                    \n",
       "2013-01-01                          0.00                           0.0   \n",
       "2013-02-01                         58.56                           0.0   \n",
       "2013-03-01                          0.00                           0.0   \n",
       "\n",
       "            TAAKA CAKE VODKA PET 1.75L  DOBRA VODKA PET 375M  \n",
       "Month                                                         \n",
       "2013-01-01                         0.0            196.578095  \n",
       "2013-02-01                         0.0              0.000000  \n",
       "2013-03-01                         0.0             65.670000  "
      ]
     },
     "metadata": {},
     "output_type": "display_data"
    }
   ],
   "source": [
    "#variables\n",
    "# VARMAX https://www.statsmodels.org/dev/examples/notebooks/generated/statespace_varmax.html\n",
    "# VARMAC https://mc.ai/11-classical-time-series-forecasting-methods-in-python-cheat-sheet/\n",
    "\n",
    "endog = data[colPreds] #here we move the Endog with then col Prds.. this is different than SARIMAX\n",
    "exog =data[colExog + colEndog]\n",
    "allVars = data[colPreds + colEndog + colExog]\n",
    "display(endog.head(3))\n",
    "display(exog.head(3))\n",
    "display(allVars.head(3))\n"
   ]
  },
  {
   "cell_type": "code",
   "execution_count": 365,
   "metadata": {},
   "outputs": [],
   "source": [
    "# Fit the model\n",
    "# https://www.statsmodels.org/dev/generated/statsmodels.tsa.vector_ar.var_model.VAR.html#statsmodels.tsa.vector_ar.var_model.VAR\n",
    "# VARMAX https://www.statsmodels.org/dev/examples/notebooks/generated/statespace_varmax.html\n",
    "# VARMAC https://mc.ai/11-classical-time-series-forecasting-methods-in-python-cheat-sheet/\n",
    "import statsmodels.api as sm\n",
    "from statsmodels.tsa.api import VARMAX\n",
    "model = VARMAX( endog, exog=exog,order=(0,1),trend='n')\n",
    "#res=model.select_order(15) #select best AIC/BIC.. we can do a ggrid search here\n",
    "#print(res.summary())"
   ]
  },
  {
   "cell_type": "code",
   "execution_count": 366,
   "metadata": {},
   "outputs": [
    {
     "ename": "ValueError",
     "evalue": "Only gave one variable to VAR",
     "output_type": "error",
     "traceback": [
      "\u001b[1;31m---------------------------------------------------------------------------\u001b[0m",
      "\u001b[1;31mValueError\u001b[0m                                Traceback (most recent call last)",
      "\u001b[1;32m<ipython-input-366-bf3b809b657d>\u001b[0m in \u001b[0;36m<module>\u001b[1;34m\u001b[0m\n\u001b[1;32m----> 1\u001b[1;33m \u001b[0mfit\u001b[0m\u001b[1;33m=\u001b[0m \u001b[0mmodel\u001b[0m\u001b[1;33m.\u001b[0m\u001b[0mfit\u001b[0m\u001b[1;33m(\u001b[0m\u001b[0mmaxiter\u001b[0m\u001b[1;33m=\u001b[0m\u001b[1;36m1000\u001b[0m\u001b[1;33m)\u001b[0m\u001b[1;33m\u001b[0m\u001b[1;33m\u001b[0m\u001b[0m\n\u001b[0m\u001b[0;32m      2\u001b[0m \u001b[0mfit\u001b[0m\u001b[1;33m.\u001b[0m\u001b[0msummary\u001b[0m\u001b[1;33m(\u001b[0m\u001b[1;33m)\u001b[0m\u001b[1;33m\u001b[0m\u001b[1;33m\u001b[0m\u001b[0m\n",
      "\u001b[1;32m~\\anaconda3\\lib\\site-packages\\statsmodels\\tsa\\statespace\\mlemodel.py\u001b[0m in \u001b[0;36mfit\u001b[1;34m(self, start_params, transformed, includes_fixed, cov_type, cov_kwds, method, maxiter, full_output, disp, callback, return_params, optim_score, optim_complex_step, optim_hessian, flags, low_memory, **kwargs)\u001b[0m\n\u001b[0;32m    605\u001b[0m         \"\"\"\n\u001b[0;32m    606\u001b[0m         \u001b[1;32mif\u001b[0m \u001b[0mstart_params\u001b[0m \u001b[1;32mis\u001b[0m \u001b[1;32mNone\u001b[0m\u001b[1;33m:\u001b[0m\u001b[1;33m\u001b[0m\u001b[1;33m\u001b[0m\u001b[0m\n\u001b[1;32m--> 607\u001b[1;33m             \u001b[0mstart_params\u001b[0m \u001b[1;33m=\u001b[0m \u001b[0mself\u001b[0m\u001b[1;33m.\u001b[0m\u001b[0mstart_params\u001b[0m\u001b[1;33m\u001b[0m\u001b[1;33m\u001b[0m\u001b[0m\n\u001b[0m\u001b[0;32m    608\u001b[0m             \u001b[0mtransformed\u001b[0m \u001b[1;33m=\u001b[0m \u001b[1;32mTrue\u001b[0m\u001b[1;33m\u001b[0m\u001b[1;33m\u001b[0m\u001b[0m\n\u001b[0;32m    609\u001b[0m             \u001b[0mincludes_fixed\u001b[0m \u001b[1;33m=\u001b[0m \u001b[1;32mTrue\u001b[0m\u001b[1;33m\u001b[0m\u001b[1;33m\u001b[0m\u001b[0m\n",
      "\u001b[1;32m~\\anaconda3\\lib\\site-packages\\statsmodels\\tsa\\statespace\\varmax.py\u001b[0m in \u001b[0;36mstart_params\u001b[1;34m(self)\u001b[0m\n\u001b[0;32m    355\u001b[0m         \u001b[0mar_params\u001b[0m \u001b[1;33m=\u001b[0m \u001b[1;33m[\u001b[0m\u001b[1;33m]\u001b[0m\u001b[1;33m\u001b[0m\u001b[1;33m\u001b[0m\u001b[0m\n\u001b[0;32m    356\u001b[0m         \u001b[0mk_ar\u001b[0m \u001b[1;33m=\u001b[0m \u001b[0mself\u001b[0m\u001b[1;33m.\u001b[0m\u001b[0mk_ar\u001b[0m \u001b[1;32mif\u001b[0m \u001b[0mself\u001b[0m\u001b[1;33m.\u001b[0m\u001b[0mk_ar\u001b[0m \u001b[1;33m>\u001b[0m \u001b[1;36m0\u001b[0m \u001b[1;32melse\u001b[0m \u001b[1;36m1\u001b[0m\u001b[1;33m\u001b[0m\u001b[1;33m\u001b[0m\u001b[0m\n\u001b[1;32m--> 357\u001b[1;33m         \u001b[0mmod_ar\u001b[0m \u001b[1;33m=\u001b[0m \u001b[0mvar_model\u001b[0m\u001b[1;33m.\u001b[0m\u001b[0mVAR\u001b[0m\u001b[1;33m(\u001b[0m\u001b[0mendog\u001b[0m\u001b[1;33m)\u001b[0m\u001b[1;33m\u001b[0m\u001b[1;33m\u001b[0m\u001b[0m\n\u001b[0m\u001b[0;32m    358\u001b[0m         \u001b[0mres_ar\u001b[0m \u001b[1;33m=\u001b[0m \u001b[0mmod_ar\u001b[0m\u001b[1;33m.\u001b[0m\u001b[0mfit\u001b[0m\u001b[1;33m(\u001b[0m\u001b[0mmaxlags\u001b[0m\u001b[1;33m=\u001b[0m\u001b[0mk_ar\u001b[0m\u001b[1;33m,\u001b[0m \u001b[0mic\u001b[0m\u001b[1;33m=\u001b[0m\u001b[1;32mNone\u001b[0m\u001b[1;33m,\u001b[0m \u001b[0mtrend\u001b[0m\u001b[1;33m=\u001b[0m\u001b[1;34m'nc'\u001b[0m\u001b[1;33m)\u001b[0m\u001b[1;33m\u001b[0m\u001b[1;33m\u001b[0m\u001b[0m\n\u001b[0;32m    359\u001b[0m         \u001b[1;32mif\u001b[0m \u001b[0mself\u001b[0m\u001b[1;33m.\u001b[0m\u001b[0mk_ar\u001b[0m \u001b[1;33m>\u001b[0m \u001b[1;36m0\u001b[0m\u001b[1;33m:\u001b[0m\u001b[1;33m\u001b[0m\u001b[1;33m\u001b[0m\u001b[0m\n",
      "\u001b[1;32m~\\anaconda3\\lib\\site-packages\\statsmodels\\tsa\\vector_ar\\var_model.py\u001b[0m in \u001b[0;36m__init__\u001b[1;34m(self, endog, exog, dates, freq, missing)\u001b[0m\n\u001b[0;32m    517\u001b[0m         \u001b[0msuper\u001b[0m\u001b[1;33m(\u001b[0m\u001b[0mVAR\u001b[0m\u001b[1;33m,\u001b[0m \u001b[0mself\u001b[0m\u001b[1;33m)\u001b[0m\u001b[1;33m.\u001b[0m\u001b[0m__init__\u001b[0m\u001b[1;33m(\u001b[0m\u001b[0mendog\u001b[0m\u001b[1;33m,\u001b[0m \u001b[0mexog\u001b[0m\u001b[1;33m,\u001b[0m \u001b[0mdates\u001b[0m\u001b[1;33m,\u001b[0m \u001b[0mfreq\u001b[0m\u001b[1;33m,\u001b[0m \u001b[0mmissing\u001b[0m\u001b[1;33m=\u001b[0m\u001b[0mmissing\u001b[0m\u001b[1;33m)\u001b[0m\u001b[1;33m\u001b[0m\u001b[1;33m\u001b[0m\u001b[0m\n\u001b[0;32m    518\u001b[0m         \u001b[1;32mif\u001b[0m \u001b[0mself\u001b[0m\u001b[1;33m.\u001b[0m\u001b[0mendog\u001b[0m\u001b[1;33m.\u001b[0m\u001b[0mndim\u001b[0m \u001b[1;33m==\u001b[0m \u001b[1;36m1\u001b[0m\u001b[1;33m:\u001b[0m\u001b[1;33m\u001b[0m\u001b[1;33m\u001b[0m\u001b[0m\n\u001b[1;32m--> 519\u001b[1;33m             \u001b[1;32mraise\u001b[0m \u001b[0mValueError\u001b[0m\u001b[1;33m(\u001b[0m\u001b[1;34m\"Only gave one variable to VAR\"\u001b[0m\u001b[1;33m)\u001b[0m\u001b[1;33m\u001b[0m\u001b[1;33m\u001b[0m\u001b[0m\n\u001b[0m\u001b[0;32m    520\u001b[0m         \u001b[0mself\u001b[0m\u001b[1;33m.\u001b[0m\u001b[0mneqs\u001b[0m \u001b[1;33m=\u001b[0m \u001b[0mself\u001b[0m\u001b[1;33m.\u001b[0m\u001b[0mendog\u001b[0m\u001b[1;33m.\u001b[0m\u001b[0mshape\u001b[0m\u001b[1;33m[\u001b[0m\u001b[1;36m1\u001b[0m\u001b[1;33m]\u001b[0m\u001b[1;33m\u001b[0m\u001b[1;33m\u001b[0m\u001b[0m\n\u001b[0;32m    521\u001b[0m         \u001b[0mself\u001b[0m\u001b[1;33m.\u001b[0m\u001b[0mn_totobs\u001b[0m \u001b[1;33m=\u001b[0m \u001b[0mlen\u001b[0m\u001b[1;33m(\u001b[0m\u001b[0mendog\u001b[0m\u001b[1;33m)\u001b[0m\u001b[1;33m\u001b[0m\u001b[1;33m\u001b[0m\u001b[0m\n",
      "\u001b[1;31mValueError\u001b[0m: Only gave one variable to VAR"
     ]
    }
   ],
   "source": [
    "fit= model.fit(maxiter=1000)\n",
    "fit.summary()"
   ]
  },
  {
   "cell_type": "markdown",
   "metadata": {},
   "source": [
    "### Prediction"
   ]
  },
  {
   "cell_type": "code",
   "execution_count": 358,
   "metadata": {},
   "outputs": [
    {
     "data": {
      "text/html": [
       "<div>\n",
       "<style scoped>\n",
       "    .dataframe tbody tr th:only-of-type {\n",
       "        vertical-align: middle;\n",
       "    }\n",
       "\n",
       "    .dataframe tbody tr th {\n",
       "        vertical-align: top;\n",
       "    }\n",
       "\n",
       "    .dataframe thead th {\n",
       "        text-align: right;\n",
       "    }\n",
       "</style>\n",
       "<table border=\"1\" class=\"dataframe\">\n",
       "  <thead>\n",
       "    <tr style=\"text-align: right;\">\n",
       "      <th></th>\n",
       "      <th>9L Cases</th>\n",
       "      <th>Dollar Sales per 9L Case</th>\n",
       "    </tr>\n",
       "    <tr>\n",
       "      <th>Month</th>\n",
       "      <th></th>\n",
       "      <th></th>\n",
       "    </tr>\n",
       "  </thead>\n",
       "  <tbody>\n",
       "    <tr>\n",
       "      <th>2019-11-01</th>\n",
       "      <td>41.73</td>\n",
       "      <td>417.538462</td>\n",
       "    </tr>\n",
       "    <tr>\n",
       "      <th>2019-12-01</th>\n",
       "      <td>45.63</td>\n",
       "      <td>464.564103</td>\n",
       "    </tr>\n",
       "  </tbody>\n",
       "</table>\n",
       "</div>"
      ],
      "text/plain": [
       "            9L Cases  Dollar Sales per 9L Case\n",
       "Month                                         \n",
       "2019-11-01     41.73                417.538462\n",
       "2019-12-01     45.63                464.564103"
      ]
     },
     "metadata": {},
     "output_type": "display_data"
    },
    {
     "data": {
      "text/html": [
       "<div>\n",
       "<style scoped>\n",
       "    .dataframe tbody tr th:only-of-type {\n",
       "        vertical-align: middle;\n",
       "    }\n",
       "\n",
       "    .dataframe tbody tr th {\n",
       "        vertical-align: top;\n",
       "    }\n",
       "\n",
       "    .dataframe thead th {\n",
       "        text-align: right;\n",
       "    }\n",
       "</style>\n",
       "<table border=\"1\" class=\"dataframe\">\n",
       "  <thead>\n",
       "    <tr style=\"text-align: right;\">\n",
       "      <th></th>\n",
       "      <th>TAAKA VODKA 80 PET 1.75L</th>\n",
       "      <th>TAAKA VODKA 80 BLUE PET 375M</th>\n",
       "      <th>TAAKA VODKA 80 BLUE PET 200M</th>\n",
       "      <th>TAAKA CAKE VODKA PET 1.75L</th>\n",
       "      <th>DOBRA VODKA PET 375M</th>\n",
       "    </tr>\n",
       "    <tr>\n",
       "      <th>Month</th>\n",
       "      <th></th>\n",
       "      <th></th>\n",
       "      <th></th>\n",
       "      <th></th>\n",
       "      <th></th>\n",
       "    </tr>\n",
       "  </thead>\n",
       "  <tbody>\n",
       "    <tr>\n",
       "      <th>2020-01-01</th>\n",
       "      <td>464.564103</td>\n",
       "      <td>755.523189</td>\n",
       "      <td>188.411215</td>\n",
       "      <td>0.0</td>\n",
       "      <td>0.0</td>\n",
       "    </tr>\n",
       "    <tr>\n",
       "      <th>2020-02-01</th>\n",
       "      <td>470.305156</td>\n",
       "      <td>765.604177</td>\n",
       "      <td>190.395624</td>\n",
       "      <td>0.0</td>\n",
       "      <td>0.0</td>\n",
       "    </tr>\n",
       "    <tr>\n",
       "      <th>2020-03-01</th>\n",
       "      <td>476.117156</td>\n",
       "      <td>775.819676</td>\n",
       "      <td>192.400934</td>\n",
       "      <td>0.0</td>\n",
       "      <td>0.0</td>\n",
       "    </tr>\n",
       "    <tr>\n",
       "      <th>2020-04-01</th>\n",
       "      <td>482.000981</td>\n",
       "      <td>786.171481</td>\n",
       "      <td>194.427365</td>\n",
       "      <td>0.0</td>\n",
       "      <td>0.0</td>\n",
       "    </tr>\n",
       "    <tr>\n",
       "      <th>2020-05-01</th>\n",
       "      <td>487.957518</td>\n",
       "      <td>796.661411</td>\n",
       "      <td>196.475139</td>\n",
       "      <td>0.0</td>\n",
       "      <td>0.0</td>\n",
       "    </tr>\n",
       "  </tbody>\n",
       "</table>\n",
       "</div>"
      ],
      "text/plain": [
       "            TAAKA VODKA 80 PET 1.75L  TAAKA VODKA 80 BLUE PET 375M  \\\n",
       "Month                                                                \n",
       "2020-01-01                464.564103                    755.523189   \n",
       "2020-02-01                470.305156                    765.604177   \n",
       "2020-03-01                476.117156                    775.819676   \n",
       "2020-04-01                482.000981                    786.171481   \n",
       "2020-05-01                487.957518                    796.661411   \n",
       "\n",
       "            TAAKA VODKA 80 BLUE PET 200M  TAAKA CAKE VODKA PET 1.75L  \\\n",
       "Month                                                                  \n",
       "2020-01-01                    188.411215                         0.0   \n",
       "2020-02-01                    190.395624                         0.0   \n",
       "2020-03-01                    192.400934                         0.0   \n",
       "2020-04-01                    194.427365                         0.0   \n",
       "2020-05-01                    196.475139                         0.0   \n",
       "\n",
       "            DOBRA VODKA PET 375M  \n",
       "Month                             \n",
       "2020-01-01                   0.0  \n",
       "2020-02-01                   0.0  \n",
       "2020-03-01                   0.0  \n",
       "2020-04-01                   0.0  \n",
       "2020-05-01                   0.0  "
      ]
     },
     "metadata": {},
     "output_type": "display_data"
    }
   ],
   "source": [
    "\n",
    "forecastPeriods = 5\n",
    "dfPred= pd.DataFrame({'Month' : pd.date_range('2020-01-01',periods = forecastPeriods,freq='MS')})\n",
    "cols= colPreds + colExog + colEndog\n",
    "for i,c in enumerate(cols):\n",
    "    dfPred[c] = data[c][-1] \n",
    "    dfPred[c]  = dfPred[c] ** (1+dfPred.index/500)\n",
    "\n",
    "dfPred.set_index(colTime,inplace=True)\n",
    "dfPred=dfPred.asfreq(freq=pd.offsets.MonthBegin())\n",
    "\n",
    "dfPredEndog = dfPred[colEndog]\n",
    "dfPredExog = dfPred[colExog]\n",
    "\n",
    "lag_order = fit.k_ar\n",
    "dfPredEndog = endog[-lag_order:].append(dfPredEndog)\n",
    "dfPredEndog = endog[-lag_order:]\n",
    "dfPredExog = exog.append(dfPredExog)[-forecastPeriods:]\n",
    "\n",
    "display(dfPredEndog,dfPredExog)"
   ]
  },
  {
   "cell_type": "code",
   "execution_count": 359,
   "metadata": {},
   "outputs": [
    {
     "data": {
      "text/plain": [
       "array([[ 43.09146742, 464.56410256],\n",
       "       [ 44.47615655, 470.30515558],\n",
       "       [ 44.14897038, 476.11715615],\n",
       "       [ 44.7343172 , 482.00098105],\n",
       "       [ 44.90929094, 487.95751787]])"
      ]
     },
     "execution_count": 359,
     "metadata": {},
     "output_type": "execute_result"
    }
   ],
   "source": [
    "pred = fit.forecast(y=dfPredEndog.values,exog_future =dfPredExog.values, steps=forecastPeriods)\n",
    "pred"
   ]
  },
  {
   "cell_type": "code",
   "execution_count": null,
   "metadata": {},
   "outputs": [],
   "source": []
  }
 ],
 "metadata": {
  "kernelspec": {
   "display_name": "Python 3",
   "language": "python",
   "name": "python3"
  },
  "language_info": {
   "codemirror_mode": {
    "name": "ipython",
    "version": 3
   },
   "file_extension": ".py",
   "mimetype": "text/x-python",
   "name": "python",
   "nbconvert_exporter": "python",
   "pygments_lexer": "ipython3",
   "version": "3.7.7"
  },
  "toc-autonumbering": true,
  "toc-showtags": true
 },
 "nbformat": 4,
 "nbformat_minor": 4
}
