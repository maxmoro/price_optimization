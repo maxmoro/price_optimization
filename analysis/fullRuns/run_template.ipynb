{
 "cells": [
  {
   "cell_type": "markdown",
   "metadata": {},
   "source": [
    "# Init"
   ]
  },
  {
   "cell_type": "code",
   "execution_count": 77,
   "metadata": {
    "tags": []
   },
   "outputs": [
    {
     "name": "stdout",
     "output_type": "stream",
     "text": [
      "The autoreload extension is already loaded. To reload it, use:\n",
      "  %reload_ext autoreload\n"
     ]
    }
   ],
   "source": [
    "%load_ext autoreload\n",
    "%autoreload 2"
   ]
  },
  {
   "cell_type": "code",
   "execution_count": 78,
   "metadata": {},
   "outputs": [
    {
     "name": "stdout",
     "output_type": "stream",
     "text": [
      "CURRENT FOLDER:\n"
     ]
    },
    {
     "data": {
      "text/plain": [
       "'c:\\\\max\\\\Google Drive Max\\\\Max Shared\\\\Master Data Science\\\\2020-05 Capstone A\\\\msds_capstone\\\\analysis\\\\fullRuns'"
      ]
     },
     "execution_count": 78,
     "metadata": {},
     "output_type": "execute_result"
    }
   ],
   "source": [
    "print(\"CURRENT FOLDER:\")\n",
    "%pwd"
   ]
  },
  {
   "cell_type": "code",
   "execution_count": 79,
   "metadata": {
    "tags": []
   },
   "outputs": [],
   "source": [
    "import os\n",
    "# import glob\n",
    "import sys\n",
    "sys.path.append(os.environ['DEV_AUTOTS'])\n",
    "sys.path.append(os.environ['CAPSTONE_PYTHON_SOURCE'])\n",
    "# folder = os.environ['CAPSTONE_DATA']"
   ]
  },
  {
   "cell_type": "code",
   "execution_count": 80,
   "metadata": {},
   "outputs": [
    {
     "data": {
      "text/html": [
       "        <script type=\"text/javascript\">\n",
       "        window.PlotlyConfig = {MathJaxConfig: 'local'};\n",
       "        if (window.MathJax) {MathJax.Hub.Config({SVG: {font: \"STIX-Web\"}});}\n",
       "        if (typeof require !== 'undefined') {\n",
       "        require.undef(\"plotly\");\n",
       "        requirejs.config({\n",
       "            paths: {\n",
       "                'plotly': ['https://cdn.plot.ly/plotly-latest.min']\n",
       "            }\n",
       "        });\n",
       "        require(['plotly'], function(Plotly) {\n",
       "            window._Plotly = Plotly;\n",
       "        });\n",
       "        }\n",
       "        </script>\n",
       "        "
      ]
     },
     "metadata": {},
     "output_type": "display_data"
    }
   ],
   "source": [
    "## Sourcing the .py with all the code##\n",
    "t='\"'+os.environ['CAPSTONE_PYTHON_SOURCE']+'\\\\fullRun\\\\fullRun.py'+'\"'\n",
    "%run -i $t"
   ]
  },
  {
   "cell_type": "code",
   "execution_count": null,
   "metadata": {},
   "outputs": [],
   "source": [
    "from ETL.ETL import loadDataset"
   ]
  },
  {
   "cell_type": "markdown",
   "metadata": {},
   "source": [
    "# Parameters"
   ]
  },
  {
   "cell_type": "code",
   "execution_count": 81,
   "metadata": {
    "tags": []
   },
   "outputs": [],
   "source": [
    "#Parameters\n",
    "\n",
    "ProdCats = ['SUP PREM WHISKEY']\n",
    "TOP_PRODUCTS = 3  # How many products to consider in the category\n",
    "TOP_SIMILAR = 1   # Get TOP_SIMILAR most similar products\n",
    "RUN_PERIODS = [1,2,3] # this will run AutoTS and Optimzer for speicfic periods (1 = last, 2 = second to last)\n",
    "\n",
    "CV_NUM = 10         # number of Cross Valudations  10\n",
    "OPT_CALLS = 100     # number of calls for the optimizer process   100\n",
    "OPT_RND_STARTS = 20 # number of random calls for the optimizer process  20\n",
    "\n",
    "LOG_TRANSFORM = True # Take log of 9L cases to smooth out peaks and valleys\n",
    "ZERO_ADDER = 0.1 \n",
    "\n",
    "RESAMPLE_FREQ = 'M'\n",
    "\n",
    "\n",
    "# Pricing changes every 4 weeks\n",
    "if RESAMPLE_FREQ == 'M':    FORECAST_PERIOD = 1 #last 4 months as test \n",
    "if RESAMPLE_FREQ == 'W':    FORECAST_PERIOD = 4 \n",
    "if RESAMPLE_FREQ == '2W':   FORECAST_PERIOD = 2 \n",
    "\n",
    "# Seasonal Period\n",
    "if RESAMPLE_FREQ == 'M':    SEASONAL_PERIOD = 12  # Yearly\n",
    "if RESAMPLE_FREQ == 'W':    SEASONAL_PERIOD = 13 # Quarterly (we can also take yearly = 52, but SARIMAX becomes too slow)\n",
    "if RESAMPLE_FREQ == '2W':   SEASONAL_PERIOD = 13 # This becomes problematic --> for quarterly, should we take 6 biweekly periods or 7 bi-weekly periods. Instead I just took half yearly period  \n",
    "\n",
    "COL_TIME = 'WeekDate'\n",
    "COL_PREDS = ['9L Cases'] #Demand\n",
    "COL_PRICE= ['Dollar Sales per 9L Case'] #Price\n"
   ]
  },
  {
   "cell_type": "markdown",
   "metadata": {},
   "source": [
    "# Full Run"
   ]
  },
  {
   "cell_type": "code",
   "execution_count": 82,
   "metadata": {},
   "outputs": [
    {
     "data": {
      "text/plain": [
       "['']"
      ]
     },
     "metadata": {},
     "output_type": "display_data"
    },
    {
     "data": {
      "text/plain": [
       "['SUP PREM WHISKEY']"
      ]
     },
     "metadata": {},
     "output_type": "display_data"
    }
   ],
   "source": [
    "dataRaw = loadDataset(version=4)\n",
    "ProdCat = 'SUP PREM WHISKEY' #'ECONOMY VODKA'\n",
    "ChainMasters =  [''] #+  dataRaw['Chain Master'].unique().tolist() \n",
    "display(ChainMasters,ProdCats)"
   ]
  },
  {
   "cell_type": "code",
   "execution_count": 83,
   "metadata": {},
   "outputs": [
    {
     "name": "stdout",
     "output_type": "stream",
     "text": [
      "==================================================\n",
      "Parameters being used...\n",
      "==================================================\n",
      "TOP_PRODUCTS = 2\n",
      "TOP_SIMILAR = 1\n",
      "RUN_PERIODS = [1]\n",
      "ProdCat: SUP PREM WHISKEY\n",
      "ChainMasters: ['']\n",
      "\n",
      "\n",
      "========================== (2020-08-31 17:21:01.898866)\n",
      "===== Products List  =====\n",
      "==== SUP PREM WHISKEY ====\n",
      "============  ============\n",
      "==========================\n",
      "\n",
      "\n",
      "\n",
      "========================== (2020-08-31 17:21:07.212674)\n",
      "======== AUTO-TS =========\n",
      "==== SUP PREM WHISKEY ====\n",
      "============  ============\n",
      "=========== 1 ============\n",
      "==========================\n",
      "\n",
      "\n",
      "\n",
      "================== (2020-08-31 17:21:07.213674)\n",
      "==== GET DATA ====\n",
      "========  ========\n",
      "==================\n",
      "\n",
      "resampling to  M\n",
      "Decoder: {'0': 'JACK DANIELS BLK WHSKY  1L', '1': 'JACK DANIELS BLK WHSKY  1.75L'}\n",
      "\n",
      "\n",
      "\n",
      "--------------------------------------------------\n",
      "Product: JACK DANIELS BLK WHSKY  1L\n",
      "--------------------------------------------------\n",
      "Exogenous Price Columns: ['0', '1']\n",
      "% of weeks without a purchase: 0.0\n",
      "resampling to  M\n",
      "\n",
      "\n",
      "\n",
      "--------------------------------------------------\n",
      "Product: JACK DANIELS BLK WHSKY  1.75L\n",
      "--------------------------------------------------\n",
      "Exogenous Price Columns: ['1', '0']\n",
      "% of weeks without a purchase: 1.1904761904761905\n",
      "Log Transforming\n",
      "\tProduct: JACK DANIELS BLK WHSKY  1L\n",
      "\tProduct: JACK DANIELS BLK WHSKY  1.75L\n",
      "\n",
      "\n",
      "===================== (2020-08-31 17:21:27.857348)\n",
      "==== WHITE NOISE ====\n",
      "=========  ==========\n",
      "=====================\n",
      "\n",
      "      lb_stat  lb_pvalue\n",
      "12  17.529696   0.130735\n",
      "24  31.092108   0.151145\n",
      "48  54.922995   0.228882\n",
      "\n",
      "Is Data White Noise: True\n",
      "       lb_stat     lb_pvalue\n",
      "12  115.750529  4.333814e-19\n",
      "24  214.169023  1.845834e-32\n",
      "48  308.098428  1.176533e-39\n",
      "\n",
      "Is Data White Noise: False\n",
      "\n",
      "\n",
      "==================== (2020-08-31 17:21:27.873321)\n",
      "==== TEST/TRAIN ====\n",
      "=========  =========\n",
      "====================\n",
      "\n",
      "(83, 4) (1, 4)\n",
      "(83, 4) (1, 4)\n",
      "\n",
      "\n",
      "=============== (2020-08-31 17:21:27.881320)\n",
      "==== NAIVE ====\n",
      "======  =======\n",
      "===============\n",
      "\n",
      "  ID Best Type  Best RMSE All Naives  \\\n",
      "0  0      mean   0.043169         []   \n",
      "1  1      last   0.324455         []   \n",
      "\n",
      "                                           All RMSEs  \\\n",
      "0  [[0.07143315389555474, 0.11332894033533458, 0....   \n",
      "1  [[0.3244545696539494, 0.4963154566538675, 0.34...   \n",
      "\n",
      "                       All Types                              Best Naive  \n",
      "0  [[last, seasonal_last, mean]]  NaiveForecaster(sp=4, strategy='mean')  \n",
      "1  [[last, seasonal_last, mean]]                   NaiveForecaster(sp=4)  \n",
      "\n",
      "\n",
      "===================== (2020-08-31 17:21:28.202356)\n",
      "==== Multivar P0 ====\n",
      "=========  ==========\n",
      "=====================\n",
      "\n"
     ]
    },
    {
     "name": "stderr",
     "output_type": "stream",
     "text": [
      "[Parallel(n_jobs=-1)]: Using backend LokyBackend with 8 concurrent workers.\n",
      "[Parallel(n_jobs=-1)]: Done   2 out of   2 | elapsed:  2.8min remaining:    0.0s\n",
      "[Parallel(n_jobs=-1)]: Done   2 out of   2 | elapsed:  2.8min finished\n",
      "[Parallel(n_jobs=-1)]: Using backend LokyBackend with 8 concurrent workers.\n"
     ]
    },
    {
     "name": "stdout",
     "output_type": "stream",
     "text": [
      "\n",
      "\n",
      "========================= (2020-08-31 17:24:13.352035)\n",
      "==== Multivar P0+Sim ====\n",
      "===========  ============\n",
      "=========================\n",
      "\n"
     ]
    },
    {
     "name": "stderr",
     "output_type": "stream",
     "text": [
      "[Parallel(n_jobs=-1)]: Done   2 out of   2 | elapsed:  2.8min remaining:    0.0s\n",
      "[Parallel(n_jobs=-1)]: Done   2 out of   2 | elapsed:  2.8min finished\n"
     ]
    },
    {
     "name": "stdout",
     "output_type": "stream",
     "text": [
      "\n",
      "\n",
      "=================== (2020-08-31 17:27:04.425927)\n",
      "==== COMPLETED ====\n",
      "========  =========\n",
      "===================\n",
      "\n",
      "\n",
      "\n",
      "========================== (2020-08-31 17:27:04.430926)\n",
      "======= OPTIMIZER ========\n",
      "==== SUP PREM WHISKEY ====\n",
      "============  ============\n",
      "=========== 1 ============\n",
      "==========================\n",
      "\n",
      "\n",
      "\n",
      "=========================== (2020-08-31 17:27:04.430926)\n",
      "==== Running Optimizer ====\n",
      "==== SUP PREM WHISKEY =====\n",
      "============  =============\n",
      "============ 1 ============\n",
      "===========================\n",
      "\n",
      "\n",
      "\n",
      "================== (2020-08-31 17:27:04.433927)\n",
      "==== GET DATA ====\n",
      "========  ========\n",
      "==================\n",
      "\n",
      "resampling to  M\n",
      "Decoder: {'0': 'JACK DANIELS BLK WHSKY  1L', '1': 'JACK DANIELS BLK WHSKY  1.75L'}\n",
      "\n",
      "\n",
      "\n",
      "--------------------------------------------------\n",
      "Product: JACK DANIELS BLK WHSKY  1L\n",
      "--------------------------------------------------\n",
      "Exogenous Price Columns: ['0', '1']\n",
      "% of weeks without a purchase: 0.0\n",
      "resampling to  M\n",
      "\n",
      "\n",
      "\n",
      "--------------------------------------------------\n",
      "Product: JACK DANIELS BLK WHSKY  1.75L\n",
      "--------------------------------------------------\n",
      "Exogenous Price Columns: ['1', '0']\n",
      "% of weeks without a purchase: 1.1904761904761905\n",
      "Log Transforming\n",
      "\tProduct: JACK DANIELS BLK WHSKY  1L\n",
      "\tProduct: JACK DANIELS BLK WHSKY  1.75L\n",
      "\n",
      "\n",
      "==================== (2020-08-31 17:27:19.303889)\n",
      "==== TEST/TRAIN ====\n",
      "=========  =========\n",
      "====================\n",
      "\n",
      "(83, 4) (1, 4)\n",
      "(83, 4) (1, 4)\n",
      "\n",
      "\n",
      "======================== (2020-08-31 17:27:19.306888)\n",
      "==== NAIVE FORECAST ====\n",
      "===========  ===========\n",
      "========================\n",
      "\n",
      "\n",
      "\n",
      "============== (2020-08-31 17:27:19.314914)\n",
      "==== MASK ====\n",
      "======  ======\n",
      "==============\n",
      "\n",
      "Mask: [False, False]\n",
      "\n",
      "\n",
      "=============== (2020-08-31 17:27:19.315915)\n",
      "==== SPACE ====\n",
      "======  =======\n",
      "===============\n",
      "\n",
      "\n",
      "\n",
      "==================== (2020-08-31 17:27:19.318915)\n",
      "==== Test Index ====\n",
      "=========  =========\n",
      "====================\n",
      "\n",
      "\n",
      "\n",
      "========================= (2020-08-31 17:27:19.319915)\n",
      "==== GET FUNCTION P0 ====\n",
      "===========  ============\n",
      "=========================\n",
      "\n",
      "\n",
      "\n",
      "====================================== (2020-08-31 17:27:19.319915)\n",
      "==== GET NON-OPTIMIZED REVENUE P0 ====\n",
      "==================  ==================\n",
      "======================================\n",
      "\n",
      "\n",
      "\n",
      "=================== (2020-08-31 17:27:19.368888)\n",
      "==== OUTPUT P0 ====\n",
      "========  =========\n",
      "===================\n",
      "\n",
      "\n",
      "\n",
      "======================= (2020-08-31 17:27:19.372887)\n",
      "==== OPTIMIZING P0 ====\n",
      "==========  ===========\n",
      "=======================\n",
      "\n",
      "\n",
      "\n",
      "=================== (2020-08-31 17:27:21.515915)\n",
      "==== OUTPUT P0 ====\n",
      "========  =========\n",
      "===================\n",
      "\n",
      "\n",
      "\n",
      "============================= (2020-08-31 17:27:21.555914)\n",
      "==== GET FUNCTION P0+Sim ====\n",
      "=============  ==============\n",
      "=============================\n",
      "\n",
      "\n",
      "\n",
      "========================================== (2020-08-31 17:27:21.556887)\n",
      "==== GET NON-OPTIMIZED REVENUE P0+Sim ====\n",
      "====================  ====================\n",
      "==========================================\n",
      "\n",
      "\n",
      "\n",
      "=================== (2020-08-31 17:27:21.585914)\n",
      "==== OUTPUT P0 ====\n",
      "========  =========\n",
      "===================\n",
      "\n",
      "\n",
      "\n",
      "=========================== (2020-08-31 17:27:21.592884)\n",
      "==== OPTIMIZING P0+Sim ====\n",
      "============  =============\n",
      "===========================\n",
      "\n",
      "\n",
      "\n",
      "=================== (2020-08-31 17:27:24.064917)\n",
      "==== OUTPUT P0 ====\n",
      "========  =========\n",
      "===================\n",
      "\n",
      "\n",
      "\n",
      "=================== (2020-08-31 17:27:24.104919)\n",
      "==== COMPLETED ====\n",
      "========  =========\n",
      "===================\n",
      "\n",
      "\n",
      "\n",
      "========================== (2020-08-31 17:27:24.114949)\n",
      "==== Saving to PICKLE ====\n",
      "==== SUP PREM WHISKEY ====\n",
      "==========================\n",
      "\n",
      "Pickle File  full_models_SUP PREM WHISKEY_Prod2_Sim1_Per1.pkl  saved in filder:  c:\\max\\Google Drive Max\\Max Shared\\Master Data Science\\2020-05 Capstone A\\msds_capstone\\analysis\\fullRuns\n",
      "Pickle File  full_opt_SUP PREM WHISKEY_Prod2_Sim1_Per1.pkl  saved in filder:  c:\\max\\Google Drive Max\\Max Shared\\Master Data Science\\2020-05 Capstone A\\msds_capstone\\analysis\\fullRuns\n",
      "\n",
      "\n",
      "========================== (2020-08-31 17:27:24.196919)\n",
      "==== Saving to EXCEL =====\n",
      "==== SUP PREM WHISKEY ====\n",
      "==========================\n",
      "\n",
      "EXCEL File  Output_SUP PREM WHISKEY_Prod2_Sim1_Per1.xlsx  saved in filder:  c:\\max\\Google Drive Max\\Max Shared\\Master Data Science\\2020-05 Capstone A\\msds_capstone\\analysis\\fullRuns\n"
     ]
    }
   ],
   "source": [
    "(full_models,full_opt,full_summary,full_chain_summary)  = fullRun(ProdCat = ProdCat\n",
    "                                                           ,ChainMasters = ChainMasters\n",
    "                                                           ,dataRaw = dataRaw\n",
    "                                                           ,savePKL=True\n",
    "                                                           ,saveXLS=True)"
   ]
  },
  {
   "cell_type": "markdown",
   "metadata": {},
   "source": [
    "# Print out"
   ]
  },
  {
   "cell_type": "markdown",
   "metadata": {},
   "source": [
    "## Models"
   ]
  },
  {
   "cell_type": "code",
   "execution_count": 84,
   "metadata": {},
   "outputs": [
    {
     "data": {
      "text/html": [
       "<div>\n",
       "<style scoped>\n",
       "    .dataframe tbody tr th:only-of-type {\n",
       "        vertical-align: middle;\n",
       "    }\n",
       "\n",
       "    .dataframe tbody tr th {\n",
       "        vertical-align: top;\n",
       "    }\n",
       "\n",
       "    .dataframe thead th {\n",
       "        text-align: right;\n",
       "    }\n",
       "</style>\n",
       "<table border=\"1\" class=\"dataframe\">\n",
       "  <thead>\n",
       "    <tr style=\"text-align: right;\">\n",
       "      <th></th>\n",
       "      <th>Chain Master</th>\n",
       "      <th>Product</th>\n",
       "      <th>Period to Last</th>\n",
       "      <th>White Noise</th>\n",
       "      <th>Naive Best Type</th>\n",
       "      <th>Naive Best RMSE</th>\n",
       "      <th>P0 Best Model Name</th>\n",
       "      <th>P0 Best Model RMSE</th>\n",
       "      <th>P0+Sim Best Model Name</th>\n",
       "      <th>P0+Sim Best Model RMSE</th>\n",
       "    </tr>\n",
       "  </thead>\n",
       "  <tbody>\n",
       "    <tr>\n",
       "      <th>1</th>\n",
       "      <td></td>\n",
       "      <td>JACK DANIELS BLK WHSKY  1.75L</td>\n",
       "      <td>1</td>\n",
       "      <td>False</td>\n",
       "      <td>last</td>\n",
       "      <td>0.324455</td>\n",
       "      <td>ML</td>\n",
       "      <td>0.224917</td>\n",
       "      <td>SARIMAX</td>\n",
       "      <td>0.142141</td>\n",
       "    </tr>\n",
       "    <tr>\n",
       "      <th>0</th>\n",
       "      <td></td>\n",
       "      <td>JACK DANIELS BLK WHSKY  1L</td>\n",
       "      <td>1</td>\n",
       "      <td>True</td>\n",
       "      <td>mean</td>\n",
       "      <td>0.043169</td>\n",
       "      <td>SARIMAX</td>\n",
       "      <td>0.011244</td>\n",
       "      <td>SARIMAX</td>\n",
       "      <td>0.007738</td>\n",
       "    </tr>\n",
       "  </tbody>\n",
       "</table>\n",
       "</div>"
      ],
      "text/plain": [
       "  Chain Master                        Product  Period to Last  White Noise  \\\n",
       "1               JACK DANIELS BLK WHSKY  1.75L               1        False   \n",
       "0                  JACK DANIELS BLK WHSKY  1L               1         True   \n",
       "\n",
       "  Naive Best Type  Naive Best RMSE P0 Best Model Name  P0 Best Model RMSE  \\\n",
       "1            last         0.324455                 ML            0.224917   \n",
       "0            mean         0.043169            SARIMAX            0.011244   \n",
       "\n",
       "  P0+Sim Best Model Name  P0+Sim Best Model RMSE  \n",
       "1                SARIMAX                0.142141  \n",
       "0                SARIMAX                0.007738  "
      ]
     },
     "execution_count": 84,
     "metadata": {},
     "output_type": "execute_result"
    }
   ],
   "source": [
    "full_models[outputColsModels]"
   ]
  },
  {
   "cell_type": "markdown",
   "metadata": {},
   "source": [
    "## Optimizer"
   ]
  },
  {
   "cell_type": "markdown",
   "metadata": {},
   "source": [
    "### Summary by Chain"
   ]
  },
  {
   "cell_type": "code",
   "execution_count": 85,
   "metadata": {},
   "outputs": [
    {
     "data": {
      "text/html": [
       "<div>\n",
       "<style scoped>\n",
       "    .dataframe tbody tr th:only-of-type {\n",
       "        vertical-align: middle;\n",
       "    }\n",
       "\n",
       "    .dataframe tbody tr th {\n",
       "        vertical-align: top;\n",
       "    }\n",
       "\n",
       "    .dataframe thead th {\n",
       "        text-align: right;\n",
       "    }\n",
       "</style>\n",
       "<table border=\"1\" class=\"dataframe\">\n",
       "  <thead>\n",
       "    <tr style=\"text-align: right;\">\n",
       "      <th></th>\n",
       "      <th>Chain Master</th>\n",
       "      <th>P0 Non-Opt Revenue</th>\n",
       "      <th>P0 Opt Revenue</th>\n",
       "      <th>P0 Opt Diff</th>\n",
       "      <th>P0 Opt Diff Ratio</th>\n",
       "      <th>P0+Sim Non-Opt Revenue</th>\n",
       "      <th>P0+Sim Opt Revenue</th>\n",
       "      <th>P0+Sim Opt Diff</th>\n",
       "      <th>P0+Sim Opt Diff Ratio</th>\n",
       "    </tr>\n",
       "  </thead>\n",
       "  <tbody>\n",
       "    <tr>\n",
       "      <th>0</th>\n",
       "      <td></td>\n",
       "      <td>94651.0</td>\n",
       "      <td>89770.0</td>\n",
       "      <td>-4881.0</td>\n",
       "      <td>0.948432</td>\n",
       "      <td>150999.0</td>\n",
       "      <td>153075.0</td>\n",
       "      <td>2076.0</td>\n",
       "      <td>1.013748</td>\n",
       "    </tr>\n",
       "  </tbody>\n",
       "</table>\n",
       "</div>"
      ],
      "text/plain": [
       "  Chain Master  P0 Non-Opt Revenue  P0 Opt Revenue  P0 Opt Diff  \\\n",
       "0                          94651.0         89770.0      -4881.0   \n",
       "\n",
       "   P0 Opt Diff Ratio  P0+Sim Non-Opt Revenue  P0+Sim Opt Revenue  \\\n",
       "0           0.948432                150999.0            153075.0   \n",
       "\n",
       "   P0+Sim Opt Diff  P0+Sim Opt Diff Ratio  \n",
       "0           2076.0               1.013748  "
      ]
     },
     "execution_count": 85,
     "metadata": {},
     "output_type": "execute_result"
    }
   ],
   "source": [
    "full_chain_summary"
   ]
  },
  {
   "cell_type": "code",
   "execution_count": 58,
   "metadata": {},
   "outputs": [
    {
     "name": "stdout",
     "output_type": "stream",
     "text": [
      "WRITE this value in the summary table in Git hub ---> 1.0137\n"
     ]
    }
   ],
   "source": [
    "\n",
    "print(\"WRITE this value in the summary table in Git hub --->\",round(full_chain_summary[full_chain_summary['Chain Master']=='']['P0+Sim Opt Diff Ratio'].item(),4))"
   ]
  },
  {
   "cell_type": "markdown",
   "metadata": {},
   "source": [
    "Link to the Git Hub Summary Table: https://github.com/ngupta23/msds_capstone/issues/84"
   ]
  },
  {
   "cell_type": "markdown",
   "metadata": {},
   "source": [
    "### Summary by Chain and Product"
   ]
  },
  {
   "cell_type": "code",
   "execution_count": 87,
   "metadata": {},
   "outputs": [
    {
     "data": {
      "text/html": [
       "<div>\n",
       "<style scoped>\n",
       "    .dataframe tbody tr th:only-of-type {\n",
       "        vertical-align: middle;\n",
       "    }\n",
       "\n",
       "    .dataframe tbody tr th {\n",
       "        vertical-align: top;\n",
       "    }\n",
       "\n",
       "    .dataframe thead th {\n",
       "        text-align: right;\n",
       "    }\n",
       "</style>\n",
       "<table border=\"1\" class=\"dataframe\">\n",
       "  <thead>\n",
       "    <tr style=\"text-align: right;\">\n",
       "      <th></th>\n",
       "      <th>Chain Master</th>\n",
       "      <th>Product</th>\n",
       "      <th>P0 Non-Opt Revenue</th>\n",
       "      <th>P0 Opt Revenue</th>\n",
       "      <th>P0 Opt Diff</th>\n",
       "      <th>P0 Opt Diff Ratio</th>\n",
       "      <th>P0+Sim Non-Opt Revenue</th>\n",
       "      <th>P0+Sim Opt Revenue</th>\n",
       "      <th>P0+Sim Opt Diff</th>\n",
       "      <th>P0+Sim Opt Diff Ratio</th>\n",
       "    </tr>\n",
       "  </thead>\n",
       "  <tbody>\n",
       "    <tr>\n",
       "      <th>0</th>\n",
       "      <td></td>\n",
       "      <td>JACK DANIELS BLK WHSKY  1.75L</td>\n",
       "      <td>23364.0</td>\n",
       "      <td>21792.0</td>\n",
       "      <td>-1572.0</td>\n",
       "      <td>0.932717</td>\n",
       "      <td>80391.0</td>\n",
       "      <td>82908.0</td>\n",
       "      <td>2517.0</td>\n",
       "      <td>1.031309</td>\n",
       "    </tr>\n",
       "    <tr>\n",
       "      <th>1</th>\n",
       "      <td></td>\n",
       "      <td>JACK DANIELS BLK WHSKY  1L</td>\n",
       "      <td>71287.0</td>\n",
       "      <td>67978.0</td>\n",
       "      <td>-3309.0</td>\n",
       "      <td>0.953582</td>\n",
       "      <td>70608.0</td>\n",
       "      <td>70167.0</td>\n",
       "      <td>-441.0</td>\n",
       "      <td>0.993754</td>\n",
       "    </tr>\n",
       "  </tbody>\n",
       "</table>\n",
       "</div>"
      ],
      "text/plain": [
       "  Chain Master                        Product  P0 Non-Opt Revenue  \\\n",
       "0               JACK DANIELS BLK WHSKY  1.75L             23364.0   \n",
       "1                  JACK DANIELS BLK WHSKY  1L             71287.0   \n",
       "\n",
       "   P0 Opt Revenue  P0 Opt Diff  P0 Opt Diff Ratio  P0+Sim Non-Opt Revenue  \\\n",
       "0         21792.0      -1572.0           0.932717                 80391.0   \n",
       "1         67978.0      -3309.0           0.953582                 70608.0   \n",
       "\n",
       "   P0+Sim Opt Revenue  P0+Sim Opt Diff  P0+Sim Opt Diff Ratio  \n",
       "0             82908.0           2517.0               1.031309  \n",
       "1             70167.0           -441.0               0.993754  "
      ]
     },
     "execution_count": 87,
     "metadata": {},
     "output_type": "execute_result"
    }
   ],
   "source": [
    "full_summary"
   ]
  },
  {
   "cell_type": "markdown",
   "metadata": {},
   "source": [
    "### P0 Optimizer"
   ]
  },
  {
   "cell_type": "code",
   "execution_count": 88,
   "metadata": {},
   "outputs": [
    {
     "data": {
      "text/html": [
       "<div>\n",
       "<style scoped>\n",
       "    .dataframe tbody tr th:only-of-type {\n",
       "        vertical-align: middle;\n",
       "    }\n",
       "\n",
       "    .dataframe tbody tr th {\n",
       "        vertical-align: top;\n",
       "    }\n",
       "\n",
       "    .dataframe thead th {\n",
       "        text-align: right;\n",
       "    }\n",
       "</style>\n",
       "<table border=\"1\" class=\"dataframe\">\n",
       "  <thead>\n",
       "    <tr style=\"text-align: right;\">\n",
       "      <th></th>\n",
       "      <th>Chain Master</th>\n",
       "      <th>Product</th>\n",
       "      <th>Period to Last</th>\n",
       "      <th>P0 Non-Opt Price</th>\n",
       "      <th>P0 Non-Opt Demand</th>\n",
       "      <th>P0 Non-Opt Revenue</th>\n",
       "      <th>P0 Non-Opt Chain Master Revenue</th>\n",
       "      <th>P0 Optimal Price</th>\n",
       "      <th>P0 Demand</th>\n",
       "      <th>P0 Revenue</th>\n",
       "      <th>P0 Chain Master Revenue</th>\n",
       "    </tr>\n",
       "  </thead>\n",
       "  <tbody>\n",
       "    <tr>\n",
       "      <th>1</th>\n",
       "      <td></td>\n",
       "      <td>JACK DANIELS BLK WHSKY  1.75L</td>\n",
       "      <td>1</td>\n",
       "      <td>185.65</td>\n",
       "      <td>126</td>\n",
       "      <td>23364</td>\n",
       "      <td>94651</td>\n",
       "      <td>173.16</td>\n",
       "      <td>126</td>\n",
       "      <td>21792</td>\n",
       "      <td>89770</td>\n",
       "    </tr>\n",
       "    <tr>\n",
       "      <th>0</th>\n",
       "      <td></td>\n",
       "      <td>JACK DANIELS BLK WHSKY  1L</td>\n",
       "      <td>1</td>\n",
       "      <td>229.81</td>\n",
       "      <td>310</td>\n",
       "      <td>71287</td>\n",
       "      <td>94651</td>\n",
       "      <td>228.22</td>\n",
       "      <td>298</td>\n",
       "      <td>67978</td>\n",
       "      <td>89770</td>\n",
       "    </tr>\n",
       "  </tbody>\n",
       "</table>\n",
       "</div>"
      ],
      "text/plain": [
       "  Chain Master                        Product  Period to Last  \\\n",
       "1               JACK DANIELS BLK WHSKY  1.75L               1   \n",
       "0                  JACK DANIELS BLK WHSKY  1L               1   \n",
       "\n",
       "   P0 Non-Opt Price  P0 Non-Opt Demand  P0 Non-Opt Revenue  \\\n",
       "1            185.65                126               23364   \n",
       "0            229.81                310               71287   \n",
       "\n",
       "   P0 Non-Opt Chain Master Revenue  P0 Optimal Price  P0 Demand  P0 Revenue  \\\n",
       "1                            94651            173.16        126       21792   \n",
       "0                            94651            228.22        298       67978   \n",
       "\n",
       "   P0 Chain Master Revenue  \n",
       "1                    89770  \n",
       "0                    89770  "
      ]
     },
     "execution_count": 88,
     "metadata": {},
     "output_type": "execute_result"
    }
   ],
   "source": [
    "full_opt[outputColsOptP0]"
   ]
  },
  {
   "cell_type": "markdown",
   "metadata": {},
   "source": [
    "### P0+Sim Optimizer"
   ]
  },
  {
   "cell_type": "code",
   "execution_count": 89,
   "metadata": {},
   "outputs": [
    {
     "data": {
      "text/html": [
       "<div>\n",
       "<style scoped>\n",
       "    .dataframe tbody tr th:only-of-type {\n",
       "        vertical-align: middle;\n",
       "    }\n",
       "\n",
       "    .dataframe tbody tr th {\n",
       "        vertical-align: top;\n",
       "    }\n",
       "\n",
       "    .dataframe thead th {\n",
       "        text-align: right;\n",
       "    }\n",
       "</style>\n",
       "<table border=\"1\" class=\"dataframe\">\n",
       "  <thead>\n",
       "    <tr style=\"text-align: right;\">\n",
       "      <th></th>\n",
       "      <th>Chain Master</th>\n",
       "      <th>Product</th>\n",
       "      <th>Period to Last</th>\n",
       "      <th>P0+Sim Non-Opt Price</th>\n",
       "      <th>P0+Sim Non-Opt Demand</th>\n",
       "      <th>P0+Sim Non-Opt Revenue</th>\n",
       "      <th>P0+Sim Non-Opt Chain Master Revenue</th>\n",
       "      <th>P0+Sim Optimal Price</th>\n",
       "      <th>P0+Sim Demand</th>\n",
       "      <th>P0+Sim Revenue</th>\n",
       "      <th>P0+Sim Chain Master Revenue</th>\n",
       "    </tr>\n",
       "  </thead>\n",
       "  <tbody>\n",
       "    <tr>\n",
       "      <th>1</th>\n",
       "      <td></td>\n",
       "      <td>JACK DANIELS BLK WHSKY  1.75L</td>\n",
       "      <td>1</td>\n",
       "      <td>185.65</td>\n",
       "      <td>433</td>\n",
       "      <td>80391</td>\n",
       "      <td>150999</td>\n",
       "      <td>173.16</td>\n",
       "      <td>479</td>\n",
       "      <td>82908</td>\n",
       "      <td>153075</td>\n",
       "    </tr>\n",
       "    <tr>\n",
       "      <th>0</th>\n",
       "      <td></td>\n",
       "      <td>JACK DANIELS BLK WHSKY  1L</td>\n",
       "      <td>1</td>\n",
       "      <td>229.81</td>\n",
       "      <td>307</td>\n",
       "      <td>70608</td>\n",
       "      <td>150999</td>\n",
       "      <td>228.22</td>\n",
       "      <td>307</td>\n",
       "      <td>70167</td>\n",
       "      <td>153075</td>\n",
       "    </tr>\n",
       "  </tbody>\n",
       "</table>\n",
       "</div>"
      ],
      "text/plain": [
       "  Chain Master                        Product  Period to Last  \\\n",
       "1               JACK DANIELS BLK WHSKY  1.75L               1   \n",
       "0                  JACK DANIELS BLK WHSKY  1L               1   \n",
       "\n",
       "   P0+Sim Non-Opt Price  P0+Sim Non-Opt Demand  P0+Sim Non-Opt Revenue  \\\n",
       "1                185.65                    433                   80391   \n",
       "0                229.81                    307                   70608   \n",
       "\n",
       "   P0+Sim Non-Opt Chain Master Revenue  P0+Sim Optimal Price  P0+Sim Demand  \\\n",
       "1                               150999                173.16            479   \n",
       "0                               150999                228.22            307   \n",
       "\n",
       "   P0+Sim Revenue  P0+Sim Chain Master Revenue  \n",
       "1           82908                       153075  \n",
       "0           70167                       153075  "
      ]
     },
     "execution_count": 89,
     "metadata": {},
     "output_type": "execute_result"
    }
   ],
   "source": [
    "full_opt[outputColsOptP0Sim]\n"
   ]
  },
  {
   "cell_type": "markdown",
   "metadata": {},
   "source": [
    "### Naive"
   ]
  },
  {
   "cell_type": "code",
   "execution_count": 90,
   "metadata": {},
   "outputs": [
    {
     "data": {
      "text/html": [
       "<div>\n",
       "<style scoped>\n",
       "    .dataframe tbody tr th:only-of-type {\n",
       "        vertical-align: middle;\n",
       "    }\n",
       "\n",
       "    .dataframe tbody tr th {\n",
       "        vertical-align: top;\n",
       "    }\n",
       "\n",
       "    .dataframe thead th {\n",
       "        text-align: right;\n",
       "    }\n",
       "</style>\n",
       "<table border=\"1\" class=\"dataframe\">\n",
       "  <thead>\n",
       "    <tr style=\"text-align: right;\">\n",
       "      <th></th>\n",
       "      <th>Chain Master</th>\n",
       "      <th>Product</th>\n",
       "      <th>Period to Last</th>\n",
       "      <th>Actual Price</th>\n",
       "      <th>Actual Demand</th>\n",
       "      <th>Actual Revenue</th>\n",
       "      <th>Actual Chain Master Revenue</th>\n",
       "      <th>Naive Prices</th>\n",
       "      <th>Naive Demand</th>\n",
       "      <th>Naive Revenue</th>\n",
       "      <th>Naive Chain Master Revenue</th>\n",
       "    </tr>\n",
       "  </thead>\n",
       "  <tbody>\n",
       "    <tr>\n",
       "      <th>1</th>\n",
       "      <td></td>\n",
       "      <td>JACK DANIELS BLK WHSKY  1.75L</td>\n",
       "      <td>1</td>\n",
       "      <td>185.650112</td>\n",
       "      <td>389.61</td>\n",
       "      <td>72331.14</td>\n",
       "      <td>207733.62</td>\n",
       "      <td>185.650112</td>\n",
       "      <td>40.950000</td>\n",
       "      <td>7602.372072</td>\n",
       "      <td>74847.602904</td>\n",
       "    </tr>\n",
       "    <tr>\n",
       "      <th>0</th>\n",
       "      <td></td>\n",
       "      <td>JACK DANIELS BLK WHSKY  1L</td>\n",
       "      <td>1</td>\n",
       "      <td>229.811232</td>\n",
       "      <td>589.19</td>\n",
       "      <td>135402.48</td>\n",
       "      <td>207733.62</td>\n",
       "      <td>229.811232</td>\n",
       "      <td>292.610723</td>\n",
       "      <td>67245.230832</td>\n",
       "      <td>74847.602904</td>\n",
       "    </tr>\n",
       "  </tbody>\n",
       "</table>\n",
       "</div>"
      ],
      "text/plain": [
       "  Chain Master                        Product  Period to Last  Actual Price  \\\n",
       "1               JACK DANIELS BLK WHSKY  1.75L               1    185.650112   \n",
       "0                  JACK DANIELS BLK WHSKY  1L               1    229.811232   \n",
       "\n",
       "   Actual Demand  Actual Revenue  Actual Chain Master Revenue  Naive Prices  \\\n",
       "1         389.61        72331.14                    207733.62    185.650112   \n",
       "0         589.19       135402.48                    207733.62    229.811232   \n",
       "\n",
       "   Naive Demand  Naive Revenue  Naive Chain Master Revenue  \n",
       "1     40.950000    7602.372072                74847.602904  \n",
       "0    292.610723   67245.230832                74847.602904  "
      ]
     },
     "execution_count": 90,
     "metadata": {},
     "output_type": "execute_result"
    }
   ],
   "source": [
    "full_opt[outputColsOptNaive]"
   ]
  },
  {
   "cell_type": "code",
   "execution_count": null,
   "metadata": {},
   "outputs": [],
   "source": []
  }
 ],
 "metadata": {
  "kernelspec": {
   "display_name": "Python 3",
   "language": "python",
   "name": "python3"
  },
  "language_info": {
   "codemirror_mode": {
    "name": "ipython",
    "version": 3
   },
   "file_extension": ".py",
   "mimetype": "text/x-python",
   "name": "python",
   "nbconvert_exporter": "python",
   "pygments_lexer": "ipython3",
   "version": "3.7.7"
  },
  "toc-autonumbering": true,
  "toc-showtags": true
 },
 "nbformat": 4,
 "nbformat_minor": 4
}