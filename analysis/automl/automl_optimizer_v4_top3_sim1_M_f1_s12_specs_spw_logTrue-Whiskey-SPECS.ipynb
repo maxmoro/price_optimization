{
 "cells": [
  {
   "cell_type": "markdown",
   "metadata": {},
   "source": [
    "# Init"
   ]
  },
  {
   "cell_type": "code",
   "execution_count": 1,
   "metadata": {},
   "outputs": [],
   "source": [
    "try:\n",
    "    import os\n",
    "    import glob\n",
    "    import sys\n",
    "    import math\n",
    "    from typing import List, Optional\n",
    "    from functools import partial\n",
    "    import itertools\n",
    "    import copy\n",
    "except Exception as e:\n",
    "    print(e)\n",
    "    print(\"Some of the libraries needed to run this script were not installed or were not loaded. Please install the libraries before proceeding.\")"
   ]
  },
  {
   "cell_type": "code",
   "execution_count": 103,
   "metadata": {
    "tags": []
   },
   "outputs": [],
   "source": [
    "sys.path.append(os.environ['DEV_AUTOTS'])\n",
    "sys.path.append(os.environ['CAPSTONE_PYTHON_SOURCE'])\n",
    "folder = os.environ['CAPSTONE_DATA']"
   ]
  },
  {
   "cell_type": "code",
   "execution_count": 104,
   "metadata": {
    "tags": []
   },
   "outputs": [
    {
     "data": {
      "text/html": [
       "        <script type=\"text/javascript\">\n",
       "        window.PlotlyConfig = {MathJaxConfig: 'local'};\n",
       "        if (window.MathJax) {MathJax.Hub.Config({SVG: {font: \"STIX-Web\"}});}\n",
       "        if (typeof require !== 'undefined') {\n",
       "        require.undef(\"plotly\");\n",
       "        requirejs.config({\n",
       "            paths: {\n",
       "                'plotly': ['https://cdn.plot.ly/plotly-latest.min']\n",
       "            }\n",
       "        });\n",
       "        require(['plotly'], function(Plotly) {\n",
       "            window._Plotly = Plotly;\n",
       "        });\n",
       "        }\n",
       "        </script>\n",
       "        "
      ]
     },
     "metadata": {},
     "output_type": "display_data"
    }
   ],
   "source": [
    "try:\n",
    "    # Data Tables\n",
    "    import pandas as pd\n",
    "    import numpy as np\n",
    "\n",
    "    # Plotting\n",
    "    import matplotlib.pyplot as plt\n",
    "    import plotly.offline as py\n",
    "    from plotly.offline import plot\n",
    "    py.init_notebook_mode(connected=True)\n",
    "\n",
    "    # EDA and Feature Engineering\n",
    "    from scipy.spatial.distance import euclidean, pdist, squareform\n",
    "    import statsmodels.api as sm\n",
    "\n",
    "    # Auto Time Series\n",
    "    import auto_ts as AT\n",
    "\n",
    "    # Optimizer\n",
    "    from skopt import gp_minimize\n",
    "    from skopt.space import Real, Integer\n",
    "    from skopt.plots import plot_convergence\n",
    "except Exception as e:\n",
    "    print(e)\n",
    "    print(\"Some of the libraries needed to run this script were not installed or were not loaded. Please install the libraries before proceeding.\")"
   ]
  },
  {
   "cell_type": "code",
   "execution_count": 105,
   "metadata": {
    "tags": []
   },
   "outputs": [
    {
     "name": "stdout",
     "output_type": "stream",
     "text": [
      "The autoreload extension is already loaded. To reload it, use:\n",
      "  %reload_ext autoreload\n"
     ]
    }
   ],
   "source": [
    "%load_ext autoreload\n",
    "%autoreload 2"
   ]
  },
  {
   "cell_type": "code",
   "execution_count": 106,
   "metadata": {},
   "outputs": [],
   "source": [
    "try:\n",
    "    from ETL.ETL import loadDataset, getTopProducts\n",
    "    from similarity.similarity import mergeTopSimilar, loadSimilarity\n",
    "    from charting.charting import surface3DChart\n",
    "except Exception as e:\n",
    "    print(e)\n",
    "    print(\"Some of the libraries needed to run this script were not installed or were not loaded. Please install the libraries before proceeding.\")    "
   ]
  },
  {
   "cell_type": "code",
   "execution_count": 107,
   "metadata": {},
   "outputs": [],
   "source": [
    "\n",
    "dataRaw= loadDataset(version=4)\n",
    "dfSimilarity = loadSimilarity(version=4)"
   ]
  },
  {
   "cell_type": "code",
   "execution_count": 108,
   "metadata": {},
   "outputs": [
    {
     "data": {
      "text/plain": [
       "array(['THE BARREL HOUSE', 'WESTERN BEV LIQ TX', 'SPECS'], dtype=object)"
      ]
     },
     "execution_count": 108,
     "metadata": {},
     "output_type": "execute_result"
    }
   ],
   "source": [
    "dataRaw['Chain Master'].unique()"
   ]
  },
  {
   "cell_type": "markdown",
   "metadata": {},
   "source": [
    "# Prep Data"
   ]
  },
  {
   "cell_type": "code",
   "execution_count": 109,
   "metadata": {
    "tags": []
   },
   "outputs": [
    {
     "name": "stdout",
     "output_type": "stream",
     "text": [
      "==================================================\n",
      "Parameters being used...\n",
      "==================================================\n",
      "Resample Frequency = M\n",
      "Forecast Period = 1\n",
      "Seasonal Period = 12\n",
      "Chain: SPECS\n",
      "Product Category: SUP PREM WHISKEY\n"
     ]
    }
   ],
   "source": [
    "#Parameters\n",
    "ChainMaster = 'SPECS'\n",
    "ProdCat='SUP PREM WHISKEY'\n",
    "TOP_PRODUCTS = 3  # How many products to consider in the category\n",
    "TOP_SIMILAR = 1  # Get TOP_SIMILAR most similar products\n",
    "\n",
    "LOG_TRANSFORM = True # Take log of 9L cases to smooth out peaks and valleys\n",
    "ZERO_ADDER = 0.1 \n",
    "\n",
    "RESAMPLE_FREQ = 'M'\n",
    "\n",
    "# Pricing changes every 4 weeks\n",
    "if RESAMPLE_FREQ == 'M':\n",
    "    FORECAST_PERIOD = 1\n",
    "if RESAMPLE_FREQ == 'W':\n",
    "    FORECAST_PERIOD = 4 \n",
    "if RESAMPLE_FREQ == '2W':\n",
    "    FORECAST_PERIOD = 2 \n",
    "\n",
    "# Seasonal Period\n",
    "if RESAMPLE_FREQ == 'M':\n",
    "    SEASONAL_PERIOD = 12  # Yearly\n",
    "if RESAMPLE_FREQ == 'W':\n",
    "    SEASONAL_PERIOD = 13 # Quarterly (we can also take yearly = 52, but SARIMAX becomes too slow)\n",
    "if RESAMPLE_FREQ == '2W':\n",
    "    SEASONAL_PERIOD = 13 # This becomes problematic --> for quarterly, should we take 6 biweekly periods or 7 bi-weekly periods. Instead I just took half yearly period  \n",
    "\n",
    "print(\"=\"*50)\n",
    "print(\"Parameters being used...\")\n",
    "print(\"=\"*50)\n",
    "print(f\"Resample Frequency = {RESAMPLE_FREQ}\")\n",
    "print(f\"Forecast Period = {FORECAST_PERIOD}\")\n",
    "print(f\"Seasonal Period = {SEASONAL_PERIOD}\")\n",
    "print(f\"Chain: {ChainMaster}\")\n",
    "print(f\"Product Category: {ProdCat}\")\n"
   ]
  },
  {
   "cell_type": "code",
   "execution_count": 110,
   "metadata": {},
   "outputs": [
    {
     "data": {
      "text/plain": [
       "['JACK DANIELS BLK WHSKY  1L',\n",
       " 'JACK DANIELS BLK WHSKY  1.75L',\n",
       " 'JACK DANIELS BLK WHSKY  750M']"
      ]
     },
     "execution_count": 110,
     "metadata": {},
     "output_type": "execute_result"
    }
   ],
   "source": [
    "ProductsList = getTopProducts(dataRaw, ChainMaster=ChainMaster, ProdCat=ProdCat, topN=TOP_PRODUCTS, timeCol='WeekDate')\n",
    "ProductsList"
   ]
  },
  {
   "cell_type": "code",
   "execution_count": 111,
   "metadata": {
    "tags": []
   },
   "outputs": [
    {
     "name": "stdout",
     "output_type": "stream",
     "text": [
      "Decoder: {'0': 'JACK DANIELS BLK WHSKY  1L', '1': 'JACK DANIELS BLK WHSKY  1.75L', '2': 'JACK DANIELS BLK WHSKY  750M'}\n",
      "\n",
      "\n",
      "\n",
      "--------------------------------------------------\n",
      "Product: JACK DANIELS BLK WHSKY  1L\n",
      "--------------------------------------------------\n",
      "Exogenous Price Columns: ['0', '1']\n",
      "% of weeks without a purchase: 0.0\n"
     ]
    },
    {
     "data": {
      "image/png": "[encoded data removed]",
      "text/plain": [
       "<Figure size 432x288 with 1 Axes>"
      ]
     },
     "metadata": {},
     "output_type": "display_data"
    },
    {
     "name": "stdout",
     "output_type": "stream",
     "text": [
      "\n",
      "\n",
      "\n",
      "--------------------------------------------------\n",
      "Product: JACK DANIELS BLK WHSKY  1.75L\n",
      "--------------------------------------------------\n",
      "Exogenous Price Columns: ['1', '0']\n",
      "% of weeks without a purchase: 8.333333333333332\n"
     ]
    },
    {
     "data": {
      "image/png": "[encoded data removed]",
      "text/plain": [
       "<Figure size 432x288 with 1 Axes>"
      ]
     },
     "metadata": {},
     "output_type": "display_data"
    },
    {
     "name": "stdout",
     "output_type": "stream",
     "text": [
      "\n",
      "\n",
      "\n",
      "--------------------------------------------------\n",
      "Product: JACK DANIELS BLK WHSKY  750M\n",
      "--------------------------------------------------\n",
      "Exogenous Price Columns: ['2', '1']\n",
      "% of weeks without a purchase: 2.380952380952381\n"
     ]
    },
    {
     "data": {
      "image/png": "[encoded data removed]",
      "text/plain": [
       "<Figure size 432x288 with 1 Axes>"
      ]
     },
     "metadata": {},
     "output_type": "display_data"
    }
   ],
   "source": [
    "all_data = []\n",
    "\n",
    "colTime = 'WeekDate'\n",
    "colPreds = ['9L Cases'] #Demand\n",
    "colPrice = ['Dollar Sales per 9L Case'] #Price\n",
    "\n",
    "for i, Product in enumerate(ProductsList):\n",
    "    # Product = ProductsList[0]\n",
    "    # colTime = 'WeekDate'\n",
    "    # colPreds = ['9L Cases'] #Demand\n",
    "    # colPrice = ['Dollar Sales per 9L Case'] #Price\n",
    "\n",
    "    #TO DO:\n",
    "    #Merge top similar only looking at a list of products  DONE\n",
    "    #Encode before the merge? (same prods same code) DONE\n",
    "    #one chain, top three products, top 1 similar DONE\n",
    "    #Impute the price DONE\n",
    "    (dataModel,colExog,colEnc,colDec) = mergeTopSimilar(dataRaw, dfSimilarity\n",
    "                                                        ,ChainMaster=ChainMaster\n",
    "                                                        ,Product=Product\n",
    "                                                        ,ProductsList=ProductsList\n",
    "                                                        ,topn=TOP_SIMILAR \n",
    "                                                        ,periodCol = colTime\n",
    "                                                        ,resampleFreq=RESAMPLE_FREQ\n",
    "                                                        ,encodeCols=True)\n",
    "                                                                            \n",
    "    \n",
    "    if i == 0:\n",
    "        print(f\"Decoder: {colDec}\")\n",
    "\n",
    "    print(\"\\n\\n\")\n",
    "    print(\"-\"*50)\n",
    "    print(f\"Product: {colDec.get(str(i))}\")\n",
    "    print(\"-\"*50)\n",
    "    \n",
    "    #colExog = colExog + colEndog\n",
    "    print(f\"Exogenous Price Columns: {colExog}\")\n",
    "    \n",
    "    allCols=[colTime]+colPreds+ colExog\n",
    "    data=dataModel[allCols]\n",
    "    print(f\"% of weeks without a purchase: {sum(data['9L Cases'] == 0)/data.shape[0]*100}\")\n",
    "    # print(data.tail(5))\n",
    "    data.iloc[:][data.columns[-(TOP_SIMILAR+2):]].plot()\n",
    "    all_data.append(data)\n",
    "    plt.show()"
   ]
  },
  {
   "cell_type": "code",
   "execution_count": 112,
   "metadata": {
    "tags": []
   },
   "outputs": [
    {
     "name": "stdout",
     "output_type": "stream",
     "text": [
      "\n",
      "\n",
      "\n",
      "--------------------------------------------------\n",
      "Product: JACK DANIELS BLK WHSKY  1L\n",
      "--------------------------------------------------\n"
     ]
    },
    {
     "data": {
      "image/png": "[encoded data removed]",
      "text/plain": [
       "<Figure size 432x288 with 1 Axes>"
      ]
     },
     "metadata": {},
     "output_type": "display_data"
    },
    {
     "name": "stdout",
     "output_type": "stream",
     "text": [
      "\n",
      "\n",
      "\n",
      "--------------------------------------------------\n",
      "Product: JACK DANIELS BLK WHSKY  1.75L\n",
      "--------------------------------------------------\n"
     ]
    },
    {
     "data": {
      "image/png": "[encoded data removed]",
      "text/plain": [
       "<Figure size 432x288 with 1 Axes>"
      ]
     },
     "metadata": {},
     "output_type": "display_data"
    },
    {
     "name": "stdout",
     "output_type": "stream",
     "text": [
      "\n",
      "\n",
      "\n",
      "--------------------------------------------------\n",
      "Product: JACK DANIELS BLK WHSKY  750M\n",
      "--------------------------------------------------\n"
     ]
    },
    {
     "data": {
      "image/png": "[encoded data removed]",
      "text/plain": [
       "<Figure size 432x288 with 1 Axes>"
      ]
     },
     "metadata": {},
     "output_type": "display_data"
    }
   ],
   "source": [
    "# Input Transformation\n",
    "\n",
    "all_data_non_transformed =  copy.deepcopy(all_data)\n",
    "    \n",
    "if LOG_TRANSFORM: \n",
    "    for i in np.arange(len(all_data)):\n",
    "        all_data_non_transformed[i] = all_data[i].copy(deep=True)\n",
    "        all_data[i][colPreds] = np.log10(all_data[i][colPreds] + ZERO_ADDER)\n",
    "        print(\"\\n\\n\")\n",
    "        print(\"-\"*50)\n",
    "        print(f\"Product: {colDec.get(str(i))}\")\n",
    "        print(\"-\"*50)\n",
    "        \n",
    "        all_data[i].iloc[:][colPreds].plot()\n",
    "        plt.show()    "
   ]
  },
  {
   "cell_type": "code",
   "execution_count": 113,
   "metadata": {
    "tags": []
   },
   "outputs": [
    {
     "name": "stdout",
     "output_type": "stream",
     "text": [
      "0\n",
      "1\n",
      "2\n"
     ]
    }
   ],
   "source": [
    "# Checks\n",
    "for i in np.arange(len(all_data)):\n",
    "    print(i)\n",
    "    assert((np.log10(all_data_non_transformed[i][colPreds]+ZERO_ADDER) == all_data[i][colPreds]).all().values[0])    "
   ]
  },
  {
   "cell_type": "markdown",
   "metadata": {},
   "source": [
    "# Test for White Noise"
   ]
  },
  {
   "cell_type": "code",
   "execution_count": 114,
   "metadata": {
    "tags": []
   },
   "outputs": [
    {
     "name": "stdout",
     "output_type": "stream",
     "text": [
      "\n",
      "\n",
      "\n",
      "--------------------------------------------------\n",
      "Product: JACK DANIELS BLK WHSKY  1L\n",
      "--------------------------------------------------\n",
      "      lb_stat  lb_pvalue\n",
      "12  15.190957   0.231159\n",
      "24  26.538512   0.326419\n",
      "48  48.667832   0.445959\n",
      "\n",
      "Is Data White Noise: True\n",
      "\n",
      "\n",
      "\n",
      "--------------------------------------------------\n",
      "Product: JACK DANIELS BLK WHSKY  1.75L\n",
      "--------------------------------------------------\n",
      "      lb_stat  lb_pvalue\n",
      "12  29.265420   0.003598\n",
      "24  41.411630   0.015005\n",
      "48  54.239869   0.248702\n",
      "\n",
      "Is Data White Noise: True\n",
      "\n",
      "\n",
      "\n",
      "--------------------------------------------------\n",
      "Product: JACK DANIELS BLK WHSKY  750M\n",
      "--------------------------------------------------\n",
      "      lb_stat  lb_pvalue\n",
      "12  26.913026   0.007953\n",
      "24  38.221972   0.032900\n",
      "48  54.395929   0.244080\n",
      "\n",
      "Is Data White Noise: True\n"
     ]
    }
   ],
   "source": [
    "white_noise_all = []\n",
    "white_noise_df_all = []\n",
    "\n",
    "for i, data in enumerate(all_data):\n",
    "    print(\"\\n\\n\")\n",
    "    print(\"-\"*50)\n",
    "    print(f\"Product: {colDec.get(str(i))}\")\n",
    "    print(\"-\"*50)\n",
    "    white_noise_df = sm.stats.acorr_ljungbox(data[colPreds], lags=[12,24, 48], return_df=True)\n",
    "    white_noise_df_all.append(white_noise_df)\n",
    "    if any(white_noise_df['lb_pvalue'] > 0.05):\n",
    "        white_noise = True\n",
    "    else:\n",
    "        white_noise = False\n",
    "    white_noise_all.append(white_noise)\n",
    "    \n",
    "    print(white_noise_df)\n",
    "    print(f\"\\nIs Data White Noise: {white_noise}\")\n"
   ]
  },
  {
   "cell_type": "markdown",
   "metadata": {},
   "source": [
    "# Model"
   ]
  },
  {
   "cell_type": "code",
   "execution_count": 115,
   "metadata": {
    "tags": []
   },
   "outputs": [
    {
     "name": "stdout",
     "output_type": "stream",
     "text": [
      "(83, 4) (1, 4)\n",
      "(83, 4) (1, 4)\n",
      "(83, 4) (1, 4)\n"
     ]
    }
   ],
   "source": [
    "all_train = []\n",
    "all_test = []\n",
    "all_models = []\n",
    "\n",
    "all_train_non_transformed = []\n",
    "all_test_non_transformed = []\n",
    "\n",
    "for i, data in enumerate(all_data):\n",
    "    train = all_data_non_transformed[i].iloc[:-FORECAST_PERIOD]\n",
    "    test = all_data_non_transformed[i].iloc[-FORECAST_PERIOD:]\n",
    "    all_train_non_transformed.append(train)\n",
    "    all_test_non_transformed.append(test)\n",
    "\n",
    "    train = data.iloc[:-FORECAST_PERIOD]\n",
    "    test = data.iloc[-FORECAST_PERIOD:]\n",
    "    all_train.append(train)\n",
    "    all_test.append(test)\n",
    "\n",
    "    print(train.shape,test.shape)"
   ]
  },
  {
   "cell_type": "code",
   "execution_count": 116,
   "metadata": {
    "tags": []
   },
   "outputs": [
    {
     "name": "stdout",
     "output_type": "stream",
     "text": [
      "0\n",
      "1\n",
      "2\n"
     ]
    }
   ],
   "source": [
    "# Checks\n",
    "for i in np.arange(len(all_data)):\n",
    "    print(i)\n",
    "    assert((np.log10(all_train_non_transformed[i][colPreds]+ZERO_ADDER) == all_train[i][colPreds]).all().values[0])\n",
    "    assert((np.log10(all_test_non_transformed[i][colPreds]+ZERO_ADDER) == all_test[i][colPreds]).all().values[0])"
   ]
  },
  {
   "cell_type": "code",
   "execution_count": 117,
   "metadata": {
    "tags": []
   },
   "outputs": [
    {
     "name": "stdout",
     "output_type": "stream",
     "text": [
      "Start of Fit.....\n",
      "    Target variable = 9L Cases\n",
      "Start of loading of data.....\n",
      "Input is data frame. Performing Time Series Analysis\n",
      "    Dataframe loaded successfully. Shape of data set = (83, 3)\n",
      "Time Interval of obserations has not been provided. Program will try to figure this out now...\n",
      "Time series input in days = 28\n",
      "It is a Monthly time series.\n",
      "\n",
      "\n",
      "==================================================\n",
      "Building SARIMAX Model\n",
      "==================================================\n",
      "\n",
      "\n",
      "\u001b[1m\n",
      "Running Seasonal SARIMAX Model...\u001b[0m\n",
      "Shape (manual split): (82, 3) (1, 3)\n",
      "Shape using CV: (82, 3) (1, 3)\n",
      "\u001b[1mBuilding a Seasonal Model...\u001b[0m\n",
      "\u001b[1m\n",
      "    Finding best Non-Seasonal pdq Parameters:\u001b[0m\n",
      "\n",
      "Differencing = 0 with Seasonality = False\n",
      "    Iteration 0 completed...\n",
      "    Best AR order p = 0, MA order q = 1, Interim metric = -80.076\n",
      "\n",
      "Differencing = 1 with Seasonality = True\n",
      "    D = 1 results in an empty ARMA set. Setting Seasonality to False since model might overfit\n",
      "\u001b[1m\n",
      "    Finding best Seasonal PDQ Model Parameters:\u001b[0m\n",
      "\n",
      "Differencing = 0 with Seasonality = True\n",
      "    Iteration 0 completed...\n",
      "    Best AR order p = 1, MA order q = 0, Interim metric = -59.135\n",
      "\n",
      "Differencing = 1 with Seasonality = True\n",
      "    Best AR order p = 0, MA order q = 1, Interim metric = -30.748\n",
      "\n",
      "Best model is a Seasonal SARIMAX(0,0,1)*(1,0,0,12), aic = -59.135\n",
      "\u001b[1mFitting best SARIMAX model\u001b[0m\n",
      "    Best aic metric = -53.1\n",
      "\u001b[1mRefitting data with previously found best parameters\u001b[0m\n",
      "    Best aic metric = -55.1\n",
      "Dynamic 1-Period Forecast:\n",
      "    RMSE = 0.03\n",
      "    Std Deviation of Originals = 0.15\n",
      "    Normalized RMSE = 18%\n",
      "\n",
      "\n",
      "==================================================\n",
      "Building ML Model\n",
      "==================================================\n",
      "\n",
      "\n",
      "\u001b[1m\n",
      "Running Machine Learning Models...\u001b[0m\n",
      "    Shifting 2 predictors by lag=0 to align prior predictor with current target...\n",
      "Running multiple models...\n",
      "    RMSE = 0.09\n",
      "    Std Deviation of Originals = 0.15\n",
      "    Normalized RMSE = 58%\n",
      "\u001b[1m\n",
      "Best Model is: \u001b[0mSARIMAX\n",
      "    Best Model Score: 0.03\n",
      "    Best Model Forecasts (Validation Set):\n",
      "9L Cases        mean   mean_se  mean_ci_lower  mean_ci_upper\n",
      "2019-11-30  2.353945  0.145089       2.069575       2.638315\n",
      "\n",
      "\n",
      "--------------------------------------------------\n",
      "Total time taken: 151.68686842918396 seconds.\n",
      "--------------------------------------------------\n",
      "\n",
      "\n",
      "Start of Fit.....\n",
      "    Target variable = 9L Cases\n",
      "Start of loading of data.....\n",
      "Input is data frame. Performing Time Series Analysis\n",
      "    Dataframe loaded successfully. Shape of data set = (83, 3)\n",
      "Time Interval of obserations has not been provided. Program will try to figure this out now...\n",
      "Time series input in days = 28\n",
      "It is a Monthly time series.\n",
      "\n",
      "\n",
      "==================================================\n",
      "Building SARIMAX Model\n",
      "==================================================\n",
      "\n",
      "\n",
      "\u001b[1m\n",
      "Running Seasonal SARIMAX Model...\u001b[0m\n",
      "Shape (manual split): (82, 3) (1, 3)\n",
      "Shape using CV: (82, 3) (1, 3)\n",
      "\u001b[1mBuilding a Seasonal Model...\u001b[0m\n",
      "\u001b[1m\n",
      "    Finding best Non-Seasonal pdq Parameters:\u001b[0m\n",
      "\n",
      "Differencing = 0 with Seasonality = False\n",
      "    Iteration 0 completed...\n",
      "    Best AR order p = 1, MA order q = 3, Interim metric = 174.799\n",
      "\n",
      "Differencing = 1 with Seasonality = True\n",
      "    D = 1 results in an empty ARMA set. Setting Seasonality to False since model might overfit\n",
      "\u001b[1m\n",
      "    Finding best Seasonal PDQ Model Parameters:\u001b[0m\n",
      "\n",
      "Differencing = 0 with Seasonality = True\n",
      "    Iteration 0 completed...\n",
      "    Best AR order p = 0, MA order q = 3, Interim metric = 21.162\n",
      "\n",
      "Differencing = 1 with Seasonality = True\n",
      "    Best AR order p = 0, MA order q = 3, Interim metric = 37.380\n",
      "\n",
      "Best model is a Seasonal SARIMAX(1,0,3)*(0,0,3,12), aic = 21.162\n",
      "\u001b[1mFitting best SARIMAX model\u001b[0m\n",
      "    Best aic metric = 66.1\n",
      "\u001b[1mRefitting data with previously found best parameters\u001b[0m\n",
      "    Best aic metric = 71.1\n",
      "Dynamic 1-Period Forecast:\n",
      "    RMSE = 0.51\n",
      "    Std Deviation of Originals = 0.81\n",
      "    Normalized RMSE = 63%\n",
      "\n",
      "\n",
      "==================================================\n",
      "Building ML Model\n",
      "==================================================\n",
      "\n",
      "\n",
      "\u001b[1m\n",
      "Running Machine Learning Models...\u001b[0m\n",
      "    Shifting 2 predictors by lag=0 to align prior predictor with current target...\n",
      "Running multiple models...\n",
      "    RMSE = 0.01\n",
      "    Std Deviation of Originals = 0.80\n",
      "    Normalized RMSE = 2%\n",
      "\u001b[1m\n",
      "Best Model is: \u001b[0mML\n",
      "    Best Model Score: 0.01\n",
      "    Best Model Forecasts (Validation Set):\n",
      "0    1.533894\n",
      "Name: mean, dtype: float64\n",
      "\n",
      "\n",
      "--------------------------------------------------\n",
      "Total time taken: 358.13665771484375 seconds.\n",
      "--------------------------------------------------\n",
      "\n",
      "\n",
      "Start of Fit.....\n",
      "    Target variable = 9L Cases\n",
      "Start of loading of data.....\n",
      "Input is data frame. Performing Time Series Analysis\n",
      "    Dataframe loaded successfully. Shape of data set = (83, 3)\n",
      "Time Interval of obserations has not been provided. Program will try to figure this out now...\n",
      "Time series input in days = 28\n",
      "It is a Monthly time series.\n",
      "\n",
      "\n",
      "==================================================\n",
      "Building SARIMAX Model\n",
      "==================================================\n",
      "\n",
      "\n",
      "\u001b[1m\n",
      "Running Seasonal SARIMAX Model...\u001b[0m\n",
      "Shape (manual split): (82, 3) (1, 3)\n",
      "Shape using CV: (82, 3) (1, 3)\n",
      "\u001b[1mBuilding a Seasonal Model...\u001b[0m\n",
      "\u001b[1m\n",
      "    Finding best Non-Seasonal pdq Parameters:\u001b[0m\n",
      "\n",
      "Differencing = 0 with Seasonality = False\n",
      "    Iteration 0 completed...\n",
      "    Best AR order p = 1, MA order q = 2, Interim metric = 119.872\n",
      "\n",
      "Differencing = 1 with Seasonality = True\n",
      "    D = 1 results in an empty ARMA set. Setting Seasonality to False since model might overfit\n",
      "\u001b[1m\n",
      "    Finding best Seasonal PDQ Model Parameters:\u001b[0m\n",
      "\n",
      "Differencing = 0 with Seasonality = True\n",
      "    Iteration 0 completed...\n",
      "    Best AR order p = 0, MA order q = 3, Interim metric = 26.110\n",
      "\n",
      "Differencing = 1 with Seasonality = True\n",
      "    Best AR order p = 0, MA order q = 3, Interim metric = 26.489\n",
      "\n",
      "Best model is a Seasonal SARIMAX(1,0,2)*(0,0,3,12), aic = 26.110\n",
      "\u001b[1mFitting best SARIMAX model\u001b[0m\n",
      "    Best aic metric = 32.0\n",
      "\u001b[1mRefitting data with previously found best parameters\u001b[0m\n",
      "    Best aic metric = 32.4\n",
      "Dynamic 1-Period Forecast:\n",
      "    RMSE = 0.21\n",
      "    Std Deviation of Originals = 0.53\n",
      "    Normalized RMSE = 40%\n",
      "\n",
      "\n",
      "==================================================\n",
      "Building ML Model\n",
      "==================================================\n",
      "\n",
      "\n",
      "\u001b[1m\n",
      "Running Machine Learning Models...\u001b[0m\n",
      "    Shifting 2 predictors by lag=0 to align prior predictor with current target...\n",
      "Running multiple models...\n",
      "    RMSE = 0.21\n",
      "    Std Deviation of Originals = 0.53\n",
      "    Normalized RMSE = 40%\n",
      "\u001b[1m\n",
      "Best Model is: \u001b[0mSARIMAX\n",
      "    Best Model Score: 0.21\n",
      "    Best Model Forecasts (Validation Set):\n",
      "9L Cases        mean   mean_se  mean_ci_lower  mean_ci_upper\n",
      "2019-11-30  1.361584  0.273689       0.825163       1.898006\n",
      "\n",
      "\n",
      "--------------------------------------------------\n",
      "Total time taken: 273.6948790550232 seconds.\n",
      "--------------------------------------------------\n",
      "\n",
      "\n"
     ]
    }
   ],
   "source": [
    "for i, data in enumerate(all_data):\n",
    "    train = all_train[i]\n",
    "    test = all_test[i]\n",
    "\n",
    "    automl_model = AT.AutoTimeSeries(\n",
    "        score_type='rmse', forecast_period=FORECAST_PERIOD, # time_interval='Week',\n",
    "        non_seasonal_pdq=None, seasonality=True, seasonal_period=SEASONAL_PERIOD,\n",
    "        model_type=['SARIMAX','ML'],\n",
    "        verbose=0)\n",
    "    automl_model.fit(train, 'WeekDate', '9L Cases', ',')\n",
    "    automl_model.get_leaderboard()\n",
    "    all_models.append(automl_model)"
   ]
  },
  {
   "cell_type": "code",
   "execution_count": 118,
   "metadata": {
    "tags": []
   },
   "outputs": [
    {
     "name": "stdout",
     "output_type": "stream",
     "text": [
      "\n",
      "\n",
      "--------------------------------------------------\n",
      "Product: JACK DANIELS BLK WHSKY  1L\n",
      "--------------------------------------------------\n",
      "\n",
      "Leaderboard\n",
      "      name      rmse\n",
      "0  SARIMAX  0.027766\n",
      "1       ML  0.086814\n",
      "\n",
      "\n",
      "--------------------------------------------------\n",
      "Product: JACK DANIELS BLK WHSKY  1.75L\n",
      "--------------------------------------------------\n",
      "\n",
      "Leaderboard\n",
      "      name      rmse\n",
      "1       ML  0.012649\n",
      "0  SARIMAX  0.511517\n",
      "\n",
      "\n",
      "--------------------------------------------------\n",
      "Product: JACK DANIELS BLK WHSKY  750M\n",
      "--------------------------------------------------\n",
      "\n",
      "Leaderboard\n",
      "      name      rmse\n",
      "0  SARIMAX  0.212365\n",
      "1       ML  0.212549\n"
     ]
    }
   ],
   "source": [
    "for i in np.arange(len(all_data)):\n",
    "    print(\"\\n\")\n",
    "    print(\"-\"*50)\n",
    "    print(f\"Product: {colDec.get(str(i))}\")\n",
    "    print(\"-\"*50)\n",
    "    print(\"\\nLeaderboard\")\n",
    "    print(all_models[i].get_leaderboard())"
   ]
  },
  {
   "cell_type": "markdown",
   "metadata": {},
   "source": [
    "# Prediction"
   ]
  },
  {
   "cell_type": "code",
   "execution_count": 119,
   "metadata": {
    "tags": []
   },
   "outputs": [
    {
     "name": "stdout",
     "output_type": "stream",
     "text": [
      "\n",
      "\n",
      "--------------------------------------------------\n",
      "Product: JACK DANIELS BLK WHSKY  1L\n",
      "--------------------------------------------------\n",
      "\n",
      "Test Data (Original)\n",
      "     WeekDate  9L Cases           0           1\n",
      "83 2019-12-31    476.14  229.533835  185.589744\n",
      "\n",
      "Test Data (Transformed)\n",
      "     WeekDate  9L Cases           0           1\n",
      "83 2019-12-31  2.677826  229.533835  185.589744\n",
      "\n",
      "Best Prediction (Transformed)\n",
      "2.3654790275750304\n",
      "\n",
      "Best Prediction (Original)\n",
      "231.99521505352232\n",
      "\n",
      "ML Predictions (Transformed)\n",
      "0    2.294897\n",
      "Name: mean, dtype: float64\n",
      "\n",
      "ML Predictions (Original)\n",
      "0    197.195521\n",
      "Name: mean, dtype: float64\n",
      "\n",
      "SARIMAX Predictions (Transformed)\n",
      "2.3654790275750304\n",
      "\n",
      "SARIMAX Predictions (Original)\n",
      "231.99521505352232\n",
      "\n",
      "\n",
      "--------------------------------------------------\n",
      "Product: JACK DANIELS BLK WHSKY  1.75L\n",
      "--------------------------------------------------\n",
      "\n",
      "Test Data (Original)\n",
      "     WeekDate  9L Cases           1           0\n",
      "83 2019-12-31    176.67  185.589744  229.533835\n",
      "\n",
      "Test Data (Transformed)\n",
      "     WeekDate  9L Cases           1           0\n",
      "83 2019-12-31  2.247409  185.589744  229.533835\n",
      "\n",
      "Best Prediction (Transformed)\n",
      "0    1.533894\n",
      "Name: mean, dtype: float64\n",
      "\n",
      "Best Prediction (Original)\n",
      "0    34.18957\n",
      "Name: mean, dtype: float64\n",
      "\n",
      "ML Predictions (Transformed)\n",
      "0    1.533894\n",
      "Name: mean, dtype: float64\n",
      "\n",
      "ML Predictions (Original)\n",
      "0    34.18957\n",
      "Name: mean, dtype: float64\n",
      "\n",
      "SARIMAX Predictions (Transformed)\n",
      "1.7849235630223423\n",
      "\n",
      "SARIMAX Predictions (Original)\n",
      "60.942962657407946\n",
      "\n",
      "\n",
      "--------------------------------------------------\n",
      "Product: JACK DANIELS BLK WHSKY  750M\n",
      "--------------------------------------------------\n",
      "\n",
      "Test Data (Original)\n",
      "     WeekDate  9L Cases       2           1\n",
      "83 2019-12-31      69.0  222.36  185.589744\n",
      "\n",
      "Test Data (Transformed)\n",
      "     WeekDate  9L Cases       2           1\n",
      "83 2019-12-31  1.839478  222.36  185.589744\n",
      "\n",
      "Best Prediction (Transformed)\n",
      "1.3603028285213905\n",
      "\n",
      "Best Prediction (Original)\n",
      "22.924656053497124\n",
      "\n",
      "ML Predictions (Transformed)\n",
      "0    1.361768\n",
      "Name: mean, dtype: float64\n",
      "\n",
      "ML Predictions (Original)\n",
      "0    23.00214\n",
      "Name: mean, dtype: float64\n",
      "\n",
      "SARIMAX Predictions (Transformed)\n",
      "1.3603028285213905\n",
      "\n",
      "SARIMAX Predictions (Original)\n",
      "22.924656053497124\n"
     ]
    }
   ],
   "source": [
    "for i in np.arange(len(all_data)):\n",
    "    print(\"\\n\")\n",
    "    print(\"-\"*50)\n",
    "    print(f\"Product: {colDec.get(str(i))}\")\n",
    "    print(\"-\"*50)\n",
    "    print(\"\\nTest Data (Original)\")\n",
    "    print(all_test_non_transformed[i])\n",
    "    print(\"\\nTest Data (Transformed)\")\n",
    "    print(all_test[i])\n",
    "    \n",
    "    test_predictions = all_models[i].predict(X_exogen = all_test[i])\n",
    "    print(\"\\nBest Prediction (Transformed)\")\n",
    "    print(test_predictions)\n",
    "    if LOG_TRANSFORM:\n",
    "        print(\"\\nBest Prediction (Original)\")\n",
    "        test_predictions = 10**test_predictions\n",
    "        print(test_predictions)\n",
    "    \n",
    "    \n",
    "    test_predictions = all_models[i].predict(X_exogen = all_test[i], model='ML')  \n",
    "    print(\"\\nML Predictions (Transformed)\")\n",
    "    print(test_predictions)\n",
    "    if LOG_TRANSFORM:\n",
    "        print(\"\\nML Predictions (Original)\")\n",
    "        test_predictions = 10**test_predictions\n",
    "        print(test_predictions)\n",
    "    \n",
    "    print(\"\\nSARIMAX Predictions (Transformed)\")\n",
    "    test_predictions = all_models[i].predict(X_exogen = all_test[i], model='SARIMAX') \n",
    "    print(test_predictions)\n",
    "    if LOG_TRANSFORM:\n",
    "        print(\"\\nSARIMAX Predictions (Original)\")\n",
    "        test_predictions = 10**test_predictions\n",
    "        print(test_predictions)\n"
   ]
  },
  {
   "cell_type": "markdown",
   "metadata": {},
   "source": [
    "# Optimizer"
   ]
  },
  {
   "cell_type": "code",
   "execution_count": 120,
   "metadata": {
    "tags": []
   },
   "outputs": [],
   "source": [
    "def complex_objective(x: List, mask: Optional[List[bool]] = None, verbose: int = 0, return_individual: bool = False, logT = False):\n",
    "    \"\"\"\n",
    "    :param x A list of product pricing for which the revenue has to be computed\n",
    "    :type x List\n",
    "    :param mask: If the customer is not going to purchase a product in a period, we can choose to omit it from the revenue calculation in the optimizer.\n",
    "                 Default = None (considers all products in revenue calculation)\n",
    "    :type mask  Optional[List[bool]]\n",
    "    :param return_individual If True, this returns the individual revenue values as well\n",
    "                             Used mainly when this function is called standalone. Set of False for optimization\n",
    "    :type return_individual bool\n",
    "    :param verbose Level of verbosity (Default: 0). This is set to 1 or 2 (mainly for debug purposes)\n",
    "    \"\"\"\n",
    "\n",
    "    index = [str(i) for i in np.arange(len(x))]\n",
    "    x_df = pd.DataFrame(x, index = index)\n",
    "    x_df = x_df.T\n",
    "\n",
    "    # If mask is not provided, use all\n",
    "    if mask is None:\n",
    "        mask = [False for item in x] \n",
    "\n",
    "    if verbose >= 2:\n",
    "        print(x_df.info())\n",
    "        print(x_df.columns)\n",
    "\n",
    "    total_revenue = 0\n",
    "    revenue = []\n",
    "\n",
    "    for i in np.arange(len(all_data)):\n",
    "        if verbose >= 1:\n",
    "            print(\"\\n\" + \"-\"*50)\n",
    "            print(f\"Product Index: {i}\")\n",
    "        \n",
    "        if not mask[i]:\n",
    "            columns = all_data[i].columns[-(TOP_SIMILAR+1):].values\n",
    "            if verbose >= 2:\n",
    "                print(f\"All Columns in Test Data: {columns}\")\n",
    "\n",
    "            test_data = x_df[columns]\n",
    "            prediction = all_models[i].predict(X_exogen = test_data)\n",
    "            \n",
    "            if verbose >= 2:\n",
    "                print(f\"Prediction Type: {type(prediction)}\")\n",
    "            if verbose >= 1:\n",
    "                print(f\"Demand Prediction (transformed): {prediction}\")\n",
    "\n",
    "            # If model was created with log transformation\n",
    "            if logT:\n",
    "                prediction = 10**prediction\n",
    "                if verbose >= 1:\n",
    "                    print(\"\\nDemand Prediction (Original)\")\n",
    "                    print(prediction)\n",
    "                \n",
    "            product_revenue = prediction * x[i]\n",
    "\n",
    "            # TODO: Clamping - Fix later (this gives an error with pandas. We need to pluck it out as a value)\n",
    "            # product_revenue = max(product_revenue, 0)  # Clamp at min value of 0 for predictions that are negative\n",
    "\n",
    "            if verbose >= 1:\n",
    "                print(f\"Product Revenue: ${round(product_revenue)}\")\n",
    "                                \n",
    "            if isinstance(product_revenue, pd.Series):\n",
    "                product_revenue = product_revenue.iloc[0]\n",
    "            revenue.append(product_revenue)\n",
    "                \n",
    "            # total_revenue = total_revenue + product_revenue\n",
    "        else:\n",
    "            if verbose >= 1:\n",
    "                print(\"This product's revenue was not included since it was not ordered by the customer in this period.\")\n",
    "            product_revenue = 0\n",
    "            revenue.append(product_revenue)\n",
    "\n",
    "        if verbose >= 1:\n",
    "            print(\"-\"*50 + \"\\n\")\n",
    "        \n",
    "    total_revenue = sum(revenue)\n",
    "\n",
    "    if verbose >= 1:\n",
    "        print(\"\\n\\n\" + \"=\"*50)\n",
    "        print(f\"Total Revenue: ${round(total_revenue)}\")\n",
    "        print(\"=\"*50 + \"\\n\\n\")\n",
    "\n",
    "    if return_individual is True:\n",
    "        return -total_revenue, revenue      \n",
    "\n",
    "    return -total_revenue\n",
    "    "
   ]
  },
  {
   "cell_type": "code",
   "execution_count": 121,
   "metadata": {
    "tags": []
   },
   "outputs": [
    {
     "name": "stdout",
     "output_type": "stream",
     "text": [
      "Mask: [False, False, False]\n"
     ]
    }
   ],
   "source": [
    "# Did the customer actually want to but products in that period?\n",
    "# Only include the revenue in the objective if they actually ordered it\n",
    "# This model is not trying to predict if they would purchase a product when they were not going to purchase it earlier.\n",
    "# That requires a lot of human psychology and may not be captured in the model\n",
    "\n",
    "INCLUDE_MASKING = True\n",
    "\n",
    "mask: List[bool] = []\n",
    "for index in np.arange(len(all_data)):\n",
    "    if INCLUDE_MASKING:\n",
    "        if all_test[index].iloc[0]['9L Cases'] == 0:\n",
    "            mask.append(True)\n",
    "        else:\n",
    "            mask.append(False)\n",
    "    else:\n",
    "        mask.append(False)\n",
    "\n",
    "print(f\"Mask: {mask}\")"
   ]
  },
  {
   "cell_type": "code",
   "execution_count": 122,
   "metadata": {},
   "outputs": [
    {
     "data": {
      "text/plain": [
       "[Real(low=196.51221804511277, high=238.29562345169282, prior='uniform', transform='identity'),\n",
       " Real(low=158.86324786324786, high=189.49694749694748, prior='uniform', transform='identity'),\n",
       " Real(low=193.91, high=229.32, prior='uniform', transform='identity')]"
      ]
     },
     "execution_count": 122,
     "metadata": {},
     "output_type": "execute_result"
    }
   ],
   "source": [
    "MARGIN = 0.0 # How much to go over or under the min and max price respectively during the search for optimial revenue\n",
    "space = []\n",
    "\n",
    "for index in np.arange(len(all_data)):\n",
    "    min_val = all_data[index][str(index)].min()\n",
    "    max_val = all_data[index][str(index)].max()\n",
    "    min_limit = min_val*(1-MARGIN)\n",
    "    max_limit = max_val*(1+MARGIN)\n",
    "    # print(min_val, max_val)\n",
    "    # print(min_limit, max_limit)\n",
    "    space.append(Real(low=min_limit, high=max_limit, prior='uniform'))\n",
    "\n",
    "space"
   ]
  },
  {
   "cell_type": "code",
   "execution_count": 123,
   "metadata": {
    "tags": []
   },
   "outputs": [
    {
     "name": "stdout",
     "output_type": "stream",
     "text": [
      "Revenue without masking: $120161.0\n",
      "Revenue with masking: $120161.0\n"
     ]
    }
   ],
   "source": [
    "# create a new function with mask\n",
    "masked_complex_objective = partial(complex_objective, mask=mask, logT=LOG_TRANSFORM)\n",
    "print(f\"Revenue without masking: ${-round(complex_objective([266.51, 195.06, 205.3], logT=LOG_TRANSFORM))}\")\n",
    "print(f\"Revenue with masking: ${-round(masked_complex_objective([266.51, 195.06, 205.3]))}\")"
   ]
  },
  {
   "cell_type": "code",
   "execution_count": 124,
   "metadata": {},
   "outputs": [],
   "source": [
    "res = gp_minimize(masked_complex_objective,   \n",
    "                  space,                      \n",
    "                  acq_func=\"EI\",              \n",
    "                  n_calls=200,                \n",
    "                  n_random_starts=20,  \n",
    "                  random_state=42)     "
   ]
  },
  {
   "cell_type": "code",
   "execution_count": 125,
   "metadata": {
    "tags": []
   },
   "outputs": [
    {
     "name": "stdout",
     "output_type": "stream",
     "text": [
      "Optimal Price for All Products ($): [236.73, 186.2, 218.21] \n",
      "Maximum Revenue Expected: $71404.0\n",
      "Individual Optimized Revenue: [59971.899405716176, 6365.965545713834, 5066.1019567241565]\n"
     ]
    }
   ],
   "source": [
    "print(f\"Optimal Price for All Products ($): {[round(price, 2) for price in res.x]} \\nMaximum Revenue Expected: ${round(-res.fun)}\")\n",
    "_, all_revenue = masked_complex_objective(res.x, return_individual=True)\n",
    "print(f\"Individual Optimized Revenue: {all_revenue}\")"
   ]
  },
  {
   "cell_type": "code",
   "execution_count": 126,
   "metadata": {
    "tags": []
   },
   "outputs": [
    {
     "name": "stdout",
     "output_type": "stream",
     "text": [
      "Product 0 Price 9L Case: $229.53 Revenue: $109290.0\n",
      "Product 1 Price 9L Case: $185.59 Revenue: $32788.0\n",
      "Product 2 Price 9L Case: $222.36 Revenue: $15343.0\n",
      "Total Revenue: $157421.0\n"
     ]
    }
   ],
   "source": [
    "# 3. Reserve a test set - compute revenue from test set and compare to the one from the optimizer\n",
    "# This is only for the 1st entry in the test set\n",
    "\n",
    "total_test_data_revenue = 0\n",
    "for index in np.arange(len(all_data)):\n",
    "    product_price = all_test_non_transformed[index].iloc[0][str(index)]\n",
    "    product_demand = all_test_non_transformed[index].iloc[0]['9L Cases']\n",
    "    product_revenue = product_price * product_demand\n",
    "    print(f\"Product {index} Price 9L Case: ${round(product_price,2)} Revenue: ${round(product_revenue)}\")\n",
    "    total_test_data_revenue = total_test_data_revenue + product_revenue\n",
    "    \n",
    "print(f\"Total Revenue: ${round(total_test_data_revenue)}\")\n",
    "\n",
    "# Also, some things dont make sense.\n",
    "# The models are grosely underestimating the demand (as can be seen by the predictions above)"
   ]
  },
  {
   "cell_type": "code",
   "execution_count": 127,
   "metadata": {},
   "outputs": [
    {
     "data": {
      "text/plain": [
       "<matplotlib.axes._subplots.AxesSubplot at 0x28aa70b8108>"
      ]
     },
     "execution_count": 127,
     "metadata": {},
     "output_type": "execute_result"
    },
    {
     "data": {
      "image/png": "[encoded data removed]",
      "text/plain": [
       "<Figure size 432x288 with 1 Axes>"
      ]
     },
     "metadata": {},
     "output_type": "display_data"
    }
   ],
   "source": [
    "plot_convergence(res)"
   ]
  },
  {
   "cell_type": "markdown",
   "metadata": {},
   "source": [
    "# TODO\n",
    "\n",
    "1. Build a baseline model for all products (maybe average of last 2 years (same period) and Compare the performance of automl models to baseline models\n",
    "2. Compute revenue expected with baseline models and compare to the one from the optimizer\n",
    "3. [DONE] Reserve a test set - compute revenue from test set and compare to the one from the optimizer\n",
    "4. [DONE] If using test set, add masking option in optimizer (i.e. if the customer has not purchased a product in that period, then maybe mask out that revenue instead of taking what the model is giving. That should give us a more reasonable estimate.)\n",
    "5. Add 3D surface plot of revenue vs product pricing (plotly)\n",
    "6. Consider taking more \"similar\" products into consideration"
   ]
  },
  {
   "cell_type": "code",
   "execution_count": 128,
   "metadata": {
    "tags": []
   },
   "outputs": [
    {
     "name": "stdout",
     "output_type": "stream",
     "text": [
      "[197 202 207 212 217 222 227 232 237]\n",
      "[159 164 169 174 179 184]\n"
     ]
    }
   ],
   "source": [
    "math.ceil(space[0].low)\n",
    "math.floor(space[0].high)\n",
    "xs = np.arange(math.ceil(space[0].low), math.floor(space[0].high), step=5)\n",
    "ys = np.arange(math.ceil(space[1].low), math.floor(space[1].high), step=5)\n",
    "\n",
    "print(xs)\n",
    "print(ys)"
   ]
  },
  {
   "cell_type": "code",
   "execution_count": 129,
   "metadata": {},
   "outputs": [
    {
     "data": {
      "text/plain": [
       "'SUPPREMWHISKEY'"
      ]
     },
     "execution_count": 129,
     "metadata": {},
     "output_type": "execute_result"
    }
   ],
   "source": [
    "\"\".join(ProdCat.split())"
   ]
  },
  {
   "cell_type": "code",
   "execution_count": 130,
   "metadata": {},
   "outputs": [
    {
     "data": {
      "text/plain": [
       "'SPECS_SUPPREMWHISKEY_Top3_Sim1_LogTrue_Add0.1_Prod2_ResampleM_f1_s12.html'"
      ]
     },
     "execution_count": 130,
     "metadata": {},
     "output_type": "execute_result"
    }
   ],
   "source": [
    "filename = \"\".join(ChainMaster.split()) + \"_\" + \"\".join(ProdCat.split()) + \"_Top\" + str(TOP_PRODUCTS) + \"_Sim\" + str(TOP_SIMILAR) + \\\n",
    "        \"_Log\" + str(LOG_TRANSFORM) + \"_Add\" + str(ZERO_ADDER) + \\\n",
    "        \"_Prod\" + str(i) + \"_Resample\" + str(RESAMPLE_FREQ) + \"_f\" + str(FORECAST_PERIOD) + \"_s\" + str(SEASONAL_PERIOD) + \".html\"\n",
    "filename"
   ]
  },
  {
   "cell_type": "code",
   "execution_count": 131,
   "metadata": {
    "tags": []
   },
   "outputs": [
    {
     "name": "stdout",
     "output_type": "stream",
     "text": [
      "----------------------------------------------------------------------------------------------------\n",
      "Price intervals for product 0: [197 202 207 212 217 222 227 232 237]\n",
      "Price intervals for product 1: [159 164 169 174 179 184]\n",
      "Price intervals for product 2: [194 199 204 209 214 219 224]\n",
      "---------------------------------------------------------------------------------------------------- \n",
      "\n",
      "\n",
      "\n",
      "\n",
      "Product 0 --> Mask: [False, True, True]\n",
      "Products used in Model: ['0' '1']\n",
      "Price intervals used for X-axis (product 0): [197 202 207 212 217 222 227 232 237]\n",
      "Price intervals used for Y-axis (product 1): [159 164 169 174 179 184]\n",
      "\n",
      "\n",
      "\n",
      "Product 1 --> Mask: [True, False, True]\n",
      "Products used in Model: ['1' '0']\n",
      "Price intervals used for X-axis (product 1): [159 164 169 174 179 184]\n",
      "Price intervals used for Y-axis (product 0): [197 202 207 212 217 222 227 232 237]\n",
      "\n",
      "\n",
      "\n",
      "Product 2 --> Mask: [True, True, False]\n",
      "Products used in Model: ['2' '1']\n",
      "Price intervals used for X-axis (product 2): [194 199 204 209 214 219 224]\n",
      "Price intervals used for Y-axis (product 1): [159 164 169 174 179 184]\n"
     ]
    }
   ],
   "source": [
    "verbose =  1\n",
    "STEPS = 5\n",
    "\n",
    "allp = [np.arange(math.ceil(space[i].low), math.floor(space[i].high), step=STEPS) for i in np.arange(len(all_data))] \n",
    "\n",
    "if verbose >= 1:\n",
    "    print(\"-\"*100)\n",
    "    print(f\"Price intervals for product 0: {allp[0]}\")\n",
    "    print(f\"Price intervals for product 1: {allp[1]}\")\n",
    "    print(f\"Price intervals for product 2: {allp[2]}\")\n",
    "    print(\"-\"*100, \"\\n\")\n",
    "\n",
    "for i in np.arange(len(all_data)):\n",
    "    print(\"\\n\\n\")\n",
    "    mask_plot = [False if i == j else True for j in np.arange(len(all_data))]\n",
    "    if verbose >= 1:\n",
    "        print(f\"Product {i} --> Mask: {mask_plot}\")\n",
    "\n",
    "    columns = all_data[i].columns[-(TOP_SIMILAR+1):].values\n",
    "    if verbose >= 1:\n",
    "        print(f\"Products used in Model: {columns}\")\n",
    "        \n",
    "    masked_complex_objective_plot = partial(complex_objective, mask=mask_plot, logT=LOG_TRANSFORM, verbose=0)\n",
    "\n",
    "    finalx = []\n",
    "    finaly = []\n",
    "    finalrev = []\n",
    "\n",
    "    xs = allp[int(columns[0])]  # Main Product Price is in xs\n",
    "    ys = allp[int(columns[1])]  # Exogenous Product Price in in ys\n",
    "\n",
    "    if verbose >= 1:\n",
    "        print(f\"Price intervals used for X-axis (product {int(columns[0])}): {xs}\")\n",
    "        print(f\"Price intervals used for Y-axis (product {int(columns[1])}): {ys}\")\n",
    "        \n",
    "    for x, y in itertools.product(xs, ys):\n",
    "        price_list = [0, 0, 0]\n",
    "        \n",
    "        # Fix price for product 0\n",
    "        if int(columns[0]) == 0:  # If the main product is product 0\n",
    "            price_list[0] = x\n",
    "        elif int(columns[1]) == 0: # If exogenous product is product 0\n",
    "            price_list[0] = y\n",
    "        else:\n",
    "            price_list[0] = 0\n",
    "\n",
    "        # Fix price for product 1\n",
    "        if int(columns[0]) == 1:  # If the main product is product 1\n",
    "            price_list[1] = x\n",
    "        elif int(columns[1]) == 1: # If exogenous product is product 1\n",
    "            price_list[1] = y\n",
    "        else:\n",
    "            price_list[1] = 0\n",
    "\n",
    "        # Fix price for product 2\n",
    "        if int(columns[0]) == 2:  # If the main product is product 2\n",
    "            price_list[2] = x\n",
    "        elif int(columns[1]) == 2: # If exogenous product is product 2\n",
    "            price_list[2] = y\n",
    "        else:\n",
    "            price_list[2] = 0\n",
    "       \n",
    "        rev = -masked_complex_objective_plot(price_list)\n",
    "        finalx.append(x)\n",
    "        finaly.append(y)\n",
    "        finalrev.append(rev)   \n",
    "\n",
    "    fig = surface3DChart(\n",
    "        x=finalx, y=finaly, z=finalrev,\n",
    "        title= 'Product ' + columns[0] + ' Revenue',\n",
    "        xTitle= 'Product ' + columns[0] + ' Price',\n",
    "        yTitle= 'Product ' + columns[1] + ' Price',\n",
    "        width=1200,\n",
    "        height=800            \n",
    "        )\n",
    "\n",
    "    filename = \"\".join(ChainMaster.split()) + \"_\" + \"\".join(ProdCat.split()) + \"_Top\" + str(TOP_PRODUCTS) + \"_Sim\" + str(TOP_SIMILAR) + \\\n",
    "        \"_Log\" + str(LOG_TRANSFORM) + \"_Add\" + str(ZERO_ADDER) + \\\n",
    "        \"_Prod\" + str(i) + \"_Resample\" + str(RESAMPLE_FREQ) + \"_f\" + str(FORECAST_PERIOD) + \"_s\" + str(SEASONAL_PERIOD) + \".html\"\n",
    "    py.plot(fig, filename = filename)\n"
   ]
  },
  {
   "cell_type": "code",
   "execution_count": null,
   "metadata": {},
   "outputs": [],
   "source": []
  }
 ],
 "metadata": {
  "kernelspec": {
   "display_name": "Python 3",
   "language": "python",
   "name": "python3"
  },
  "language_info": {
   "codemirror_mode": {
    "name": "ipython",
    "version": 3
   },
   "file_extension": ".py",
   "mimetype": "text/x-python",
   "name": "python",
   "nbconvert_exporter": "python",
   "pygments_lexer": "ipython3",
   "version": "3.7.7"
  },
  "toc-autonumbering": true,
  "toc-showtags": false
 },
 "nbformat": 4,
 "nbformat_minor": 4
}
