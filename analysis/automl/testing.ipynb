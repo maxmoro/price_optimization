{
 "cells": [
  {
   "cell_type": "markdown",
   "metadata": {},
   "source": [
    "# Init"
   ]
  },
  {
   "cell_type": "code",
   "execution_count": 25,
   "metadata": {},
   "outputs": [],
   "source": [
    "import pandas as pd\n",
    "import numpy as np\n",
    "import os\n",
    "import math\n",
    "import matplotlib.pyplot as plt\n",
    "import glob\n",
    "from scipy.spatial.distance import euclidean, pdist, squareform\n",
    "import sys\n",
    "import sys\n",
    "import os\n",
    "sys.path.append(os.environ['DEV_AUTOTS'])\n",
    "sys.path.append(os.environ['CAPSTONE_PYTHON_SOURCE'])\n",
    "folder = os.environ['CAPSTONE_DATA']\n"
   ]
  },
  {
   "cell_type": "code",
   "execution_count": 26,
   "metadata": {
    "tags": []
   },
   "outputs": [
    {
     "output_type": "stream",
     "name": "stdout",
     "text": "The autoreload extension is already loaded. To reload it, use:\n  %reload_ext autoreload\n"
    }
   ],
   "source": [
    "%load_ext autoreload\n",
    "%autoreload 2\n"
   ]
  },
  {
   "cell_type": "code",
   "execution_count": 27,
   "metadata": {},
   "outputs": [],
   "source": [
    "from ETL.ETL import loadDataset, getTopProducts\n",
    "from similarity.similarity import mergeTopSimilar, loadSimilarity\n",
    "dataRaw= loadDataset(version=3)\n",
    "dfSimilarity = loadSimilarity(version=3)\n"
   ]
  },
  {
   "cell_type": "code",
   "execution_count": 28,
   "metadata": {},
   "outputs": [
    {
     "output_type": "execute_result",
     "data": {
      "text/plain": "['JACK DANIELS BLK WHSKY  1L',\n 'JACK DANIELS BLK WHSKY  750M',\n 'JACK DANIELS BLK WHSKY  1.75L',\n 'JACK DANIELS BLK WHSKY FLSK PET 375M',\n 'JACK DANIELS BLK WHSKY RD 375M']"
     },
     "metadata": {},
     "execution_count": 28
    }
   ],
   "source": [
    "#Parameters\n",
    "ChainMaster = 'INDEPENDENTS'\n",
    "ProdCat='SUP PREM WHISKEY'\n",
    "#Customer = 'TWIN PEAKS LIQUOR'\n",
    "prods = getTopProducts(dataRaw,ChainMaster=ChainMaster,ProdCat=ProdCat,topN=5,timeCol='Month')\n",
    "prods"
   ]
  },
  {
   "cell_type": "code",
   "execution_count": 29,
   "metadata": {
    "tags": []
   },
   "outputs": [
    {
     "output_type": "stream",
     "name": "stdout",
     "text": "['0', '1', '2', '3']\n{'0': 'JACK DANIELS BLK WHSKY  1.75L', '1': 'JACK DANIELS GRN  1L', '2': 'JACK DANIELS BLK WHSKY 3PK W/2L COKE 1.75L', '3': 'JACK DANIELS GRN  1.75L'}\n"
    },
    {
     "output_type": "execute_result",
     "data": {
      "text/plain": "        Month  9L Cases  Dollar Sales per 9L Case            0           1  \\\n79 2019-08-01    40.898               3586.205705  1768.153846  217.984962   \n80 2019-09-01    28.264               3584.534954  1432.256410    0.000000   \n81 2019-10-01    36.687               3823.402560  1626.433048    0.000000   \n82 2019-11-01    40.011               4302.033466  1768.153846  217.984962   \n83 2019-12-01    44.112               4063.029034  3333.435897    0.000000   \n\n              2           3  \n79  1770.310345  168.256410  \n80   603.232759  178.512821  \n81  2018.803448  179.538462  \n82     0.000000    0.000000  \n83     0.000000  168.256410  ",
      "text/html": "<div>\n<style scoped>\n    .dataframe tbody tr th:only-of-type {\n        vertical-align: middle;\n    }\n\n    .dataframe tbody tr th {\n        vertical-align: top;\n    }\n\n    .dataframe thead th {\n        text-align: right;\n    }\n</style>\n<table border=\"1\" class=\"dataframe\">\n  <thead>\n    <tr style=\"text-align: right;\">\n      <th></th>\n      <th>Month</th>\n      <th>9L Cases</th>\n      <th>Dollar Sales per 9L Case</th>\n      <th>0</th>\n      <th>1</th>\n      <th>2</th>\n      <th>3</th>\n    </tr>\n  </thead>\n  <tbody>\n    <tr>\n      <th>79</th>\n      <td>2019-08-01</td>\n      <td>40.898</td>\n      <td>3586.205705</td>\n      <td>1768.153846</td>\n      <td>217.984962</td>\n      <td>1770.310345</td>\n      <td>168.256410</td>\n    </tr>\n    <tr>\n      <th>80</th>\n      <td>2019-09-01</td>\n      <td>28.264</td>\n      <td>3584.534954</td>\n      <td>1432.256410</td>\n      <td>0.000000</td>\n      <td>603.232759</td>\n      <td>178.512821</td>\n    </tr>\n    <tr>\n      <th>81</th>\n      <td>2019-10-01</td>\n      <td>36.687</td>\n      <td>3823.402560</td>\n      <td>1626.433048</td>\n      <td>0.000000</td>\n      <td>2018.803448</td>\n      <td>179.538462</td>\n    </tr>\n    <tr>\n      <th>82</th>\n      <td>2019-11-01</td>\n      <td>40.011</td>\n      <td>4302.033466</td>\n      <td>1768.153846</td>\n      <td>217.984962</td>\n      <td>0.000000</td>\n      <td>0.000000</td>\n    </tr>\n    <tr>\n      <th>83</th>\n      <td>2019-12-01</td>\n      <td>44.112</td>\n      <td>4063.029034</td>\n      <td>3333.435897</td>\n      <td>0.000000</td>\n      <td>0.000000</td>\n      <td>168.256410</td>\n    </tr>\n  </tbody>\n</table>\n</div>"
     },
     "metadata": {},
     "execution_count": 29
    }
   ],
   "source": [
    "\n",
    "prod = prods[0]\n",
    "colTime = 'Month'\n",
    "colPreds = ['9L Cases'] #Demand\n",
    "colEndog = ['Dollar Sales per 9L Case'] #Price\n",
    "\n",
    "#add function to get the top products ##DONBE\n",
    "#create encoder/decoder for the product names ##DONE\n",
    "#add filter only for the category of product. DONE\n",
    "#add top nproduct based on avg revenue  per month for full dataset   calculate since the first month of product.. limit at least for 24 months DONE\n",
    "#REMOVE current product in the pivot Done\n",
    "#\n",
    "#TO DO:\n",
    "#Merge top similar only looking at a list of products \n",
    "#Encode before the merge? (same prods same code)\n",
    "#one chain, top three products, top 1 similar\n",
    "#Impute the price\n",
    "(dataModel,colExog,colEnc,colDec) = mergeTopSimilar(dataRaw,dfSimilarity\n",
    "                                                    ,ChainMaster=ChainMaster\n",
    "                                                    ,Product=prod\n",
    "                                                    ,topn=5 \n",
    "                                                    ,selCols = colEndog + colPreds,periodCol = colTime\n",
    "                                                    ,pivotCol='Dollar Sales per 9L Case' \n",
    "                                                    ,encodeCols=True)\n",
    "                                                                        \n",
    "#colExog = colExog + colEndog\n",
    "print(colExog)\n",
    "print(colDec)\n",
    "allCols=[colTime]+colPreds+colEndog + colExog\n",
    "data=dataModel[allCols]\n",
    "data.tail(5)"
   ]
  },
  {
   "cell_type": "code",
   "execution_count": 30,
   "metadata": {
    "tags": []
   },
   "outputs": [
    {
     "output_type": "stream",
     "name": "stdout",
     "text": "(80, 7) (4, 7)\n"
    }
   ],
   "source": [
    "train = data.iloc[0:80]\n",
    "test = data.iloc[80:84]\n",
    "print(train.shape,test.shape)"
   ]
  },
  {
   "cell_type": "code",
   "execution_count": 31,
   "metadata": {
    "tags": []
   },
   "outputs": [
    {
     "output_type": "stream",
     "name": "stdout",
     "text": "Start of Fit.....\n    Target variable = 9L Cases\nStart of loading of data.....\nInput is data frame. Performing Time Series Analysis\n    Dataframe loaded successfully. Shape of data set = (80, 6)\nTime Interval is given as Month\n\n\n==================================================\nBuilding SARIMAX Model\n==================================================\n\n\n\u001b[1m\nRunning Seasonal SARIMAX Model...\u001b[0m\n\u001b[1mBuilding a Seasonal Model...\u001b[0m\n\u001b[1m\n    Finding best Non-Seasonal pdq Parameters:\u001b[0m\n\nDifferencing = 0 with Seasonality = False\n    Iteration 0 completed...\nInside find_best_pdq_or_PDQ --> results_bic\n            MA0         MA1         MA2         MA3\nAR0         NaN  522.423505  515.944606  506.922266\nAR1  527.709657  520.863435  516.521451  508.920373\nAR2  521.865392  522.702711  518.150545  510.396229\nAR3  516.733736  516.420236  518.610746  510.571151\n    Best AR order p = 0, MA order q = 3, Interim metric = 506.922\n\nDifferencing = 1 with Seasonality = True\nInside find_best_pdq_or_PDQ --> results_bic\n     MA0  MA1  MA2  MA3\nAR0  NaN  NaN  NaN  NaN\nAR1  NaN  NaN  NaN  NaN\nAR2  NaN  NaN  NaN  NaN\nAR3  NaN  NaN  NaN  NaN\n    D = 1 results in an empty ARMA set. Setting Seasonality to False since model might overfit\nSeasonal Dictionary: {0: True, 1: False}\n\u001b[1m\n    Finding best Seasonal PDQ Model Parameters:\u001b[0m\n\nDifferencing = 0 with Seasonality = True\n    Iteration 0 completed...\nInside find_best_pdq_or_PDQ --> results_bic\n            MA0         MA1          MA2         MA3\nAR0         NaN  426.529549  2299.676573  250.546302\nAR1  445.797871  410.544931   328.798549  246.826641\nAR2  365.755651  362.639691   342.506875  258.948481\nAR3  277.241374  281.274202   282.030199  260.954673\n    Best AR order p = 1, MA order q = 3, Interim metric = 246.827\n\nDifferencing = 1 with Seasonality = True\nInside find_best_pdq_or_PDQ --> results_bic\n            MA0         MA1         MA2         MA3\nAR0  434.126384  320.327379  239.799430  169.531580\nAR1  370.603349  322.625375  238.406975  172.490219\nAR2  274.155490  270.630206  243.619955  172.012662\nAR3  182.811611  184.189803  203.216500  165.296337\n    Best AR order p = 3, MA order q = 3, Interim metric = 165.296\nSeasonal Dictionary: {0: True, 1: True}\n\nBest model is a Seasonal SARIMAX(0,0,3)*(3,1,3,12), aic = 165.296\n\u001b[1mFitting best SARIMAX model\u001b[0m\n    Best aic metric = 180.9\n\u001b[1mRefitting data with previously found best parameters\u001b[0m\n    Best aic metric = 201.8\nDynamic 3-Period Forecast:\n    RMSE = 8.36\n    Std Deviation of Originals = 8.10\n    Normalized RMSE = 103%\n\n\n==================================================\nBuilding ML Model\n==================================================\n\n\n\u001b[1m\nRunning Machine Learning Models...\u001b[0m\n    Shifting 5 predictors by lag=2 to align prior predictor with current target...\nRunning multiple models...\n    RMSE = 7.77\n    Std Deviation of Originals = 8.01\n    Normalized RMSE = 97%\n\u001b[1m\nBest Model is: \u001b[0mML\n    Best Model Score: 7.77\n    Best Model Forecasts (Validation Set):\n0    37.04940\n1    27.29494\n2    28.34320\nName: mean, dtype: float64\n"
    },
    {
     "output_type": "execute_result",
     "data": {
      "text/plain": "<auto_ts.AutoTimeSeries at 0x1b0514197b8>"
     },
     "metadata": {},
     "execution_count": 31
    }
   ],
   "source": [
    "import auto_ts as AT\n",
    "automl_model = AT.AutoTimeSeries(\n",
    "    score_type='rmse', forecast_period=3, time_interval='Month',\n",
    "    non_seasonal_pdq=None, seasonality=True, seasonal_period=12,\n",
    "    model_type=['SARIMAX','ML'],\n",
    "    verbose=0)\n",
    "automl_model.fit(train, 'Month', '9L Cases', ',')\n",
    "\n"
   ]
  },
  {
   "cell_type": "code",
   "execution_count": 32,
   "metadata": {},
   "outputs": [
    {
     "output_type": "execute_result",
     "data": {
      "text/plain": "      name      rmse\n1       ML  7.772846\n0  SARIMAX  8.362560",
      "text/html": "<div>\n<style scoped>\n    .dataframe tbody tr th:only-of-type {\n        vertical-align: middle;\n    }\n\n    .dataframe tbody tr th {\n        vertical-align: top;\n    }\n\n    .dataframe thead th {\n        text-align: right;\n    }\n</style>\n<table border=\"1\" class=\"dataframe\">\n  <thead>\n    <tr style=\"text-align: right;\">\n      <th></th>\n      <th>name</th>\n      <th>rmse</th>\n    </tr>\n  </thead>\n  <tbody>\n    <tr>\n      <th>1</th>\n      <td>ML</td>\n      <td>7.772846</td>\n    </tr>\n    <tr>\n      <th>0</th>\n      <td>SARIMAX</td>\n      <td>8.362560</td>\n    </tr>\n  </tbody>\n</table>\n</div>"
     },
     "metadata": {},
     "execution_count": 32
    }
   ],
   "source": [
    "automl_model.get_leaderboard()"
   ]
  },
  {
   "cell_type": "code",
   "execution_count": 33,
   "metadata": {},
   "outputs": [
    {
     "output_type": "execute_result",
     "data": {
      "text/plain": "        Month  9L Cases  Dollar Sales per 9L Case            0           1  \\\n77 2019-06-01    33.694               4542.229576  1807.897436    0.000000   \n78 2019-07-01    30.812               3584.489661  2669.076923  217.984962   \n79 2019-08-01    40.898               3586.205705  1768.153846  217.984962   \n\n              2           3  \n77  1209.568966  354.461538  \n78   623.172414    0.000000  \n79  1770.310345  168.256410  ",
      "text/html": "<div>\n<style scoped>\n    .dataframe tbody tr th:only-of-type {\n        vertical-align: middle;\n    }\n\n    .dataframe tbody tr th {\n        vertical-align: top;\n    }\n\n    .dataframe thead th {\n        text-align: right;\n    }\n</style>\n<table border=\"1\" class=\"dataframe\">\n  <thead>\n    <tr style=\"text-align: right;\">\n      <th></th>\n      <th>Month</th>\n      <th>9L Cases</th>\n      <th>Dollar Sales per 9L Case</th>\n      <th>0</th>\n      <th>1</th>\n      <th>2</th>\n      <th>3</th>\n    </tr>\n  </thead>\n  <tbody>\n    <tr>\n      <th>77</th>\n      <td>2019-06-01</td>\n      <td>33.694</td>\n      <td>4542.229576</td>\n      <td>1807.897436</td>\n      <td>0.000000</td>\n      <td>1209.568966</td>\n      <td>354.461538</td>\n    </tr>\n    <tr>\n      <th>78</th>\n      <td>2019-07-01</td>\n      <td>30.812</td>\n      <td>3584.489661</td>\n      <td>2669.076923</td>\n      <td>217.984962</td>\n      <td>623.172414</td>\n      <td>0.000000</td>\n    </tr>\n    <tr>\n      <th>79</th>\n      <td>2019-08-01</td>\n      <td>40.898</td>\n      <td>3586.205705</td>\n      <td>1768.153846</td>\n      <td>217.984962</td>\n      <td>1770.310345</td>\n      <td>168.256410</td>\n    </tr>\n  </tbody>\n</table>\n</div>"
     },
     "metadata": {},
     "execution_count": 33
    }
   ],
   "source": [
    "train.tail(3)"
   ]
  },
  {
   "cell_type": "code",
   "execution_count": 34,
   "metadata": {},
   "outputs": [
    {
     "output_type": "execute_result",
     "data": {
      "text/plain": "defaultdict(<function auto_ts.AutoTimeSeries.fit.<locals>.<lambda>()>,\n            {'SARIMAX': defaultdict(<function auto_ts.AutoTimeSeries.fit.<locals>.<lambda>()>,\n                         {'model': <statsmodels.tsa.statespace.sarimax.SARIMAXResultsWrapper at 0x1b051ad63c8>,\n                          'forecast': 9L Cases         mean   mean_se  mean_ci_lower  mean_ci_upper\n                          2019-06-01  44.042419  5.415340      33.428548      54.656291\n                          2019-07-01  29.879717  5.416237      19.264088      40.495346\n                          2019-08-01  30.806504  5.514944      19.997412      41.615596,\n                          'rmse': 8.362560089146708,\n                          'model_build': <auto_ts.models.ar_based.sarimax.BuildSarimax at 0x1b051419e48>}),\n             'ML': defaultdict(<function auto_ts.AutoTimeSeries.fit.<locals>.<lambda>()>,\n                         {'model': BaggingRegressor(base_estimator=DecisionTreeRegressor(ccp_alpha=0.0,\n                                                                                criterion='mse',\n                                                                                max_depth=None,\n                                                                                max_features=None,\n                                                                                max_leaf_nodes=None,\n                                                                                min_impurity_decrease=0.0,\n                                                                                min_impurity_split=None,\n                                                                                min_samples_leaf=1,\n                                                                                min_samples_split=2,\n                                                                                min_weight_fraction_leaf=0.0,\n                                                                                presort='deprecated',\n                                                                                random_state=99,\n                                                                                splitter='best'),\n                                           bootstrap=True, bootstrap_features=False, max_features=1.0,\n                                           max_samples=1.0, n_estimators=50, n_jobs=None, oob_score=False,\n                                           random_state=99, verbose=0, warm_start=False),\n                          'forecast': 0    37.04940\n                          1    27.29494\n                          2    28.34320\n                          Name: mean, dtype: float64,\n                          'rmse': 7.772846395060186,\n                          'model_build': <auto_ts.models.build_ml.BuildML at 0x1b04be5fc88>})})"
     },
     "metadata": {},
     "execution_count": 34
    }
   ],
   "source": [
    "automl_model.get_ml_dict()"
   ]
  },
  {
   "cell_type": "code",
   "execution_count": 35,
   "metadata": {},
   "outputs": [
    {
     "output_type": "execute_result",
     "data": {
      "text/plain": "0    29.63932\n1    29.19418\n2    36.77458\n3    28.79758\nName: mean, dtype: float64"
     },
     "metadata": {},
     "execution_count": 35
    }
   ],
   "source": [
    "test_predictions = automl_model.predict(X_exogen = test)  # TODO: pass the test dataframe (exogen) - can add model = to to get a model speicifc\n",
    "test_predictions"
   ]
  },
  {
   "cell_type": "code",
   "execution_count": 36,
   "metadata": {
    "tags": []
   },
   "outputs": [
    {
     "output_type": "stream",
     "name": "stdout",
     "text": "0    29.63932\n1    29.19418\n2    36.77458\n3    28.79758\nName: mean, dtype: float64\n2019-09-01    31.610058\n2019-10-01    35.713491\n2019-11-01    45.651439\n2019-12-01    56.811153\nFreq: MS, Name: mean, dtype: float64\n"
    },
    {
     "output_type": "execute_result",
     "data": {
      "text/plain": "        Month  9L Cases  Dollar Sales per 9L Case            0           1  \\\n80 2019-09-01    28.264               3584.534954  1432.256410    0.000000   \n81 2019-10-01    36.687               3823.402560  1626.433048    0.000000   \n82 2019-11-01    40.011               4302.033466  1768.153846  217.984962   \n83 2019-12-01    44.112               4063.029034  3333.435897    0.000000   \n\n              2           3  \n80   603.232759  178.512821  \n81  2018.803448  179.538462  \n82     0.000000    0.000000  \n83     0.000000  168.256410  ",
      "text/html": "<div>\n<style scoped>\n    .dataframe tbody tr th:only-of-type {\n        vertical-align: middle;\n    }\n\n    .dataframe tbody tr th {\n        vertical-align: top;\n    }\n\n    .dataframe thead th {\n        text-align: right;\n    }\n</style>\n<table border=\"1\" class=\"dataframe\">\n  <thead>\n    <tr style=\"text-align: right;\">\n      <th></th>\n      <th>Month</th>\n      <th>9L Cases</th>\n      <th>Dollar Sales per 9L Case</th>\n      <th>0</th>\n      <th>1</th>\n      <th>2</th>\n      <th>3</th>\n    </tr>\n  </thead>\n  <tbody>\n    <tr>\n      <th>80</th>\n      <td>2019-09-01</td>\n      <td>28.264</td>\n      <td>3584.534954</td>\n      <td>1432.256410</td>\n      <td>0.000000</td>\n      <td>603.232759</td>\n      <td>178.512821</td>\n    </tr>\n    <tr>\n      <th>81</th>\n      <td>2019-10-01</td>\n      <td>36.687</td>\n      <td>3823.402560</td>\n      <td>1626.433048</td>\n      <td>0.000000</td>\n      <td>2018.803448</td>\n      <td>179.538462</td>\n    </tr>\n    <tr>\n      <th>82</th>\n      <td>2019-11-01</td>\n      <td>40.011</td>\n      <td>4302.033466</td>\n      <td>1768.153846</td>\n      <td>217.984962</td>\n      <td>0.000000</td>\n      <td>0.000000</td>\n    </tr>\n    <tr>\n      <th>83</th>\n      <td>2019-12-01</td>\n      <td>44.112</td>\n      <td>4063.029034</td>\n      <td>3333.435897</td>\n      <td>0.000000</td>\n      <td>0.000000</td>\n      <td>168.256410</td>\n    </tr>\n  </tbody>\n</table>\n</div>"
     },
     "metadata": {},
     "execution_count": 36
    }
   ],
   "source": [
    "test_predictions = automl_model.predict(X_exogen = test,model='ML')  # TODO: pass the test dataframe (exogen) - can add model = to to get a model speicifc\n",
    "print(test_predictions)\n",
    "test_predictions = automl_model.predict(X_exogen = test[colEndog+colExog ],model='SARIMAX')  # TODO: pass the test dataframe (exogen) - can add model = to to get a model speicifc\n",
    "print(test_predictions)\n",
    "test"
   ]
  },
  {
   "cell_type": "markdown",
   "metadata": {},
   "source": [
    "## Predicting with Exogenous Vars"
   ]
  },
  {
   "cell_type": "code",
   "execution_count": 51,
   "metadata": {},
   "outputs": [
    {
     "data": {
      "text/html": [
       "<div>\n",
       "<style scoped>\n",
       "    .dataframe tbody tr th:only-of-type {\n",
       "        vertical-align: middle;\n",
       "    }\n",
       "\n",
       "    .dataframe tbody tr th {\n",
       "        vertical-align: top;\n",
       "    }\n",
       "\n",
       "    .dataframe thead th {\n",
       "        text-align: right;\n",
       "    }\n",
       "</style>\n",
       "<table border=\"1\" class=\"dataframe\">\n",
       "  <thead>\n",
       "    <tr style=\"text-align: right;\">\n",
       "      <th></th>\n",
       "      <th>Dollar Sales per 9L Case</th>\n",
       "      <th>TAAKA VODKA 80 PET 1.75L</th>\n",
       "      <th>TAAKA VODKA 80 BLUE PET 375M</th>\n",
       "      <th>TAAKA VODKA 80 BLUE PET 200M</th>\n",
       "      <th>TAAKA CAKE VODKA PET 1.75L</th>\n",
       "      <th>DOBRA VODKA PET 375M</th>\n",
       "    </tr>\n",
       "    <tr>\n",
       "      <th>Month</th>\n",
       "      <th></th>\n",
       "      <th></th>\n",
       "      <th></th>\n",
       "      <th></th>\n",
       "      <th></th>\n",
       "      <th></th>\n",
       "    </tr>\n",
       "  </thead>\n",
       "  <tbody>\n",
       "    <tr>\n",
       "      <th>2020-01-01</th>\n",
       "      <td>464.564103</td>\n",
       "      <td>464.564103</td>\n",
       "      <td>755.523189</td>\n",
       "      <td>188.411215</td>\n",
       "      <td>0.0</td>\n",
       "      <td>0.0</td>\n",
       "    </tr>\n",
       "    <tr>\n",
       "      <th>2020-02-01</th>\n",
       "      <td>470.305156</td>\n",
       "      <td>470.305156</td>\n",
       "      <td>765.604177</td>\n",
       "      <td>190.395624</td>\n",
       "      <td>0.0</td>\n",
       "      <td>0.0</td>\n",
       "    </tr>\n",
       "    <tr>\n",
       "      <th>2020-03-01</th>\n",
       "      <td>476.117156</td>\n",
       "      <td>476.117156</td>\n",
       "      <td>775.819676</td>\n",
       "      <td>192.400934</td>\n",
       "      <td>0.0</td>\n",
       "      <td>0.0</td>\n",
       "    </tr>\n",
       "  </tbody>\n",
       "</table>\n",
       "</div>"
      ],
      "text/plain": [
       "            Dollar Sales per 9L Case  TAAKA VODKA 80 PET 1.75L  \\\n",
       "Month                                                            \n",
       "2020-01-01                464.564103                464.564103   \n",
       "2020-02-01                470.305156                470.305156   \n",
       "2020-03-01                476.117156                476.117156   \n",
       "\n",
       "            TAAKA VODKA 80 BLUE PET 375M  TAAKA VODKA 80 BLUE PET 200M  \\\n",
       "Month                                                                    \n",
       "2020-01-01                    755.523189                    188.411215   \n",
       "2020-02-01                    765.604177                    190.395624   \n",
       "2020-03-01                    775.819676                    192.400934   \n",
       "\n",
       "            TAAKA CAKE VODKA PET 1.75L  DOBRA VODKA PET 375M  \n",
       "Month                                                         \n",
       "2020-01-01                         0.0                   0.0  \n",
       "2020-02-01                         0.0                   0.0  \n",
       "2020-03-01                         0.0                   0.0  "
      ]
     },
     "execution_count": 51,
     "metadata": {},
     "output_type": "execute_result"
    }
   ],
   "source": [
    "#create fake prediction dataset\n",
    "dataPred = data.copy()\n",
    "dataPred.index = dataPred[colTime]\n",
    "dataPred=dataPred.asfreq(freq=pd.offsets.MonthBegin())\n",
    "\n",
    "\n",
    "dfExog= pd.DataFrame({'Month' : pd.date_range('2020-01-01',periods = 3,freq='MS')})\n",
    "cols= colEndog + colExog\n",
    "for i,c in enumerate(cols):\n",
    "    dfExog[c] = dataPred[c][-1] \n",
    "    dfExog[c]  = dfExog[c] ** (1+dfExog.index/500)\n",
    "\n",
    "dfExog.set_index(colTime,inplace=True)\n",
    "dfExog=dfExog.asfreq(freq=pd.offsets.MonthBegin())\n",
    "dfExog\n"
   ]
  },
  {
   "cell_type": "code",
   "execution_count": 57,
   "metadata": {},
   "outputs": [
    {
     "name": "stdout",
     "output_type": "stream",
     "text": [
      "[49.62486486 49.62486486 49.62486486]\n"
     ]
    }
   ],
   "source": [
    "test_predictions = automl_model.predict(forecast_period=3,model='ML',X_exogen=dfExog) \n",
    "print(test_predictions)"
   ]
  },
  {
   "cell_type": "code",
   "execution_count": null,
   "metadata": {},
   "outputs": [],
   "source": []
  }
 ],
 "metadata": {
  "kernelspec": {
   "display_name": "Python 3.6.10 64-bit ('msds_capstone': conda)",
   "language": "python",
   "name": "python361064bitmsdscapstoneconda8d6407b59370461aa891780727d57a0a"
  },
  "language_info": {
   "codemirror_mode": {
    "name": "ipython",
    "version": 3
   },
   "file_extension": ".py",
   "mimetype": "text/x-python",
   "name": "python",
   "nbconvert_exporter": "python",
   "pygments_lexer": "ipython3",
   "version": "3.6.10-final"
  },
  "toc-autonumbering": true,
  "toc-showtags": false
 },
 "nbformat": 4,
 "nbformat_minor": 4
}