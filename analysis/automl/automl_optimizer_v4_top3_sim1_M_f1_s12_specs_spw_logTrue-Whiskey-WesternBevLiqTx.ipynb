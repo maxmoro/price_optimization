{
 "cells": [
  {
   "cell_type": "markdown",
   "metadata": {},
   "source": [
    "# Init"
   ]
  },
  {
   "cell_type": "code",
   "execution_count": 1,
   "metadata": {},
   "outputs": [],
   "source": [
    "try:\n",
    "    import os\n",
    "    import glob\n",
    "    import sys\n",
    "    import math\n",
    "    from typing import List, Optional\n",
    "    from functools import partial\n",
    "    import itertools\n",
    "    import copy\n",
    "except Exception as e:\n",
    "    print(e)\n",
    "    print(\"Some of the libraries needed to run this script were not installed or were not loaded. Please install the libraries before proceeding.\")"
   ]
  },
  {
   "cell_type": "code",
   "execution_count": 2,
   "metadata": {
    "tags": []
   },
   "outputs": [],
   "source": [
    "sys.path.append(os.environ['DEV_AUTOTS'])\n",
    "sys.path.append(os.environ['CAPSTONE_PYTHON_SOURCE'])\n",
    "folder = os.environ['CAPSTONE_DATA']"
   ]
  },
  {
   "cell_type": "code",
   "execution_count": 3,
   "metadata": {
    "tags": []
   },
   "outputs": [
    {
     "data": {
      "text/html": [
       "        <script type=\"text/javascript\">\n",
       "        window.PlotlyConfig = {MathJaxConfig: 'local'};\n",
       "        if (window.MathJax) {MathJax.Hub.Config({SVG: {font: \"STIX-Web\"}});}\n",
       "        if (typeof require !== 'undefined') {\n",
       "        require.undef(\"plotly\");\n",
       "        requirejs.config({\n",
       "            paths: {\n",
       "                'plotly': ['https://cdn.plot.ly/plotly-latest.min']\n",
       "            }\n",
       "        });\n",
       "        require(['plotly'], function(Plotly) {\n",
       "            window._Plotly = Plotly;\n",
       "        });\n",
       "        }\n",
       "        </script>\n",
       "        "
      ]
     },
     "metadata": {},
     "output_type": "display_data"
    },
    {
     "name": "stdout",
     "output_type": "stream",
     "text": [
      "Running Auto Timeseries version: 0.0.22... Call by using:\n",
      "        import auto_ts as AT\n",
      "        automl_model = AT.AutoTimeSeries(\n",
      "            score_type='rmse',\n",
      "            forecast_period=4,\n",
      "            time_interval='Week',\n",
      "            non_seasonal_pdq=None,\n",
      "            seasonality=True,\n",
      "            seasonal_period=52,\n",
      "            model_type=['SARIMAX','ML'],\n",
      "            verbose=0)\n",
      "    automl_model.fit(train, 'WeekDate', '9L Cases', ',')\n",
      "    automl_model.get_leaderboard()\n",
      "        \n",
      "    To run all models (Stats, ML, FB Prophet, etc.) set model_type='best'\n",
      "To remove previous versions, perform 'pip uninstall auto_ts'\n",
      "To get the latest version, perform \"pip install auto_ts --no-cache-dir --ignore-installed\"\n"
     ]
    }
   ],
   "source": [
    "try:\n",
    "    # Data Tables\n",
    "    import pandas as pd\n",
    "    import numpy as np\n",
    "\n",
    "    # Plotting\n",
    "    import matplotlib.pyplot as plt\n",
    "    import plotly.offline as py\n",
    "    from plotly.offline import plot\n",
    "    py.init_notebook_mode(connected=True)\n",
    "\n",
    "    # EDA and Feature Engineering\n",
    "    from scipy.spatial.distance import euclidean, pdist, squareform\n",
    "    import statsmodels.api as sm\n",
    "\n",
    "    # Auto Time Series\n",
    "    import auto_ts as AT\n",
    "\n",
    "    # Optimizer\n",
    "    from skopt import gp_minimize\n",
    "    from skopt.space import Real, Integer\n",
    "    from skopt.plots import plot_convergence\n",
    "except Exception as e:\n",
    "    print(e)\n",
    "    print(\"Some of the libraries needed to run this script were not installed or were not loaded. Please install the libraries before proceeding.\")"
   ]
  },
  {
   "cell_type": "code",
   "execution_count": 4,
   "metadata": {
    "tags": []
   },
   "outputs": [],
   "source": [
    "%load_ext autoreload\n",
    "%autoreload 2"
   ]
  },
  {
   "cell_type": "code",
   "execution_count": 5,
   "metadata": {},
   "outputs": [],
   "source": [
    "try:\n",
    "    from ETL.ETL import loadDataset, getTopProducts\n",
    "    from similarity.similarity import mergeTopSimilar, loadSimilarity\n",
    "    from charting.charting import surface3DChart\n",
    "except Exception as e:\n",
    "    print(e)\n",
    "    print(\"Some of the libraries needed to run this script were not installed or were not loaded. Please install the libraries before proceeding.\")    "
   ]
  },
  {
   "cell_type": "code",
   "execution_count": 6,
   "metadata": {},
   "outputs": [],
   "source": [
    "\n",
    "dataRaw= loadDataset(version=4)\n",
    "dfSimilarity = loadSimilarity(version=4)"
   ]
  },
  {
   "cell_type": "code",
   "execution_count": 7,
   "metadata": {},
   "outputs": [
    {
     "data": {
      "text/plain": [
       "array(['THE BARREL HOUSE', 'WESTERN BEV LIQ TX', 'SPECS'], dtype=object)"
      ]
     },
     "execution_count": 7,
     "metadata": {},
     "output_type": "execute_result"
    }
   ],
   "source": [
    "dataRaw['Chain Master'].unique()"
   ]
  },
  {
   "cell_type": "markdown",
   "metadata": {},
   "source": [
    "# Prep Data"
   ]
  },
  {
   "cell_type": "code",
   "execution_count": 8,
   "metadata": {
    "tags": []
   },
   "outputs": [
    {
     "name": "stdout",
     "output_type": "stream",
     "text": [
      "==================================================\n",
      "Parameters being used...\n",
      "==================================================\n",
      "Resample Frequency = M\n",
      "Forecast Period = 1\n",
      "Seasonal Period = 12\n",
      "Chain: WESTERN BEV LIQ TX\n",
      "Product Category: SUP PREM WHISKEY\n"
     ]
    }
   ],
   "source": [
    "#Parameters\n",
    "ChainMaster = 'WESTERN BEV LIQ TX'\n",
    "ProdCat='SUP PREM WHISKEY'\n",
    "TOP_PRODUCTS = 3  # How many products to consider in the category\n",
    "TOP_SIMILAR = 1  # Get TOP_SIMILAR most similar products\n",
    "\n",
    "LOG_TRANSFORM = True # Take log of 9L cases to smooth out peaks and valleys\n",
    "ZERO_ADDER = 0.1 \n",
    "\n",
    "RESAMPLE_FREQ = 'M'\n",
    "\n",
    "# Pricing changes every 4 weeks\n",
    "if RESAMPLE_FREQ == 'M':\n",
    "    FORECAST_PERIOD = 1\n",
    "if RESAMPLE_FREQ == 'W':\n",
    "    FORECAST_PERIOD = 4 \n",
    "if RESAMPLE_FREQ == '2W':\n",
    "    FORECAST_PERIOD = 2 \n",
    "\n",
    "# Seasonal Period\n",
    "if RESAMPLE_FREQ == 'M':\n",
    "    SEASONAL_PERIOD = 12  # Yearly\n",
    "if RESAMPLE_FREQ == 'W':\n",
    "    SEASONAL_PERIOD = 13 # Quarterly (we can also take yearly = 52, but SARIMAX becomes too slow)\n",
    "if RESAMPLE_FREQ == '2W':\n",
    "    SEASONAL_PERIOD = 13 # This becomes problematic --> for quarterly, should we take 6 biweekly periods or 7 bi-weekly periods. Instead I just took half yearly period  \n",
    "\n",
    "print(\"=\"*50)\n",
    "print(\"Parameters being used...\")\n",
    "print(\"=\"*50)\n",
    "print(f\"Resample Frequency = {RESAMPLE_FREQ}\")\n",
    "print(f\"Forecast Period = {FORECAST_PERIOD}\")\n",
    "print(f\"Seasonal Period = {SEASONAL_PERIOD}\")\n",
    "print(f\"Chain: {ChainMaster}\")\n",
    "print(f\"Product Category: {ProdCat}\")\n"
   ]
  },
  {
   "cell_type": "code",
   "execution_count": 9,
   "metadata": {},
   "outputs": [
    {
     "data": {
      "text/plain": [
       "['JACK DANIELS BLK WHSKY  1.75L',\n",
       " 'JACK DANIELS BLK WHSKY 3PK W/2L COKE 1.75L',\n",
       " 'JACK DANIELS BLK WHSKY 6PK W/MEXI COKE 750M']"
      ]
     },
     "execution_count": 9,
     "metadata": {},
     "output_type": "execute_result"
    }
   ],
   "source": [
    "ProductsList = getTopProducts(dataRaw, ChainMaster=ChainMaster, ProdCat=ProdCat, topN=TOP_PRODUCTS, timeCol='WeekDate')\n",
    "ProductsList"
   ]
  },
  {
   "cell_type": "code",
   "execution_count": 10,
   "metadata": {
    "tags": []
   },
   "outputs": [
    {
     "name": "stdout",
     "output_type": "stream",
     "text": [
      "Decoder: {'0': 'JACK DANIELS BLK WHSKY  1.75L', '1': 'JACK DANIELS BLK WHSKY 3PK W/2L COKE 1.75L', '2': 'JACK DANIELS BLK WHSKY 6PK W/MEXI COKE 750M'}\n",
      "\n",
      "\n",
      "\n",
      "--------------------------------------------------\n",
      "Product: JACK DANIELS BLK WHSKY  1.75L\n",
      "--------------------------------------------------\n",
      "Exogenous Price Columns: ['0', '1']\n",
      "% of weeks without a purchase: 17.5\n"
     ]
    },
    {
     "data": {
      "image/png": "[encoded data removed]",
      "text/plain": [
       "<Figure size 432x288 with 1 Axes>"
      ]
     },
     "metadata": {},
     "output_type": "display_data"
    },
    {
     "name": "stdout",
     "output_type": "stream",
     "text": [
      "\n",
      "\n",
      "\n",
      "--------------------------------------------------\n",
      "Product: JACK DANIELS BLK WHSKY 3PK W/2L COKE 1.75L\n",
      "--------------------------------------------------\n",
      "Exogenous Price Columns: ['1', '0']\n",
      "% of weeks without a purchase: 64.63414634146342\n"
     ]
    },
    {
     "data": {
      "image/png": "[encoded data removed]",
      "text/plain": [
       "<Figure size 432x288 with 1 Axes>"
      ]
     },
     "metadata": {},
     "output_type": "display_data"
    },
    {
     "name": "stdout",
     "output_type": "stream",
     "text": [
      "\n",
      "\n",
      "\n",
      "--------------------------------------------------\n",
      "Product: JACK DANIELS BLK WHSKY 6PK W/MEXI COKE 750M\n",
      "--------------------------------------------------\n",
      "Exogenous Price Columns: ['2', '1']\n",
      "% of weeks without a purchase: 56.41025641025641\n"
     ]
    },
    {
     "data": {
      "image/png": "[encoded data removed]",
      "text/plain": [
       "<Figure size 432x288 with 1 Axes>"
      ]
     },
     "metadata": {},
     "output_type": "display_data"
    }
   ],
   "source": [
    "all_data = []\n",
    "\n",
    "colTime = 'WeekDate'\n",
    "colPreds = ['9L Cases'] #Demand\n",
    "colPrice = ['Dollar Sales per 9L Case'] #Price\n",
    "\n",
    "for i, Product in enumerate(ProductsList):\n",
    "    # Product = ProductsList[0]\n",
    "    # colTime = 'WeekDate'\n",
    "    # colPreds = ['9L Cases'] #Demand\n",
    "    # colPrice = ['Dollar Sales per 9L Case'] #Price\n",
    "\n",
    "    #TO DO:\n",
    "    #Merge top similar only looking at a list of products  DONE\n",
    "    #Encode before the merge? (same prods same code) DONE\n",
    "    #one chain, top three products, top 1 similar DONE\n",
    "    #Impute the price DONE\n",
    "    (dataModel,colExog,colEnc,colDec) = mergeTopSimilar(dataRaw, dfSimilarity\n",
    "                                                        ,ChainMaster=ChainMaster\n",
    "                                                        ,Product=Product\n",
    "                                                        ,ProductsList=ProductsList\n",
    "                                                        ,topn=TOP_SIMILAR \n",
    "                                                        ,periodCol = colTime\n",
    "                                                        ,resampleFreq=RESAMPLE_FREQ\n",
    "                                                        ,encodeCols=True)\n",
    "                                                                            \n",
    "    \n",
    "    if i == 0:\n",
    "        print(f\"Decoder: {colDec}\")\n",
    "\n",
    "    print(\"\\n\\n\")\n",
    "    print(\"-\"*50)\n",
    "    print(f\"Product: {colDec.get(str(i))}\")\n",
    "    print(\"-\"*50)\n",
    "    \n",
    "    #colExog = colExog + colEndog\n",
    "    print(f\"Exogenous Price Columns: {colExog}\")\n",
    "    \n",
    "    allCols=[colTime]+colPreds+ colExog\n",
    "    data=dataModel[allCols]\n",
    "    print(f\"% of weeks without a purchase: {sum(data['9L Cases'] == 0)/data.shape[0]*100}\")\n",
    "    # print(data.tail(5))\n",
    "    data.iloc[:][data.columns[-(TOP_SIMILAR+2):]].plot()\n",
    "    all_data.append(data)\n",
    "    plt.show()"
   ]
  },
  {
   "cell_type": "code",
   "execution_count": 11,
   "metadata": {
    "tags": []
   },
   "outputs": [
    {
     "name": "stdout",
     "output_type": "stream",
     "text": [
      "\n",
      "\n",
      "\n",
      "--------------------------------------------------\n",
      "Product: JACK DANIELS BLK WHSKY  1.75L\n",
      "--------------------------------------------------\n"
     ]
    },
    {
     "data": {
      "image/png": "[encoded data removed]",
      "text/plain": [
       "<Figure size 432x288 with 1 Axes>"
      ]
     },
     "metadata": {},
     "output_type": "display_data"
    },
    {
     "name": "stdout",
     "output_type": "stream",
     "text": [
      "\n",
      "\n",
      "\n",
      "--------------------------------------------------\n",
      "Product: JACK DANIELS BLK WHSKY 3PK W/2L COKE 1.75L\n",
      "--------------------------------------------------\n"
     ]
    },
    {
     "data": {
      "image/png": "[encoded data removed]",
      "text/plain": [
       "<Figure size 432x288 with 1 Axes>"
      ]
     },
     "metadata": {},
     "output_type": "display_data"
    },
    {
     "name": "stdout",
     "output_type": "stream",
     "text": [
      "\n",
      "\n",
      "\n",
      "--------------------------------------------------\n",
      "Product: JACK DANIELS BLK WHSKY 6PK W/MEXI COKE 750M\n",
      "--------------------------------------------------\n"
     ]
    },
    {
     "data": {
      "image/png": "[encoded data removed]",
      "text/plain": [
       "<Figure size 432x288 with 1 Axes>"
      ]
     },
     "metadata": {},
     "output_type": "display_data"
    }
   ],
   "source": [
    "# Input Transformation\n",
    "\n",
    "all_data_non_transformed =  copy.deepcopy(all_data)\n",
    "    \n",
    "if LOG_TRANSFORM: \n",
    "    for i in np.arange(len(all_data)):\n",
    "        all_data_non_transformed[i] = all_data[i].copy(deep=True)\n",
    "        all_data[i][colPreds] = np.log10(all_data[i][colPreds] + ZERO_ADDER)\n",
    "        print(\"\\n\\n\")\n",
    "        print(\"-\"*50)\n",
    "        print(f\"Product: {colDec.get(str(i))}\")\n",
    "        print(\"-\"*50)\n",
    "        \n",
    "        all_data[i].iloc[:][colPreds].plot()\n",
    "        plt.show()    "
   ]
  },
  {
   "cell_type": "code",
   "execution_count": 12,
   "metadata": {
    "tags": []
   },
   "outputs": [
    {
     "name": "stdout",
     "output_type": "stream",
     "text": [
      "0\n",
      "1\n",
      "2\n"
     ]
    }
   ],
   "source": [
    "# Checks\n",
    "for i in np.arange(len(all_data)):\n",
    "    print(i)\n",
    "    assert((np.log10(all_data_non_transformed[i][colPreds]+ZERO_ADDER) == all_data[i][colPreds]).all().values[0])    "
   ]
  },
  {
   "cell_type": "markdown",
   "metadata": {},
   "source": [
    "# Test for White Noise"
   ]
  },
  {
   "cell_type": "code",
   "execution_count": 31,
   "metadata": {
    "tags": []
   },
   "outputs": [
    {
     "name": "stdout",
     "output_type": "stream",
     "text": [
      "Running Auto Timeseries version: 0.0.22... Call by using:\n",
      "        import auto_ts as AT\n",
      "        automl_model = AT.AutoTimeSeries(\n",
      "            score_type='rmse',\n",
      "            forecast_period=4,\n",
      "            time_interval='Week',\n",
      "            non_seasonal_pdq=None,\n",
      "            seasonality=True,\n",
      "            seasonal_period=52,\n",
      "            model_type=['SARIMAX','ML'],\n",
      "            verbose=0)\n",
      "    automl_model.fit(train, 'WeekDate', '9L Cases', ',')\n",
      "    automl_model.get_leaderboard()\n",
      "        \n",
      "    To run all models (Stats, ML, FB Prophet, etc.) set model_type='best'\n",
      "To remove previous versions, perform 'pip uninstall auto_ts'\n",
      "To get the latest version, perform \"pip install auto_ts --no-cache-dir --ignore-installed\"\n",
      "\n",
      "\n",
      "\n",
      "--------------------------------------------------\n",
      "Product: JACK DANIELS BLK WHSKY  1.75L\n",
      "--------------------------------------------------\n",
      "       lb_stat     lb_pvalue\n",
      "12  230.533574  1.544168e-42\n",
      "24  440.855949  2.925831e-78\n",
      "32  549.382657  1.561486e-95\n",
      "\n",
      "Is Data White Noise: False\n",
      "\n",
      "\n",
      "\n",
      "--------------------------------------------------\n",
      "Product: JACK DANIELS BLK WHSKY 3PK W/2L COKE 1.75L\n",
      "--------------------------------------------------\n",
      "      lb_stat  lb_pvalue\n",
      "12  23.366736   0.024769\n",
      "24  48.600612   0.002125\n",
      "32  62.971134   0.000876\n",
      "\n",
      "Is Data White Noise: False\n",
      "\n",
      "\n",
      "\n",
      "--------------------------------------------------\n",
      "Product: JACK DANIELS BLK WHSKY 6PK W/MEXI COKE 750M\n",
      "--------------------------------------------------\n",
      "      lb_stat  lb_pvalue\n",
      "12  22.119247   0.036205\n",
      "24  34.976557   0.068749\n",
      "32  39.790507   0.161994\n",
      "\n",
      "Is Data White Noise: True\n"
     ]
    }
   ],
   "source": [
    "white_noise_all = []\n",
    "white_noise_df_all = []\n",
    "\n",
    "for i, data in enumerate(all_data):\n",
    "    print(\"\\n\\n\")\n",
    "    print(\"-\"*50)\n",
    "    print(f\"Product: {colDec.get(str(i))}\")\n",
    "    print(\"-\"*50)\n",
    "    white_noise_df = sm.stats.acorr_ljungbox(data[colPreds], lags=[12,24, 32], return_df=True)\n",
    "    white_noise_df_all.append(white_noise_df)\n",
    "    if any(white_noise_df['lb_pvalue'] > 0.05):\n",
    "        white_noise = True\n",
    "    else:\n",
    "        white_noise = False\n",
    "    white_noise_all.append(white_noise)\n",
    "    \n",
    "    print(white_noise_df)\n",
    "    print(f\"\\nIs Data White Noise: {white_noise}\")\n"
   ]
  },
  {
   "cell_type": "markdown",
   "metadata": {},
   "source": [
    "# Model"
   ]
  },
  {
   "cell_type": "code",
   "execution_count": 14,
   "metadata": {
    "tags": []
   },
   "outputs": [
    {
     "name": "stdout",
     "output_type": "stream",
     "text": [
      "(79, 4) (1, 4)\n",
      "(81, 4) (1, 4)\n",
      "(38, 4) (1, 4)\n"
     ]
    }
   ],
   "source": [
    "all_train = []\n",
    "all_test = []\n",
    "all_models = []\n",
    "\n",
    "all_train_non_transformed = []\n",
    "all_test_non_transformed = []\n",
    "\n",
    "for i, data in enumerate(all_data):\n",
    "    train = all_data_non_transformed[i].iloc[:-FORECAST_PERIOD]\n",
    "    test = all_data_non_transformed[i].iloc[-FORECAST_PERIOD:]\n",
    "    all_train_non_transformed.append(train)\n",
    "    all_test_non_transformed.append(test)\n",
    "\n",
    "    train = data.iloc[:-FORECAST_PERIOD]\n",
    "    test = data.iloc[-FORECAST_PERIOD:]\n",
    "    all_train.append(train)\n",
    "    all_test.append(test)\n",
    "\n",
    "    print(train.shape,test.shape)"
   ]
  },
  {
   "cell_type": "code",
   "execution_count": 15,
   "metadata": {
    "tags": []
   },
   "outputs": [
    {
     "name": "stdout",
     "output_type": "stream",
     "text": [
      "0\n",
      "1\n",
      "2\n"
     ]
    }
   ],
   "source": [
    "# Checks\n",
    "for i in np.arange(len(all_data)):\n",
    "    print(i)\n",
    "    assert((np.log10(all_train_non_transformed[i][colPreds]+ZERO_ADDER) == all_train[i][colPreds]).all().values[0])\n",
    "    assert((np.log10(all_test_non_transformed[i][colPreds]+ZERO_ADDER) == all_test[i][colPreds]).all().values[0])"
   ]
  },
  {
   "cell_type": "code",
   "execution_count": 16,
   "metadata": {
    "tags": []
   },
   "outputs": [
    {
     "name": "stdout",
     "output_type": "stream",
     "text": [
      "Start of Fit.....\n",
      "    Target variable = 9L Cases\n",
      "Start of loading of data.....\n",
      "Input is data frame. Performing Time Series Analysis\n",
      "    Dataframe loaded successfully. Shape of data set = (79, 3)\n",
      "Time Interval of obserations has not been provided. Program will try to figure this out now...\n",
      "Time series input in days = 30\n",
      "It is a Monthly time series.\n",
      "\n",
      "\n",
      "==================================================\n",
      "Building SARIMAX Model\n",
      "==================================================\n",
      "\n",
      "\n",
      "\u001b[1m\n",
      "Running Seasonal SARIMAX Model...\u001b[0m\n",
      "Shape (manual split): (78, 3) (1, 3)\n",
      "Shape using CV: (78, 3) (1, 3)\n",
      "\u001b[1mBuilding a Seasonal Model...\u001b[0m\n",
      "\u001b[1m\n",
      "    Finding best Non-Seasonal pdq Parameters:\u001b[0m\n",
      "\n",
      "Differencing = 0 with Seasonality = False\n",
      "    Iteration 0 completed...\n",
      "    Best AR order p = 1, MA order q = 3, Interim metric = 201.745\n",
      "\n",
      "Differencing = 1 with Seasonality = True\n",
      "    D = 1 results in an empty ARMA set. Setting Seasonality to False since model might overfit\n",
      "\u001b[1m\n",
      "    Finding best Seasonal PDQ Model Parameters:\u001b[0m\n",
      "\n",
      "Differencing = 0 with Seasonality = True\n",
      "    Iteration 0 completed...\n",
      "    Best AR order p = 0, MA order q = 3, Interim metric = 116.573\n",
      "\n",
      "Differencing = 1 with Seasonality = True\n",
      "    Best AR order p = 2, MA order q = 3, Interim metric = 76.822\n",
      "\n",
      "Best model is a Seasonal SARIMAX(1,0,3)*(2,1,3,12), aic = 76.822\n",
      "\u001b[1mFitting best SARIMAX model\u001b[0m\n",
      "    Best aic metric = 78.3\n",
      "\u001b[1mRefitting data with previously found best parameters\u001b[0m\n",
      "    Best aic metric = 77.7\n",
      "Dynamic 1-Period Forecast:\n",
      "    RMSE = 0.94\n",
      "    Std Deviation of Originals = 1.25\n",
      "    Normalized RMSE = 75%\n",
      "\n",
      "\n",
      "==================================================\n",
      "Building ML Model\n",
      "==================================================\n",
      "\n",
      "\n",
      "\u001b[1m\n",
      "Running Machine Learning Models...\u001b[0m\n",
      "    Shifting 2 predictors by lag=0 to align prior predictor with current target...\n",
      "Running multiple models...\n",
      "    RMSE = 1.22\n",
      "    Std Deviation of Originals = 1.25\n",
      "    Normalized RMSE = 98%\n",
      "\u001b[1m\n",
      "Best Model is: \u001b[0mSARIMAX\n",
      "    Best Model Score: 0.94\n",
      "    Best Model Forecasts (Validation Set):\n",
      "9L Cases       mean   mean_se  mean_ci_lower  mean_ci_upper\n",
      "2019-11-30  1.71623  0.684768       0.374108       3.058351\n",
      "\n",
      "\n",
      "--------------------------------------------------\n",
      "Total time taken: 246.63568472862244 seconds.\n",
      "--------------------------------------------------\n",
      "\n",
      "\n",
      "Start of Fit.....\n",
      "    Target variable = 9L Cases\n",
      "Start of loading of data.....\n",
      "Input is data frame. Performing Time Series Analysis\n",
      "    Dataframe loaded successfully. Shape of data set = (81, 3)\n",
      "Time Interval of obserations has not been provided. Program will try to figure this out now...\n",
      "Time series input in days = 30\n",
      "It is a Monthly time series.\n",
      "\n",
      "\n",
      "==================================================\n",
      "Building SARIMAX Model\n",
      "==================================================\n",
      "\n",
      "\n",
      "\u001b[1m\n",
      "Running Seasonal SARIMAX Model...\u001b[0m\n",
      "Shape (manual split): (80, 3) (1, 3)\n",
      "Shape using CV: (80, 3) (1, 3)\n",
      "\u001b[1mBuilding a Seasonal Model...\u001b[0m\n",
      "\u001b[1m\n",
      "    Finding best Non-Seasonal pdq Parameters:\u001b[0m\n",
      "\n",
      "Differencing = 0 with Seasonality = False\n",
      "    Iteration 0 completed...\n",
      "    Best AR order p = 3, MA order q = 3, Interim metric = 257.949\n",
      "\n",
      "Differencing = 1 with Seasonality = True\n",
      "    D = 1 results in an empty ARMA set. Setting Seasonality to False since model might overfit\n",
      "\u001b[1m\n",
      "    Finding best Seasonal PDQ Model Parameters:\u001b[0m\n",
      "\n",
      "Differencing = 0 with Seasonality = True\n",
      "    Iteration 0 completed...\n",
      "    Best AR order p = 3, MA order q = 1, Interim metric = 133.994\n",
      "\n",
      "Differencing = 1 with Seasonality = True\n",
      "    Best AR order p = 3, MA order q = 0, Interim metric = 100.021\n",
      "\n",
      "Best model is a Seasonal SARIMAX(3,0,3)*(3,1,0,12), aic = 100.021\n",
      "\u001b[1mFitting best SARIMAX model\u001b[0m\n",
      "    Best aic metric = 99.6\n",
      "\u001b[1mRefitting data with previously found best parameters\u001b[0m\n",
      "    Best aic metric = 105.9\n",
      "Dynamic 1-Period Forecast:\n",
      "    RMSE = 2.45\n",
      "    Std Deviation of Originals = 1.34\n",
      "    Normalized RMSE = 183%\n",
      "\n",
      "\n",
      "==================================================\n",
      "Building ML Model\n",
      "==================================================\n",
      "\n",
      "\n",
      "\u001b[1m\n",
      "Running Machine Learning Models...\u001b[0m\n",
      "    Shifting 2 predictors by lag=0 to align prior predictor with current target...\n",
      "Running multiple models...\n",
      "    RMSE = 2.28\n",
      "    Std Deviation of Originals = 1.33\n",
      "    Normalized RMSE = 171%\n",
      "\u001b[1m\n",
      "Best Model is: \u001b[0mML\n",
      "    Best Model Score: 2.28\n",
      "    Best Model Forecasts (Validation Set):\n",
      "0    1.283724\n",
      "Name: mean, dtype: float64\n",
      "\n",
      "\n",
      "--------------------------------------------------\n",
      "Total time taken: 340.0582048892975 seconds.\n",
      "--------------------------------------------------\n",
      "\n",
      "\n",
      "Start of Fit.....\n",
      "    Target variable = 9L Cases\n",
      "Start of loading of data.....\n",
      "Input is data frame. Performing Time Series Analysis\n",
      "    Dataframe loaded successfully. Shape of data set = (38, 3)\n",
      "Time Interval of obserations has not been provided. Program will try to figure this out now...\n",
      "Time series input in days = 30\n",
      "It is a Monthly time series.\n",
      "\n",
      "\n",
      "==================================================\n",
      "Building SARIMAX Model\n",
      "==================================================\n",
      "\n",
      "\n",
      "\u001b[1m\n",
      "Running Seasonal SARIMAX Model...\u001b[0m\n",
      "Shape (manual split): (37, 3) (1, 3)\n",
      "Shape using CV: (37, 3) (1, 3)\n",
      "\u001b[1mBuilding a Seasonal Model...\u001b[0m\n",
      "\u001b[1m\n",
      "    Finding best Non-Seasonal pdq Parameters:\u001b[0m\n",
      "\n",
      "Differencing = 0 with Seasonality = False\n",
      "    Iteration 0 completed...\n",
      "    Best AR order p = 0, MA order q = 3, Interim metric = 98.113\n",
      "\n",
      "Differencing = 1 with Seasonality = True\n",
      "    D = 1 results in an empty ARMA set. Setting Seasonality to False since model might overfit\n",
      "\u001b[1m\n",
      "    Finding best Seasonal PDQ Model Parameters:\u001b[0m\n",
      "\n",
      "Differencing = 0 with Seasonality = True\n",
      "    Iteration 0 completed...\n",
      "    Best AR order p = 3, MA order q = 0, Interim metric = -0.358\n",
      "\n",
      "Differencing = 1 with Seasonality = True\n",
      "    Best AR order p = 2, MA order q = 0, Interim metric = 3.797\n",
      "\n",
      "Best model is a Seasonal SARIMAX(0,0,3)*(3,0,0,12), aic = -0.358\n",
      "\u001b[1mFitting best SARIMAX model\u001b[0m\n",
      "    Best aic metric = 15.3\n",
      "\u001b[1mRefitting data with previously found best parameters\u001b[0m\n",
      "    Best aic metric = 18.2\n",
      "Dynamic 1-Period Forecast:\n",
      "    RMSE = 0.74\n",
      "    Std Deviation of Originals = 1.15\n",
      "    Normalized RMSE = 64%\n",
      "\n",
      "\n",
      "==================================================\n",
      "Building ML Model\n",
      "==================================================\n",
      "\n",
      "\n",
      "\u001b[1m\n",
      "Running Machine Learning Models...\u001b[0m\n",
      "    Shifting 2 predictors by lag=0 to align prior predictor with current target...\n",
      "Running multiple models...\n",
      "    RMSE = 1.26\n",
      "    Std Deviation of Originals = 1.14\n",
      "    Normalized RMSE = 111%\n",
      "\u001b[1m\n",
      "Best Model is: \u001b[0mSARIMAX\n",
      "    Best Model Score: 0.74\n",
      "    Best Model Forecasts (Validation Set):\n",
      "9L Cases       mean   mean_se  mean_ci_lower  mean_ci_upper\n",
      "2019-11-30  0.53141  0.013633        0.50469        0.55813\n",
      "\n",
      "\n",
      "--------------------------------------------------\n",
      "Total time taken: 61.47596263885498 seconds.\n",
      "--------------------------------------------------\n",
      "\n",
      "\n"
     ]
    }
   ],
   "source": [
    "for i, data in enumerate(all_data):\n",
    "    train = all_train[i]\n",
    "    test = all_test[i]\n",
    "\n",
    "    automl_model = AT.AutoTimeSeries(\n",
    "        score_type='rmse', forecast_period=FORECAST_PERIOD, # time_interval='Week',\n",
    "        non_seasonal_pdq=None, seasonality=True, seasonal_period=SEASONAL_PERIOD,\n",
    "        model_type=['SARIMAX','ML'],\n",
    "        verbose=0)\n",
    "    automl_model.fit(train, 'WeekDate', '9L Cases', ',')\n",
    "    automl_model.get_leaderboard()\n",
    "    all_models.append(automl_model)"
   ]
  },
  {
   "cell_type": "code",
   "execution_count": 17,
   "metadata": {
    "tags": []
   },
   "outputs": [
    {
     "name": "stdout",
     "output_type": "stream",
     "text": [
      "\n",
      "\n",
      "--------------------------------------------------\n",
      "Product: JACK DANIELS BLK WHSKY  1.75L\n",
      "--------------------------------------------------\n",
      "\n",
      "Leaderboard\n",
      "      name      rmse\n",
      "0  SARIMAX  0.941713\n",
      "1       ML  1.216537\n",
      "\n",
      "\n",
      "--------------------------------------------------\n",
      "Product: JACK DANIELS BLK WHSKY 3PK W/2L COKE 1.75L\n",
      "--------------------------------------------------\n",
      "\n",
      "Leaderboard\n",
      "      name      rmse\n",
      "1       ML  2.283724\n",
      "0  SARIMAX  2.449977\n",
      "\n",
      "\n",
      "--------------------------------------------------\n",
      "Product: JACK DANIELS BLK WHSKY 6PK W/MEXI COKE 750M\n",
      "--------------------------------------------------\n",
      "\n",
      "Leaderboard\n",
      "      name      rmse\n",
      "0  SARIMAX  0.738103\n",
      "1       ML  1.260599\n"
     ]
    }
   ],
   "source": [
    "for i in np.arange(len(all_data)):\n",
    "    print(\"\\n\")\n",
    "    print(\"-\"*50)\n",
    "    print(f\"Product: {colDec.get(str(i))}\")\n",
    "    print(\"-\"*50)\n",
    "    print(\"\\nLeaderboard\")\n",
    "    print(all_models[i].get_leaderboard())"
   ]
  },
  {
   "cell_type": "markdown",
   "metadata": {},
   "source": [
    "# Prediction"
   ]
  },
  {
   "cell_type": "code",
   "execution_count": 18,
   "metadata": {
    "tags": []
   },
   "outputs": [
    {
     "name": "stdout",
     "output_type": "stream",
     "text": [
      "\n",
      "\n",
      "--------------------------------------------------\n",
      "Product: JACK DANIELS BLK WHSKY  1.75L\n",
      "--------------------------------------------------\n",
      "\n",
      "Test Data (Original)\n",
      "     WeekDate  9L Cases           0           1\n",
      "79 2019-12-31     210.6  185.589744  182.017241\n",
      "\n",
      "Test Data (Transformed)\n",
      "     WeekDate  9L Cases           0           1\n",
      "79 2019-12-31  2.323665  185.589744  182.017241\n",
      "\n",
      "Best Prediction (Transformed)\n",
      "4.193311035709847\n",
      "\n",
      "Best Prediction (Original)\n",
      "15606.69832850723\n",
      "\n",
      "ML Predictions (Transformed)\n",
      "0    1.991054\n",
      "Name: mean, dtype: float64\n",
      "\n",
      "ML Predictions (Original)\n",
      "0    97.961101\n",
      "Name: mean, dtype: float64\n",
      "\n",
      "SARIMAX Predictions (Transformed)\n",
      "4.193311035709847\n",
      "\n",
      "SARIMAX Predictions (Original)\n",
      "15606.69832850723\n",
      "\n",
      "\n",
      "--------------------------------------------------\n",
      "Product: JACK DANIELS BLK WHSKY 3PK W/2L COKE 1.75L\n",
      "--------------------------------------------------\n",
      "\n",
      "Test Data (Original)\n",
      "     WeekDate  9L Cases           1           0\n",
      "81 2019-12-31       0.0  182.017241  185.589744\n",
      "\n",
      "Test Data (Transformed)\n",
      "     WeekDate  9L Cases           1           0\n",
      "81 2019-12-31      -1.0  182.017241  185.589744\n",
      "\n",
      "Best Prediction (Transformed)\n",
      "0    1.283724\n",
      "Name: mean, dtype: float64\n",
      "\n",
      "Best Prediction (Original)\n",
      "0    19.218679\n",
      "Name: mean, dtype: float64\n",
      "\n",
      "ML Predictions (Transformed)\n",
      "0    1.283724\n",
      "Name: mean, dtype: float64\n",
      "\n",
      "ML Predictions (Original)\n",
      "0    19.218679\n",
      "Name: mean, dtype: float64\n",
      "\n",
      "SARIMAX Predictions (Transformed)\n",
      "2.827843518989294\n",
      "\n",
      "SARIMAX Predictions (Original)\n",
      "672.7342191772315\n",
      "\n",
      "\n",
      "--------------------------------------------------\n",
      "Product: JACK DANIELS BLK WHSKY 6PK W/MEXI COKE 750M\n",
      "--------------------------------------------------\n",
      "\n",
      "Test Data (Original)\n",
      "     WeekDate  9L Cases       2           1\n",
      "38 2019-12-31      76.0  222.36  182.017241\n",
      "\n",
      "Test Data (Transformed)\n",
      "     WeekDate  9L Cases       2           1\n",
      "38 2019-12-31  1.881385  222.36  182.017241\n",
      "\n",
      "Best Prediction (Transformed)\n",
      "0.2941945519547335\n",
      "\n",
      "Best Prediction (Original)\n",
      "1.9687680459980563\n",
      "\n",
      "ML Predictions (Transformed)\n",
      "0    0.008914\n",
      "Name: mean, dtype: float64\n",
      "\n",
      "ML Predictions (Original)\n",
      "0    1.020737\n",
      "Name: mean, dtype: float64\n",
      "\n",
      "SARIMAX Predictions (Transformed)\n",
      "0.2941945519547335\n",
      "\n",
      "SARIMAX Predictions (Original)\n",
      "1.9687680459980563\n"
     ]
    }
   ],
   "source": [
    "for i in np.arange(len(all_data)):\n",
    "    print(\"\\n\")\n",
    "    print(\"-\"*50)\n",
    "    print(f\"Product: {colDec.get(str(i))}\")\n",
    "    print(\"-\"*50)\n",
    "    print(\"\\nTest Data (Original)\")\n",
    "    print(all_test_non_transformed[i])\n",
    "    print(\"\\nTest Data (Transformed)\")\n",
    "    print(all_test[i])\n",
    "    \n",
    "    test_predictions = all_models[i].predict(X_exogen = all_test[i])\n",
    "    print(\"\\nBest Prediction (Transformed)\")\n",
    "    print(test_predictions)\n",
    "    if LOG_TRANSFORM:\n",
    "        print(\"\\nBest Prediction (Original)\")\n",
    "        test_predictions = 10**test_predictions\n",
    "        print(test_predictions)\n",
    "    \n",
    "    \n",
    "    test_predictions = all_models[i].predict(X_exogen = all_test[i], model='ML')  \n",
    "    print(\"\\nML Predictions (Transformed)\")\n",
    "    print(test_predictions)\n",
    "    if LOG_TRANSFORM:\n",
    "        print(\"\\nML Predictions (Original)\")\n",
    "        test_predictions = 10**test_predictions\n",
    "        print(test_predictions)\n",
    "    \n",
    "    print(\"\\nSARIMAX Predictions (Transformed)\")\n",
    "    test_predictions = all_models[i].predict(X_exogen = all_test[i], model='SARIMAX') \n",
    "    print(test_predictions)\n",
    "    if LOG_TRANSFORM:\n",
    "        print(\"\\nSARIMAX Predictions (Original)\")\n",
    "        test_predictions = 10**test_predictions\n",
    "        print(test_predictions)\n"
   ]
  },
  {
   "cell_type": "markdown",
   "metadata": {},
   "source": [
    "# Optimizer"
   ]
  },
  {
   "cell_type": "code",
   "execution_count": 19,
   "metadata": {
    "tags": []
   },
   "outputs": [],
   "source": [
    "def complex_objective(x: List, mask: Optional[List[bool]] = None, verbose: int = 0, return_individual: bool = False, logT = False):\n",
    "    \"\"\"\n",
    "    :param x A list of product pricing for which the revenue has to be computed\n",
    "    :type x List\n",
    "    :param mask: If the customer is not going to purchase a product in a period, we can choose to omit it from the revenue calculation in the optimizer.\n",
    "                 Default = None (considers all products in revenue calculation)\n",
    "    :type mask  Optional[List[bool]]\n",
    "    :param return_individual If True, this returns the individual revenue values as well\n",
    "                             Used mainly when this function is called standalone. Set of False for optimization\n",
    "    :type return_individual bool\n",
    "    :param verbose Level of verbosity (Default: 0). This is set to 1 or 2 (mainly for debug purposes)\n",
    "    \"\"\"\n",
    "\n",
    "    index = [str(i) for i in np.arange(len(x))]\n",
    "    x_df = pd.DataFrame(x, index = index)\n",
    "    x_df = x_df.T\n",
    "\n",
    "    # If mask is not provided, use all\n",
    "    if mask is None:\n",
    "        mask = [False for item in x] \n",
    "\n",
    "    if verbose >= 2:\n",
    "        print(x_df.info())\n",
    "        print(x_df.columns)\n",
    "\n",
    "    total_revenue = 0\n",
    "    revenue = []\n",
    "\n",
    "    for i in np.arange(len(all_data)):\n",
    "        if verbose >= 1:\n",
    "            print(\"\\n\" + \"-\"*50)\n",
    "            print(f\"Product Index: {i}\")\n",
    "        \n",
    "        if not mask[i]:\n",
    "            columns = all_data[i].columns[-(TOP_SIMILAR+1):].values\n",
    "            if verbose >= 2:\n",
    "                print(f\"All Columns in Test Data: {columns}\")\n",
    "\n",
    "            test_data = x_df[columns]\n",
    "            prediction = all_models[i].predict(X_exogen = test_data)\n",
    "            \n",
    "            if verbose >= 2:\n",
    "                print(f\"Prediction Type: {type(prediction)}\")\n",
    "            if verbose >= 1:\n",
    "                print(f\"Demand Prediction (transformed): {prediction}\")\n",
    "\n",
    "            # If model was created with log transformation\n",
    "            if logT:\n",
    "                prediction = 10**prediction\n",
    "                if verbose >= 1:\n",
    "                    print(\"\\nDemand Prediction (Original)\")\n",
    "                    print(prediction)\n",
    "                \n",
    "            product_revenue = prediction * x[i]\n",
    "\n",
    "            # TODO: Clamping - Fix later (this gives an error with pandas. We need to pluck it out as a value)\n",
    "            # product_revenue = max(product_revenue, 0)  # Clamp at min value of 0 for predictions that are negative\n",
    "\n",
    "            if verbose >= 1:\n",
    "                print(f\"Product Revenue: ${round(product_revenue)}\")\n",
    "                                \n",
    "            if isinstance(product_revenue, pd.Series):\n",
    "                product_revenue = product_revenue.iloc[0]\n",
    "            revenue.append(product_revenue)\n",
    "                \n",
    "            # total_revenue = total_revenue + product_revenue\n",
    "        else:\n",
    "            if verbose >= 1:\n",
    "                print(\"This product's revenue was not included since it was not ordered by the customer in this period.\")\n",
    "            product_revenue = 0\n",
    "            revenue.append(product_revenue)\n",
    "\n",
    "        if verbose >= 1:\n",
    "            print(\"-\"*50 + \"\\n\")\n",
    "        \n",
    "    total_revenue = sum(revenue)\n",
    "\n",
    "    if verbose >= 1:\n",
    "        print(\"\\n\\n\" + \"=\"*50)\n",
    "        print(f\"Total Revenue: ${round(total_revenue)}\")\n",
    "        print(\"=\"*50 + \"\\n\\n\")\n",
    "\n",
    "    if return_individual is True:\n",
    "        return -total_revenue, revenue      \n",
    "\n",
    "    return -total_revenue\n",
    "    "
   ]
  },
  {
   "cell_type": "code",
   "execution_count": 20,
   "metadata": {
    "tags": []
   },
   "outputs": [
    {
     "name": "stdout",
     "output_type": "stream",
     "text": [
      "Mask: [False, False, False]\n"
     ]
    }
   ],
   "source": [
    "# Did the customer actually want to but products in that period?\n",
    "# Only include the revenue in the objective if they actually ordered it\n",
    "# This model is not trying to predict if they would purchase a product when they were not going to purchase it earlier.\n",
    "# That requires a lot of human psychology and may not be captured in the model\n",
    "\n",
    "INCLUDE_MASKING = True\n",
    "\n",
    "mask: List[bool] = []\n",
    "for index in np.arange(len(all_data)):\n",
    "    if INCLUDE_MASKING:\n",
    "        if all_test[index].iloc[0]['9L Cases'] == 0:\n",
    "            mask.append(True)\n",
    "        else:\n",
    "            mask.append(False)\n",
    "    else:\n",
    "        mask.append(False)\n",
    "\n",
    "print(f\"Mask: {mask}\")"
   ]
  },
  {
   "cell_type": "code",
   "execution_count": 21,
   "metadata": {},
   "outputs": [
    {
     "data": {
      "text/plain": [
       "[Real(low=163.48871356563666, high=195.64102564102566, prior='uniform', transform='identity'),\n",
       " Real(low=164.55172413793105, high=197.32758620689657, prior='uniform', transform='identity'),\n",
       " Real(low=210.36, high=229.32, prior='uniform', transform='identity')]"
      ]
     },
     "execution_count": 21,
     "metadata": {},
     "output_type": "execute_result"
    }
   ],
   "source": [
    "MARGIN = 0.0 # How much to go over or under the min and max price respectively during the search for optimial revenue\n",
    "space = []\n",
    "\n",
    "for index in np.arange(len(all_data)):\n",
    "    min_val = all_data[index][str(index)].min()\n",
    "    max_val = all_data[index][str(index)].max()\n",
    "    min_limit = min_val*(1-MARGIN)\n",
    "    max_limit = max_val*(1+MARGIN)\n",
    "    # print(min_val, max_val)\n",
    "    # print(min_limit, max_limit)\n",
    "    space.append(Real(low=min_limit, high=max_limit, prior='uniform'))\n",
    "\n",
    "space"
   ]
  },
  {
   "cell_type": "code",
   "execution_count": 22,
   "metadata": {
    "tags": []
   },
   "outputs": [
    {
     "name": "stdout",
     "output_type": "stream",
     "text": [
      "Revenue without masking: $108639179.0\n",
      "Revenue with masking: $108639179.0\n"
     ]
    }
   ],
   "source": [
    "# create a new function with mask\n",
    "masked_complex_objective = partial(complex_objective, mask=mask, logT=LOG_TRANSFORM)\n",
    "print(f\"Revenue without masking: ${-round(complex_objective([266.51, 195.06, 205.3], logT=LOG_TRANSFORM))}\")\n",
    "print(f\"Revenue with masking: ${-round(masked_complex_objective([266.51, 195.06, 205.3]))}\")"
   ]
  },
  {
   "cell_type": "code",
   "execution_count": 23,
   "metadata": {},
   "outputs": [],
   "source": [
    "res = gp_minimize(masked_complex_objective,   \n",
    "                  space,                      \n",
    "                  acq_func=\"EI\",              \n",
    "                  n_calls=200,                \n",
    "                  n_random_starts=20,  \n",
    "                  random_state=42)     "
   ]
  },
  {
   "cell_type": "code",
   "execution_count": 24,
   "metadata": {
    "tags": []
   },
   "outputs": [
    {
     "name": "stdout",
     "output_type": "stream",
     "text": [
      "Optimal Price for All Products ($): [193.67, 164.58, 229.17] \n",
      "Maximum Revenue Expected: $986060063.0\n",
      "Individual Optimized Revenue: [986056891.4917785, 3162.9573430710943, 8.67927100469014]\n"
     ]
    }
   ],
   "source": [
    "print(f\"Optimal Price for All Products ($): {[round(price, 2) for price in res.x]} \\nMaximum Revenue Expected: ${round(-res.fun)}\")\n",
    "_, all_revenue = masked_complex_objective(res.x, return_individual=True)\n",
    "print(f\"Individual Optimized Revenue: {all_revenue}\")"
   ]
  },
  {
   "cell_type": "code",
   "execution_count": 25,
   "metadata": {
    "tags": []
   },
   "outputs": [
    {
     "name": "stdout",
     "output_type": "stream",
     "text": [
      "Product 0 Price 9L Case: $185.59 Revenue: $39085.0\n",
      "Product 1 Price 9L Case: $182.02 Revenue: $0.0\n",
      "Product 2 Price 9L Case: $222.36 Revenue: $16899.0\n",
      "Total Revenue: $55985.0\n"
     ]
    }
   ],
   "source": [
    "# 3. Reserve a test set - compute revenue from test set and compare to the one from the optimizer\n",
    "# This is only for the 1st entry in the test set\n",
    "\n",
    "total_test_data_revenue = 0\n",
    "for index in np.arange(len(all_data)):\n",
    "    product_price = all_test_non_transformed[index].iloc[0][str(index)]\n",
    "    product_demand = all_test_non_transformed[index].iloc[0]['9L Cases']\n",
    "    product_revenue = product_price * product_demand\n",
    "    print(f\"Product {index} Price 9L Case: ${round(product_price,2)} Revenue: ${round(product_revenue)}\")\n",
    "    total_test_data_revenue = total_test_data_revenue + product_revenue\n",
    "    \n",
    "print(f\"Total Revenue: ${round(total_test_data_revenue)}\")\n",
    "\n",
    "# Also, some things dont make sense.\n",
    "# The models are grosely underestimating the demand (as can be seen by the predictions above)"
   ]
  },
  {
   "cell_type": "code",
   "execution_count": 26,
   "metadata": {},
   "outputs": [
    {
     "data": {
      "text/plain": [
       "<matplotlib.axes._subplots.AxesSubplot at 0x20775a30808>"
      ]
     },
     "execution_count": 26,
     "metadata": {},
     "output_type": "execute_result"
    },
    {
     "data": {
      "image/png": "[encoded data removed]",
      "text/plain": [
       "<Figure size 432x288 with 1 Axes>"
      ]
     },
     "metadata": {},
     "output_type": "display_data"
    }
   ],
   "source": [
    "plot_convergence(res)"
   ]
  },
  {
   "cell_type": "markdown",
   "metadata": {},
   "source": [
    "# TODO\n",
    "\n",
    "1. Build a baseline model for all products (maybe average of last 2 years (same period) and Compare the performance of automl models to baseline models\n",
    "2. Compute revenue expected with baseline models and compare to the one from the optimizer\n",
    "3. [DONE] Reserve a test set - compute revenue from test set and compare to the one from the optimizer\n",
    "4. [DONE] If using test set, add masking option in optimizer (i.e. if the customer has not purchased a product in that period, then maybe mask out that revenue instead of taking what the model is giving. That should give us a more reasonable estimate.)\n",
    "5. Add 3D surface plot of revenue vs product pricing (plotly)\n",
    "6. Consider taking more \"similar\" products into consideration"
   ]
  },
  {
   "cell_type": "code",
   "execution_count": 27,
   "metadata": {
    "tags": []
   },
   "outputs": [
    {
     "name": "stdout",
     "output_type": "stream",
     "text": [
      "[164 169 174 179 184 189 194]\n",
      "[165 170 175 180 185 190 195]\n"
     ]
    }
   ],
   "source": [
    "math.ceil(space[0].low)\n",
    "math.floor(space[0].high)\n",
    "xs = np.arange(math.ceil(space[0].low), math.floor(space[0].high), step=5)\n",
    "ys = np.arange(math.ceil(space[1].low), math.floor(space[1].high), step=5)\n",
    "\n",
    "print(xs)\n",
    "print(ys)"
   ]
  },
  {
   "cell_type": "code",
   "execution_count": 28,
   "metadata": {},
   "outputs": [
    {
     "data": {
      "text/plain": [
       "'SUPPREMWHISKEY'"
      ]
     },
     "execution_count": 28,
     "metadata": {},
     "output_type": "execute_result"
    }
   ],
   "source": [
    "\"\".join(ProdCat.split())"
   ]
  },
  {
   "cell_type": "code",
   "execution_count": 29,
   "metadata": {},
   "outputs": [
    {
     "data": {
      "text/plain": [
       "'WESTERNBEVLIQTX_SUPPREMWHISKEY_Top3_Sim1_LogTrue_Add0.1_Prod2_ResampleM_f1_s12.html'"
      ]
     },
     "execution_count": 29,
     "metadata": {},
     "output_type": "execute_result"
    }
   ],
   "source": [
    "filename = \"\".join(ChainMaster.split()) + \"_\" + \"\".join(ProdCat.split()) + \"_Top\" + str(TOP_PRODUCTS) + \"_Sim\" + str(TOP_SIMILAR) + \\\n",
    "        \"_Log\" + str(LOG_TRANSFORM) + \"_Add\" + str(ZERO_ADDER) + \\\n",
    "        \"_Prod\" + str(i) + \"_Resample\" + str(RESAMPLE_FREQ) + \"_f\" + str(FORECAST_PERIOD) + \"_s\" + str(SEASONAL_PERIOD) + \".html\"\n",
    "filename"
   ]
  },
  {
   "cell_type": "code",
   "execution_count": 30,
   "metadata": {
    "tags": []
   },
   "outputs": [
    {
     "name": "stdout",
     "output_type": "stream",
     "text": [
      "----------------------------------------------------------------------------------------------------\n",
      "Price intervals for product 0: [164 169 174 179 184 189 194]\n",
      "Price intervals for product 1: [165 170 175 180 185 190 195]\n",
      "Price intervals for product 2: [211 216 221 226]\n",
      "---------------------------------------------------------------------------------------------------- \n",
      "\n",
      "\n",
      "\n",
      "\n",
      "Product 0 --> Mask: [False, True, True]\n",
      "Products used in Model: ['0' '1']\n",
      "Price intervals used for X-axis (product 0): [164 169 174 179 184 189 194]\n",
      "Price intervals used for Y-axis (product 1): [165 170 175 180 185 190 195]\n",
      "\n",
      "\n",
      "\n",
      "Product 1 --> Mask: [True, False, True]\n",
      "Products used in Model: ['1' '0']\n",
      "Price intervals used for X-axis (product 1): [165 170 175 180 185 190 195]\n",
      "Price intervals used for Y-axis (product 0): [164 169 174 179 184 189 194]\n",
      "\n",
      "\n",
      "\n",
      "Product 2 --> Mask: [True, True, False]\n",
      "Products used in Model: ['2' '1']\n",
      "Price intervals used for X-axis (product 2): [211 216 221 226]\n",
      "Price intervals used for Y-axis (product 1): [165 170 175 180 185 190 195]\n"
     ]
    }
   ],
   "source": [
    "verbose =  1\n",
    "STEPS = 5\n",
    "\n",
    "allp = [np.arange(math.ceil(space[i].low), math.floor(space[i].high), step=STEPS) for i in np.arange(len(all_data))] \n",
    "\n",
    "if verbose >= 1:\n",
    "    print(\"-\"*100)\n",
    "    print(f\"Price intervals for product 0: {allp[0]}\")\n",
    "    print(f\"Price intervals for product 1: {allp[1]}\")\n",
    "    print(f\"Price intervals for product 2: {allp[2]}\")\n",
    "    print(\"-\"*100, \"\\n\")\n",
    "\n",
    "for i in np.arange(len(all_data)):\n",
    "    print(\"\\n\\n\")\n",
    "    mask_plot = [False if i == j else True for j in np.arange(len(all_data))]\n",
    "    if verbose >= 1:\n",
    "        print(f\"Product {i} --> Mask: {mask_plot}\")\n",
    "\n",
    "    columns = all_data[i].columns[-(TOP_SIMILAR+1):].values\n",
    "    if verbose >= 1:\n",
    "        print(f\"Products used in Model: {columns}\")\n",
    "        \n",
    "    masked_complex_objective_plot = partial(complex_objective, mask=mask_plot, logT=LOG_TRANSFORM, verbose=0)\n",
    "\n",
    "    finalx = []\n",
    "    finaly = []\n",
    "    finalrev = []\n",
    "\n",
    "    xs = allp[int(columns[0])]  # Main Product Price is in xs\n",
    "    ys = allp[int(columns[1])]  # Exogenous Product Price in in ys\n",
    "\n",
    "    if verbose >= 1:\n",
    "        print(f\"Price intervals used for X-axis (product {int(columns[0])}): {xs}\")\n",
    "        print(f\"Price intervals used for Y-axis (product {int(columns[1])}): {ys}\")\n",
    "        \n",
    "    for x, y in itertools.product(xs, ys):\n",
    "        price_list = [0, 0, 0]\n",
    "        \n",
    "        # Fix price for product 0\n",
    "        if int(columns[0]) == 0:  # If the main product is product 0\n",
    "            price_list[0] = x\n",
    "        elif int(columns[1]) == 0: # If exogenous product is product 0\n",
    "            price_list[0] = y\n",
    "        else:\n",
    "            price_list[0] = 0\n",
    "\n",
    "        # Fix price for product 1\n",
    "        if int(columns[0]) == 1:  # If the main product is product 1\n",
    "            price_list[1] = x\n",
    "        elif int(columns[1]) == 1: # If exogenous product is product 1\n",
    "            price_list[1] = y\n",
    "        else:\n",
    "            price_list[1] = 0\n",
    "\n",
    "        # Fix price for product 2\n",
    "        if int(columns[0]) == 2:  # If the main product is product 2\n",
    "            price_list[2] = x\n",
    "        elif int(columns[1]) == 2: # If exogenous product is product 2\n",
    "            price_list[2] = y\n",
    "        else:\n",
    "            price_list[2] = 0\n",
    "       \n",
    "        rev = -masked_complex_objective_plot(price_list)\n",
    "        finalx.append(x)\n",
    "        finaly.append(y)\n",
    "        finalrev.append(rev)   \n",
    "\n",
    "    fig = surface3DChart(\n",
    "        x=finalx, y=finaly, z=finalrev,\n",
    "        title= 'Product ' + columns[0] + ' Revenue',\n",
    "        xTitle= 'Product ' + columns[0] + ' Price',\n",
    "        yTitle= 'Product ' + columns[1] + ' Price',\n",
    "        width=1200,\n",
    "        height=800            \n",
    "        )\n",
    "\n",
    "    filename = \"\".join(ChainMaster.split()) + \"_\" + \"\".join(ProdCat.split()) + \"_Top\" + str(TOP_PRODUCTS) + \"_Sim\" + str(TOP_SIMILAR) + \\\n",
    "        \"_Log\" + str(LOG_TRANSFORM) + \"_Add\" + str(ZERO_ADDER) + \\\n",
    "        \"_Prod\" + str(i) + \"_Resample\" + str(RESAMPLE_FREQ) + \"_f\" + str(FORECAST_PERIOD) + \"_s\" + str(SEASONAL_PERIOD) + \".html\"\n",
    "    py.plot(fig, filename = filename)\n"
   ]
  },
  {
   "cell_type": "code",
   "execution_count": null,
   "metadata": {},
   "outputs": [],
   "source": []
  }
 ],
 "metadata": {
  "kernelspec": {
   "display_name": "Python 3",
   "language": "python",
   "name": "python3"
  },
  "language_info": {
   "codemirror_mode": {
    "name": "ipython",
    "version": 3
   },
   "file_extension": ".py",
   "mimetype": "text/x-python",
   "name": "python",
   "nbconvert_exporter": "python",
   "pygments_lexer": "ipython3",
   "version": "3.7.7"
  },
  "toc-autonumbering": true,
  "toc-showtags": false
 },
 "nbformat": 4,
 "nbformat_minor": 4
}
