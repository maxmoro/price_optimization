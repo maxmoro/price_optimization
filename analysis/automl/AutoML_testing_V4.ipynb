{
 "cells": [
  {
   "cell_type": "markdown",
   "metadata": {},
   "source": [
    "# Init"
   ]
  },
  {
   "cell_type": "code",
   "execution_count": 69,
   "metadata": {},
   "outputs": [],
   "source": [
    "import pandas as pd\n",
    "import numpy as np\n",
    "import os\n",
    "import math\n",
    "import matplotlib.pyplot as plt\n",
    "import glob\n",
    "from scipy.spatial.distance import euclidean, pdist, squareform\n",
    "import sys\n",
    "import sys\n",
    "import os\n",
    "sys.path.append(os.environ['DEV_AUTOTS'])\n",
    "sys.path.append(os.environ['CAPSTONE_PYTHON_SOURCE'])\n",
    "folder = os.environ['CAPSTONE_DATA']\n"
   ]
  },
  {
   "cell_type": "code",
   "execution_count": 70,
   "metadata": {},
   "outputs": [
    {
     "name": "stdout",
     "output_type": "stream",
     "text": [
      "The autoreload extension is already loaded. To reload it, use:\n",
      "  %reload_ext autoreload\n"
     ]
    }
   ],
   "source": [
    "%load_ext autoreload\n",
    "%autoreload 2\n"
   ]
  },
  {
   "cell_type": "code",
   "execution_count": 71,
   "metadata": {},
   "outputs": [],
   "source": [
    "from ETL.ETL import loadDataset, getTopProducts\n",
    "from similarity.similarity import mergeTopSimilar, loadSimilarity\n",
    "dataRaw= loadDataset(version=4)\n",
    "dfSimilarity = loadSimilarity(version=4)\n"
   ]
  },
  {
   "cell_type": "markdown",
   "metadata": {},
   "source": [
    "# Prep Data"
   ]
  },
  {
   "cell_type": "code",
   "execution_count": 72,
   "metadata": {},
   "outputs": [
    {
     "data": {
      "text/plain": [
       "['JACK DANIELS BLK WHSKY  1L',\n",
       " 'JACK DANIELS BLK WHSKY  1.75L',\n",
       " 'JACK DANIELS BLK WHSKY  750M',\n",
       " 'BUFFALO TRACE BOURBON  1L',\n",
       " 'WL WELLER BBN RSV  1.75L']"
      ]
     },
     "execution_count": 72,
     "metadata": {},
     "output_type": "execute_result"
    }
   ],
   "source": [
    "#Parameters\n",
    "ChainMaster = 'SPECS'\n",
    "ProdCat='SUP PREM WHISKEY'\n",
    "ProductsList = getTopProducts(dataRaw,ChainMaster=ChainMaster,ProdCat=ProdCat,topN=5,timeCol='WeekDate')\n",
    "ProductsList"
   ]
  },
  {
   "cell_type": "code",
   "execution_count": 73,
   "metadata": {},
   "outputs": [
    {
     "name": "stdout",
     "output_type": "stream",
     "text": [
      "['0', '1', '2']\n",
      "{'0': 'JACK DANIELS BLK WHSKY  1L', '1': 'JACK DANIELS BLK WHSKY  1.75L', '2': 'JACK DANIELS BLK WHSKY  750M', '3': 'BUFFALO TRACE BOURBON  1L', '4': 'WL WELLER BBN RSV  1.75L'}\n"
     ]
    },
    {
     "data": {
      "text/html": [
       "<div>\n",
       "<style scoped>\n",
       "    .dataframe tbody tr th:only-of-type {\n",
       "        vertical-align: middle;\n",
       "    }\n",
       "\n",
       "    .dataframe tbody tr th {\n",
       "        vertical-align: top;\n",
       "    }\n",
       "\n",
       "    .dataframe thead th {\n",
       "        text-align: right;\n",
       "    }\n",
       "</style>\n",
       "<table border=\"1\" class=\"dataframe\">\n",
       "  <thead>\n",
       "    <tr style=\"text-align: right;\">\n",
       "      <th></th>\n",
       "      <th>WeekDate</th>\n",
       "      <th>9L Cases</th>\n",
       "      <th>0</th>\n",
       "      <th>1</th>\n",
       "      <th>2</th>\n",
       "    </tr>\n",
       "  </thead>\n",
       "  <tbody>\n",
       "    <tr>\n",
       "      <th>360</th>\n",
       "      <td>2019-11-28</td>\n",
       "      <td>34.58</td>\n",
       "      <td>229.533835</td>\n",
       "      <td>185.589744</td>\n",
       "      <td>185.589744</td>\n",
       "    </tr>\n",
       "    <tr>\n",
       "      <th>361</th>\n",
       "      <td>2019-12-05</td>\n",
       "      <td>37.24</td>\n",
       "      <td>229.533835</td>\n",
       "      <td>185.589744</td>\n",
       "      <td>185.589744</td>\n",
       "    </tr>\n",
       "    <tr>\n",
       "      <th>362</th>\n",
       "      <td>2019-12-12</td>\n",
       "      <td>159.60</td>\n",
       "      <td>229.533835</td>\n",
       "      <td>185.589744</td>\n",
       "      <td>222.360000</td>\n",
       "    </tr>\n",
       "    <tr>\n",
       "      <th>363</th>\n",
       "      <td>2019-12-19</td>\n",
       "      <td>35.91</td>\n",
       "      <td>229.533835</td>\n",
       "      <td>185.589744</td>\n",
       "      <td>222.360000</td>\n",
       "    </tr>\n",
       "    <tr>\n",
       "      <th>364</th>\n",
       "      <td>2019-12-26</td>\n",
       "      <td>243.39</td>\n",
       "      <td>229.533835</td>\n",
       "      <td>185.589744</td>\n",
       "      <td>222.360000</td>\n",
       "    </tr>\n",
       "  </tbody>\n",
       "</table>\n",
       "</div>"
      ],
      "text/plain": [
       "      WeekDate  9L Cases           0           1           2\n",
       "360 2019-11-28     34.58  229.533835  185.589744  185.589744\n",
       "361 2019-12-05     37.24  229.533835  185.589744  185.589744\n",
       "362 2019-12-12    159.60  229.533835  185.589744  222.360000\n",
       "363 2019-12-19     35.91  229.533835  185.589744  222.360000\n",
       "364 2019-12-26    243.39  229.533835  185.589744  222.360000"
      ]
     },
     "execution_count": 73,
     "metadata": {},
     "output_type": "execute_result"
    }
   ],
   "source": [
    "\n",
    "Product = ProductsList[0]\n",
    "colTime = 'WeekDate'\n",
    "colPreds = ['9L Cases'] #Demand\n",
    "colPrice = ['Dollar Sales per 9L Case'] #Price\n",
    "\n",
    "#TO DO:\n",
    "#Merge top similar only looking at a list of products  DONE\n",
    "#Encode before the merge? (same prods same code) DONE\n",
    "#one chain, top three products, top 1 similar DONE\n",
    "#Impute the price DONE\n",
    "(dataModel,colExog,colEnc,colDec) = mergeTopSimilar(dataRaw,dfSimilarity\n",
    "                                                    ,ChainMaster=ChainMaster\n",
    "                                                    ,Product=Product\n",
    "                                                    ,ProductsList=ProductsList\n",
    "                                                    ,topn=2 \n",
    "                                                    ,selCols = colPrice + colPreds,periodCol = colTime\n",
    "                                                    ,pivotCol='Dollar Sales per 9L Case' \n",
    "                                                    ,encodeCols=True)\n",
    "                                                                        \n",
    "#colExog = colExog + colEndog\n",
    "print(colExog)\n",
    "print(colDec)\n",
    "allCols=[colTime]+colPreds+ colExog\n",
    "data=dataModel[allCols]\n",
    "data.tail(5)"
   ]
  },
  {
   "cell_type": "code",
   "execution_count": 82,
   "metadata": {},
   "outputs": [
    {
     "name": "stdout",
     "output_type": "stream",
     "text": [
      "(361, 5) (4, 5)\n"
     ]
    }
   ],
   "source": [
    "train = data.iloc[:-4]\n",
    "test = data.iloc[-4:]\n",
    "print(train.shape,test.shape)"
   ]
  },
  {
   "cell_type": "markdown",
   "metadata": {},
   "source": [
    "# Model"
   ]
  },
  {
   "cell_type": "code",
   "execution_count": 83,
   "metadata": {},
   "outputs": [
    {
     "name": "stdout",
     "output_type": "stream",
     "text": [
      "Start of Fit.....\n",
      "    Target variable = 9L Cases\n",
      "Start of loading of data.....\n",
      "Input is data frame. Performing Time Series Analysis\n",
      "    Dataframe loaded successfully. Shape of data set = (361, 4)\n",
      "Time Interval is given as Week\n",
      "\n",
      "\n",
      "==================================================\n",
      "Building SARIMAX Model\n",
      "==================================================\n",
      "\n",
      "\n",
      "\u001b[1m\n",
      "Running Seasonal SARIMAX Model...\u001b[0m\n",
      "\u001b[1mBuilding a Seasonal Model...\u001b[0m\n",
      "\u001b[1m\n",
      "    Finding best Non-Seasonal pdq Parameters:\u001b[0m\n",
      "\n",
      "Differencing = 0 with Seasonality = False\n",
      "    Iteration 0 completed...\n",
      "Inside find_best_pdq_or_PDQ --> results_bic\n",
      "             MA0          MA1          MA2          MA3\n",
      "AR0          NaN  3573.230414  3558.635427  3542.791908\n",
      "AR1  3590.528299  3565.160696  3568.187820  3544.784693\n",
      "AR2  3578.986458  3564.321022  3557.793868  3550.745331\n",
      "AR3  3559.726451  3561.618528  3559.671861  3550.798272\n",
      "    Best AR order p = 0, MA order q = 3, Interim metric = 3542.792\n",
      "\n",
      "Differencing = 1 with Seasonality = True\n",
      "Inside find_best_pdq_or_PDQ --> results_bic\n",
      "     MA0  MA1  MA2  MA3\n",
      "AR0  NaN  NaN  NaN  NaN\n",
      "AR1  NaN  NaN  NaN  NaN\n",
      "AR2  NaN  NaN  NaN  NaN\n",
      "AR3  NaN  NaN  NaN  NaN\n",
      "    D = 1 results in an empty ARMA set. Setting Seasonality to False since model might overfit\n",
      "Seasonal Dictionary: {0: True, 1: False}\n",
      "\u001b[1m\n",
      "    Finding best Seasonal PDQ Model Parameters:\u001b[0m\n",
      "\n",
      "Differencing = 0 with Seasonality = True\n",
      "    Iteration 0 completed...\n",
      "Inside find_best_pdq_or_PDQ --> results_bic\n",
      "             MA0          MA1          MA2          MA3\n",
      "AR0          NaN  3425.728924  3315.377945  3200.427453\n",
      "AR1  3461.334524  3449.242538  3317.176763  3209.029853\n",
      "AR2  3352.403170  3354.089158  3319.433080  3204.477691\n",
      "AR3  3238.078656  3239.429306  3240.902833  3240.666375\n",
      "    Best AR order p = 0, MA order q = 3, Interim metric = 3200.427\n",
      "\n",
      "Differencing = 1 with Seasonality = True\n",
      "Inside find_best_pdq_or_PDQ --> results_bic\n",
      "             MA0          MA1          MA2          MA3\n",
      "AR0  3716.207059  3393.094048  3297.944545  3188.753296\n",
      "AR1  3490.528512  3400.266948  3275.070150  3139.301617\n",
      "AR2  3337.855372  3317.450459  3302.409644  3167.069664\n",
      "AR3  3196.183366  3186.341227  3227.611337  3156.317068\n",
      "    Best AR order p = 1, MA order q = 3, Interim metric = 3139.302\n",
      "Seasonal Dictionary: {0: True, 1: True}\n",
      "\n",
      "Best model is a Seasonal SARIMAX(0,0,3)*(1,1,3,12), aic = 3139.302\n",
      "\u001b[1mFitting best SARIMAX model\u001b[0m\n",
      "    Best aic metric = 3192.4\n",
      "\u001b[1mRefitting data with previously found best parameters\u001b[0m\n",
      "    Best aic metric = 3220.4\n",
      "Dynamic 3-Period Forecast:\n",
      "    RMSE = 23.10\n",
      "    Std Deviation of Originals = 38.10\n",
      "    Normalized RMSE = 61%\n",
      "\n",
      "\n",
      "==================================================\n",
      "Building ML Model\n",
      "==================================================\n",
      "\n",
      "\n",
      "\u001b[1m\n",
      "Running Machine Learning Models...\u001b[0m\n",
      "    Shifting 3 predictors by lag=2 to align prior predictor with current target...\n",
      "Running multiple models...\n",
      "    RMSE = 25.67\n",
      "    Std Deviation of Originals = 38.12\n",
      "    Normalized RMSE = 67%\n",
      "\u001b[1m\n",
      "Best Model is: \u001b[0mSARIMAX\n",
      "    Best Model Score: 23.10\n",
      "    Best Model Forecasts (Validation Set):\n",
      "9L Cases         mean    mean_se  mean_ci_lower  mean_ci_upper\n",
      "2019-11-14  53.668821  55.195687     -54.512738     161.850379\n",
      "2019-11-21  66.344958  58.149625     -47.626214     180.316129\n",
      "2019-11-28  66.277470  58.618005     -48.611708     181.166649\n"
     ]
    },
    {
     "data": {
      "text/plain": [
       "<auto_ts.AutoTimeSeries at 0x197c5103fc8>"
      ]
     },
     "execution_count": 83,
     "metadata": {},
     "output_type": "execute_result"
    }
   ],
   "source": [
    "import auto_ts as AT\n",
    "automl_model = AT.AutoTimeSeries(\n",
    "    score_type='rmse', forecast_period=3, time_interval='Week',\n",
    "    non_seasonal_pdq=None, seasonality=True, seasonal_period=12,\n",
    "    model_type=['SARIMAX','ML'],\n",
    "    verbose=0)\n",
    "automl_model.fit(train, 'WeekDate', '9L Cases', ',')\n",
    "\n"
   ]
  },
  {
   "cell_type": "code",
   "execution_count": 84,
   "metadata": {},
   "outputs": [
    {
     "data": {
      "text/html": [
       "<div>\n",
       "<style scoped>\n",
       "    .dataframe tbody tr th:only-of-type {\n",
       "        vertical-align: middle;\n",
       "    }\n",
       "\n",
       "    .dataframe tbody tr th {\n",
       "        vertical-align: top;\n",
       "    }\n",
       "\n",
       "    .dataframe thead th {\n",
       "        text-align: right;\n",
       "    }\n",
       "</style>\n",
       "<table border=\"1\" class=\"dataframe\">\n",
       "  <thead>\n",
       "    <tr style=\"text-align: right;\">\n",
       "      <th></th>\n",
       "      <th>name</th>\n",
       "      <th>rmse</th>\n",
       "    </tr>\n",
       "  </thead>\n",
       "  <tbody>\n",
       "    <tr>\n",
       "      <th>0</th>\n",
       "      <td>SARIMAX</td>\n",
       "      <td>23.102260</td>\n",
       "    </tr>\n",
       "    <tr>\n",
       "      <th>1</th>\n",
       "      <td>ML</td>\n",
       "      <td>25.665994</td>\n",
       "    </tr>\n",
       "  </tbody>\n",
       "</table>\n",
       "</div>"
      ],
      "text/plain": [
       "      name       rmse\n",
       "0  SARIMAX  23.102260\n",
       "1       ML  25.665994"
      ]
     },
     "execution_count": 84,
     "metadata": {},
     "output_type": "execute_result"
    }
   ],
   "source": [
    "automl_model.get_leaderboard()"
   ]
  },
  {
   "cell_type": "markdown",
   "metadata": {},
   "source": [
    "# Prediction"
   ]
  },
  {
   "cell_type": "code",
   "execution_count": 85,
   "metadata": {},
   "outputs": [
    {
     "data": {
      "text/plain": [
       "2019-12-05    47.816210\n",
       "2019-12-12    38.188549\n",
       "2019-12-19    56.237826\n",
       "2019-12-26    59.223579\n",
       "Freq: W-THU, Name: mean, dtype: float64"
      ]
     },
     "execution_count": 85,
     "metadata": {},
     "output_type": "execute_result"
    }
   ],
   "source": [
    "test_predictions = automl_model.predict(X_exogen = test)  # TODO: pass the test dataframe (exogen) - can add model = to to get a model speicifc\n",
    "test_predictions"
   ]
  },
  {
   "cell_type": "code",
   "execution_count": 87,
   "metadata": {},
   "outputs": [
    {
     "name": "stdout",
     "output_type": "stream",
     "text": [
      "0    49.066614\n",
      "1    49.179621\n",
      "2    49.170273\n",
      "3    49.258039\n",
      "Name: mean, dtype: float64\n",
      "2019-12-05    47.816210\n",
      "2019-12-12    38.188549\n",
      "2019-12-19    56.237826\n",
      "Freq: W-THU, Name: mean, dtype: float64\n"
     ]
    },
    {
     "data": {
      "text/html": [
       "<div>\n",
       "<style scoped>\n",
       "    .dataframe tbody tr th:only-of-type {\n",
       "        vertical-align: middle;\n",
       "    }\n",
       "\n",
       "    .dataframe tbody tr th {\n",
       "        vertical-align: top;\n",
       "    }\n",
       "\n",
       "    .dataframe thead th {\n",
       "        text-align: right;\n",
       "    }\n",
       "</style>\n",
       "<table border=\"1\" class=\"dataframe\">\n",
       "  <thead>\n",
       "    <tr style=\"text-align: right;\">\n",
       "      <th></th>\n",
       "      <th>WeekDate</th>\n",
       "      <th>9L Cases</th>\n",
       "      <th>0</th>\n",
       "      <th>1</th>\n",
       "      <th>2</th>\n",
       "    </tr>\n",
       "  </thead>\n",
       "  <tbody>\n",
       "    <tr>\n",
       "      <th>361</th>\n",
       "      <td>2019-12-05</td>\n",
       "      <td>37.24</td>\n",
       "      <td>229.533835</td>\n",
       "      <td>185.589744</td>\n",
       "      <td>185.589744</td>\n",
       "    </tr>\n",
       "    <tr>\n",
       "      <th>362</th>\n",
       "      <td>2019-12-12</td>\n",
       "      <td>159.60</td>\n",
       "      <td>229.533835</td>\n",
       "      <td>185.589744</td>\n",
       "      <td>222.360000</td>\n",
       "    </tr>\n",
       "    <tr>\n",
       "      <th>363</th>\n",
       "      <td>2019-12-19</td>\n",
       "      <td>35.91</td>\n",
       "      <td>229.533835</td>\n",
       "      <td>185.589744</td>\n",
       "      <td>222.360000</td>\n",
       "    </tr>\n",
       "    <tr>\n",
       "      <th>364</th>\n",
       "      <td>2019-12-26</td>\n",
       "      <td>243.39</td>\n",
       "      <td>229.533835</td>\n",
       "      <td>185.589744</td>\n",
       "      <td>222.360000</td>\n",
       "    </tr>\n",
       "  </tbody>\n",
       "</table>\n",
       "</div>"
      ],
      "text/plain": [
       "      WeekDate  9L Cases           0           1           2\n",
       "361 2019-12-05     37.24  229.533835  185.589744  185.589744\n",
       "362 2019-12-12    159.60  229.533835  185.589744  222.360000\n",
       "363 2019-12-19     35.91  229.533835  185.589744  222.360000\n",
       "364 2019-12-26    243.39  229.533835  185.589744  222.360000"
      ]
     },
     "execution_count": 87,
     "metadata": {},
     "output_type": "execute_result"
    }
   ],
   "source": [
    "test_predictions = automl_model.predict(X_exogen = test,model='ML')  # TODO: pass the test dataframe (exogen) - can add model = to to get a model speicifc\n",
    "print(test_predictions)\n",
    "test_predictions = automl_model.predict(X_exogen = test.iloc[0:3][colExog ],model='SARIMAX')  # TODO: pass the test dataframe (exogen) - can add model = to to get a model speicifc\n",
    "print(test_predictions)\n",
    "test"
   ]
  },
  {
   "cell_type": "code",
   "execution_count": null,
   "metadata": {},
   "outputs": [],
   "source": []
  }
 ],
 "metadata": {
  "kernelspec": {
   "display_name": "Python 3",
   "language": "python",
   "name": "python3"
  },
  "language_info": {
   "codemirror_mode": {
    "name": "ipython",
    "version": 3
   },
   "file_extension": ".py",
   "mimetype": "text/x-python",
   "name": "python",
   "nbconvert_exporter": "python",
   "pygments_lexer": "ipython3",
   "version": "3.7.7"
  },
  "toc-autonumbering": true,
  "toc-showtags": false
 },
 "nbformat": 4,
 "nbformat_minor": 4
}
